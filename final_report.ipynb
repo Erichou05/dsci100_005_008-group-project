{
 "cells": [
  {
   "cell_type": "code",
   "execution_count": null,
   "id": "ffe104d1-b434-48fb-aaf9-fc80e37617be",
   "metadata": {},
   "outputs": [],
   "source": []
  }
 ],
 "metadata": {
  "kernelspec": {
   "display_name": "R",
   "language": "R",
   "name": "ir"
  },
  "language_info": {
   "codemirror_mode": "r",
   "file_extension": ".r",
   "mimetype": "text/x-r-source",
   "name": "R",
   "pygments_lexer": "r",
   "version": "4.3.1"
  }
 },
 "nbformat": 4,
 "nbformat_minor": 5
}
