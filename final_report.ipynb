{
 "cells": [
  {
   "cell_type": "code",
   "execution_count": 5,
   "id": "ffe104d1-b434-48fb-aaf9-fc80e37617be",
   "metadata": {},
   "outputs": [],
   "source": [
    "# Import necessary libraries\n",
    "\n",
    "library(rvest)\n",
    "library(tidyverse)\n",
    "library(tidymodels)\n",
    "library(repr)\n",
    "options(repr.matrix.max.rows = 6)"
   ]
  },
  {
   "cell_type": "code",
   "execution_count": 6,
   "id": "345257c6-7937-48dd-81ca-65f7d8447d36",
   "metadata": {},
   "outputs": [
    {
     "name": "stderr",
     "output_type": "stream",
     "text": [
      "\u001b[1mRows: \u001b[22m\u001b[34m1014\u001b[39m \u001b[1mColumns: \u001b[22m\u001b[34m7\u001b[39m\n",
      "\u001b[36m──\u001b[39m \u001b[1mColumn specification\u001b[22m \u001b[36m────────────────────────────────────────────────────────\u001b[39m\n",
      "\u001b[1mDelimiter:\u001b[22m \",\"\n",
      "\u001b[31mchr\u001b[39m (1): RiskLevel\n",
      "\u001b[32mdbl\u001b[39m (6): Age, SystolicBP, DiastolicBP, BS, BodyTemp, HeartRate\n",
      "\n",
      "\u001b[36mℹ\u001b[39m Use `spec()` to retrieve the full column specification for this data.\n",
      "\u001b[36mℹ\u001b[39m Specify the column types or set `show_col_types = FALSE` to quiet this message.\n"
     ]
    },
    {
     "data": {
      "text/html": [
       "<table class=\"dataframe\">\n",
       "<caption>A spec_tbl_df: 1014 × 7</caption>\n",
       "<thead>\n",
       "\t<tr><th scope=col>age</th><th scope=col>systolic_blood_pressure</th><th scope=col>diastolic_blood_pressure</th><th scope=col>blood_glucose</th><th scope=col>body_temperature</th><th scope=col>heart_rate</th><th scope=col>risk_level</th></tr>\n",
       "\t<tr><th scope=col>&lt;dbl&gt;</th><th scope=col>&lt;dbl&gt;</th><th scope=col>&lt;dbl&gt;</th><th scope=col>&lt;dbl&gt;</th><th scope=col>&lt;dbl&gt;</th><th scope=col>&lt;dbl&gt;</th><th scope=col>&lt;chr&gt;</th></tr>\n",
       "</thead>\n",
       "<tbody>\n",
       "\t<tr><td>25</td><td>130</td><td>80</td><td>15</td><td> 98</td><td>86</td><td>high risk</td></tr>\n",
       "\t<tr><td>35</td><td>140</td><td>90</td><td>13</td><td> 98</td><td>70</td><td>high risk</td></tr>\n",
       "\t<tr><td>29</td><td> 90</td><td>70</td><td> 8</td><td>100</td><td>80</td><td>high risk</td></tr>\n",
       "\t<tr><td>⋮</td><td>⋮</td><td>⋮</td><td>⋮</td><td>⋮</td><td>⋮</td><td>⋮</td></tr>\n",
       "\t<tr><td>35</td><td> 85</td><td>60</td><td>19</td><td> 98</td><td>86</td><td>high risk</td></tr>\n",
       "\t<tr><td>43</td><td>120</td><td>90</td><td>18</td><td> 98</td><td>70</td><td>high risk</td></tr>\n",
       "\t<tr><td>32</td><td>120</td><td>65</td><td> 6</td><td>101</td><td>76</td><td>mid risk </td></tr>\n",
       "</tbody>\n",
       "</table>\n"
      ],
      "text/latex": [
       "A spec\\_tbl\\_df: 1014 × 7\n",
       "\\begin{tabular}{lllllll}\n",
       " age & systolic\\_blood\\_pressure & diastolic\\_blood\\_pressure & blood\\_glucose & body\\_temperature & heart\\_rate & risk\\_level\\\\\n",
       " <dbl> & <dbl> & <dbl> & <dbl> & <dbl> & <dbl> & <chr>\\\\\n",
       "\\hline\n",
       "\t 25 & 130 & 80 & 15 &  98 & 86 & high risk\\\\\n",
       "\t 35 & 140 & 90 & 13 &  98 & 70 & high risk\\\\\n",
       "\t 29 &  90 & 70 &  8 & 100 & 80 & high risk\\\\\n",
       "\t ⋮ & ⋮ & ⋮ & ⋮ & ⋮ & ⋮ & ⋮\\\\\n",
       "\t 35 &  85 & 60 & 19 &  98 & 86 & high risk\\\\\n",
       "\t 43 & 120 & 90 & 18 &  98 & 70 & high risk\\\\\n",
       "\t 32 & 120 & 65 &  6 & 101 & 76 & mid risk \\\\\n",
       "\\end{tabular}\n"
      ],
      "text/markdown": [
       "\n",
       "A spec_tbl_df: 1014 × 7\n",
       "\n",
       "| age &lt;dbl&gt; | systolic_blood_pressure &lt;dbl&gt; | diastolic_blood_pressure &lt;dbl&gt; | blood_glucose &lt;dbl&gt; | body_temperature &lt;dbl&gt; | heart_rate &lt;dbl&gt; | risk_level &lt;chr&gt; |\n",
       "|---|---|---|---|---|---|---|\n",
       "| 25 | 130 | 80 | 15 |  98 | 86 | high risk |\n",
       "| 35 | 140 | 90 | 13 |  98 | 70 | high risk |\n",
       "| 29 |  90 | 70 |  8 | 100 | 80 | high risk |\n",
       "| ⋮ | ⋮ | ⋮ | ⋮ | ⋮ | ⋮ | ⋮ |\n",
       "| 35 |  85 | 60 | 19 |  98 | 86 | high risk |\n",
       "| 43 | 120 | 90 | 18 |  98 | 70 | high risk |\n",
       "| 32 | 120 | 65 |  6 | 101 | 76 | mid risk  |\n",
       "\n"
      ],
      "text/plain": [
       "     age systolic_blood_pressure diastolic_blood_pressure blood_glucose\n",
       "1    25  130                     80                       15           \n",
       "2    35  140                     90                       13           \n",
       "3    29   90                     70                        8           \n",
       "⋮    ⋮   ⋮                       ⋮                        ⋮            \n",
       "1012 35   85                     60                       19           \n",
       "1013 43  120                     90                       18           \n",
       "1014 32  120                     65                        6           \n",
       "     body_temperature heart_rate risk_level\n",
       "1     98              86         high risk \n",
       "2     98              70         high risk \n",
       "3    100              80         high risk \n",
       "⋮    ⋮                ⋮          ⋮         \n",
       "1012  98              86         high risk \n",
       "1013  98              70         high risk \n",
       "1014 101              76         mid risk  "
      ]
     },
     "metadata": {},
     "output_type": "display_data"
    }
   ],
   "source": [
    "maternal_health <- read_csv(\"maternal_health.csv\")\n",
    "new_col_names <- c(\"age\", \n",
    "                    \"systolic_blood_pressure\", \n",
    "                    \"diastolic_blood_pressure\", \n",
    "                    \"blood_glucose\", \n",
    "                    \"body_temperature\", \n",
    "                    \"heart_rate\", \n",
    "                    \"risk_level\")\n",
    "old_col_names <- colnames(maternal_health)\n",
    "maternal_health <- maternal_health |> \n",
    "    rename_at(old_col_names, ~ new_col_names)\n",
    "maternal_health"
   ]
  },
  {
   "cell_type": "code",
   "execution_count": null,
   "id": "8028c015-5854-4c77-b02d-45ac6a6f050c",
   "metadata": {},
   "outputs": [],
   "source": []
  }
 ],
 "metadata": {
  "kernelspec": {
   "display_name": "R",
   "language": "R",
   "name": "ir"
  },
  "language_info": {
   "codemirror_mode": "r",
   "file_extension": ".r",
   "mimetype": "text/x-r-source",
   "name": "R",
   "pygments_lexer": "r",
   "version": "4.3.1"
  }
 },
 "nbformat": 4,
 "nbformat_minor": 5
}
