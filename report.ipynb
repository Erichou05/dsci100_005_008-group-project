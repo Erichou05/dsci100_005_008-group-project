{
 "cells": [
  {
   "cell_type": "markdown",
   "metadata": {},
   "source": [
    "# Heart Disease in Patients"
   ]
  },
  {
   "cell_type": "markdown",
   "metadata": {},
   "source": [
    "Syed Zain Ali, Eric Hou"
   ]
  },
  {
   "cell_type": "markdown",
   "metadata": {},
   "source": [
    "## Introduction\n",
    "\n",
    "### Background Information\n",
    "Heart disease encompasses various conditions affecting the heart, including coronary heart disease and cardiomyopathy. It is a widespread health issue globally, claiming an estimated 17.9 million lives annually, with one-third of these deaths occurring prematurely in individuals under 70 years of age. Factors such as high blood pressure and elevated cholesterol levels are associated with an increased risk of heart disease.\n",
    "\n",
    "Early identification of heart disease in patients is crucial. Therefore, this project aims to evaluate the effectiveness of predicting a patient's likelihood of having heart disease based on two primary factors: ST depression induced by exercise relative to rest and maximum heart rate. The central question addressed is: How accurately can the presence of heart disease be predicted in patients through the classification of these key factors?\n",
    "\n",
    "For exploratory data analysis (EDA), scatterplots were generated for each possible pair of numeric variables. Upon comparing these plots, a correlation was observed between the presence of heart disease, low ST depression, and high maximum heart rate. Consequently, these two variables were selected for further analysis. Classification was chosen as the algorithm for prediction, as it aims to predict the categorical class label (healthy or presence of heart disease) based on the selected variables. While exploring additional risk factors such as sex and age would have been desirable with more time and resources, the project focused on a select set of variables to maintain manageability.\n",
    "\n",
    "- The presence of heart disease appears to be correlated with low ST depression and high maximum heart rate.\n",
    "- Classification was selected as the algorithm for prediction, aiming to predict the categorical class label (healthy or presence of heart disease) based on the selected variables.\n"
   ]
  },
  {
   "cell_type": "markdown",
   "metadata": {},
   "source": [
    "The column names for the dataset are as follows: \n",
    "\n",
    "1. **age** - Patient's age\n",
    "2. **sex** - Patient's sex\n",
    "3. **chest_pain** - Chest pain type\n",
    "4. **rest_bp** - Resting blood pressure\n",
    "5. **cholesterol** - Serum cholesterol level (mg/dl)\n",
    "6. **fasting_blood_sugar** - Fasting blood sugar > 120mg/dl (true/false)\n",
    "7. **rest_ecg** - Resting electrocardiographic results\n",
    "8. **max_hr** - Maximum heart rate\n",
    "9. **exercise_angina** - Exercise induced angina (yes/no)\n",
    "10. **st_depression** - ST Depression induced by exercise relative to rest levels\n",
    "11. **slope_st_segment** - Slope of the peak exercise ST segment\n",
    "12. **num_vessels** - Number of major vessels colored by flourosopy\n",
    "13. **thalassemia** - Presence of thalassemia ('fixed', 'reversible', 'normal')\n",
    "14. **diagnosis** - Diagnosis of heart disease ('healthy'/'sick')\n",
    "\n"
   ]
  },
  {
   "cell_type": "code",
   "execution_count": 1,
   "metadata": {
    "vscode": {
     "languageId": "r"
    }
   },
   "outputs": [
    {
     "name": "stderr",
     "output_type": "stream",
     "text": [
      "Warning message:\n",
      "“package ‘ggplot2’ was built under R version 4.3.2”\n",
      "── \u001b[1mAttaching core tidyverse packages\u001b[22m ──────────────────────── tidyverse 2.0.0 ──\n",
      "\u001b[32m✔\u001b[39m \u001b[34mdplyr    \u001b[39m 1.1.3     \u001b[32m✔\u001b[39m \u001b[34mreadr    \u001b[39m 2.1.4\n",
      "\u001b[32m✔\u001b[39m \u001b[34mforcats  \u001b[39m 1.0.0     \u001b[32m✔\u001b[39m \u001b[34mstringr  \u001b[39m 1.5.0\n",
      "\u001b[32m✔\u001b[39m \u001b[34mggplot2  \u001b[39m 3.5.0     \u001b[32m✔\u001b[39m \u001b[34mtibble   \u001b[39m 3.2.1\n",
      "\u001b[32m✔\u001b[39m \u001b[34mlubridate\u001b[39m 1.9.2     \u001b[32m✔\u001b[39m \u001b[34mtidyr    \u001b[39m 1.3.0\n",
      "\u001b[32m✔\u001b[39m \u001b[34mpurrr    \u001b[39m 1.0.2     \n",
      "── \u001b[1mConflicts\u001b[22m ────────────────────────────────────────── tidyverse_conflicts() ──\n",
      "\u001b[31m✖\u001b[39m \u001b[34mdplyr\u001b[39m::\u001b[32mfilter()\u001b[39m masks \u001b[34mstats\u001b[39m::filter()\n",
      "\u001b[31m✖\u001b[39m \u001b[34mdplyr\u001b[39m::\u001b[32mlag()\u001b[39m    masks \u001b[34mstats\u001b[39m::lag()\n",
      "\u001b[36mℹ\u001b[39m Use the conflicted package (\u001b[3m\u001b[34m<http://conflicted.r-lib.org/>\u001b[39m\u001b[23m) to force all conflicts to become errors\n",
      "── \u001b[1mAttaching packages\u001b[22m ────────────────────────────────────── tidymodels 1.1.1 ──\n",
      "\n",
      "\u001b[32m✔\u001b[39m \u001b[34mbroom       \u001b[39m 1.0.5     \u001b[32m✔\u001b[39m \u001b[34mrsample     \u001b[39m 1.2.0\n",
      "\u001b[32m✔\u001b[39m \u001b[34mdials       \u001b[39m 1.2.0     \u001b[32m✔\u001b[39m \u001b[34mtune        \u001b[39m 1.1.2\n",
      "\u001b[32m✔\u001b[39m \u001b[34minfer       \u001b[39m 1.0.5     \u001b[32m✔\u001b[39m \u001b[34mworkflows   \u001b[39m 1.1.3\n",
      "\u001b[32m✔\u001b[39m \u001b[34mmodeldata   \u001b[39m 1.2.0     \u001b[32m✔\u001b[39m \u001b[34mworkflowsets\u001b[39m 1.0.1\n",
      "\u001b[32m✔\u001b[39m \u001b[34mparsnip     \u001b[39m 1.1.1     \u001b[32m✔\u001b[39m \u001b[34myardstick   \u001b[39m 1.2.0\n",
      "\u001b[32m✔\u001b[39m \u001b[34mrecipes     \u001b[39m 1.0.8     \n",
      "\n",
      "── \u001b[1mConflicts\u001b[22m ───────────────────────────────────────── tidymodels_conflicts() ──\n",
      "\u001b[31m✖\u001b[39m \u001b[34mscales\u001b[39m::\u001b[32mdiscard()\u001b[39m masks \u001b[34mpurrr\u001b[39m::discard()\n",
      "\u001b[31m✖\u001b[39m \u001b[34mdplyr\u001b[39m::\u001b[32mfilter()\u001b[39m   masks \u001b[34mstats\u001b[39m::filter()\n",
      "\u001b[31m✖\u001b[39m \u001b[34mrecipes\u001b[39m::\u001b[32mfixed()\u001b[39m  masks \u001b[34mstringr\u001b[39m::fixed()\n",
      "\u001b[31m✖\u001b[39m \u001b[34mdplyr\u001b[39m::\u001b[32mlag()\u001b[39m      masks \u001b[34mstats\u001b[39m::lag()\n",
      "\u001b[31m✖\u001b[39m \u001b[34myardstick\u001b[39m::\u001b[32mspec()\u001b[39m masks \u001b[34mreadr\u001b[39m::spec()\n",
      "\u001b[31m✖\u001b[39m \u001b[34mrecipes\u001b[39m::\u001b[32mstep()\u001b[39m   masks \u001b[34mstats\u001b[39m::step()\n",
      "\u001b[34m•\u001b[39m Use \u001b[32mtidymodels_prefer()\u001b[39m to resolve common conflicts.\n",
      "\n"
     ]
    }
   ],
   "source": [
    "library(tidyverse)\n",
    "library(repr)\n",
    "library(readxl)\n",
    "library(tidymodels)\n",
    "# install.packages(\"kknn\")\n",
    "library(kknn)\n",
    "options(repr.matrix.max.rows = 8)"
   ]
  },
  {
   "cell_type": "markdown",
   "metadata": {},
   "source": [
    "https://archive.ics.uci.edu/dataset/45/heart+disease"
   ]
  },
  {
   "cell_type": "markdown",
   "metadata": {},
   "source": [
    "## Methods and Results\n",
    "\n",
    "As stated in `worksheet_classification2.ipynb`, it is essential to call `set.seed` only once at the start of the analysis. This ensures that our random numbers are sufficiently random and that our code remains reproducible.\n"
   ]
  },
  {
   "cell_type": "code",
   "execution_count": 2,
   "metadata": {
    "vscode": {
     "languageId": "r"
    }
   },
   "outputs": [],
   "source": [
    "set.seed(9999)"
   ]
  },
  {
   "cell_type": "markdown",
   "metadata": {},
   "source": [
    "### Reading the data set from the web into R ###"
   ]
  },
  {
   "cell_type": "markdown",
   "metadata": {},
   "source": [
    "To read a CSV file containing the data from `processed.cleveland.data`, along with a row of column names (which correspond to the column names listed in `cleve.mod` under \"Original atts\" without the bracketed content):"
   ]
  },
  {
   "cell_type": "code",
   "execution_count": 3,
   "metadata": {
    "vscode": {
     "languageId": "r"
    }
   },
   "outputs": [],
   "source": [
    "col_names <- c(\"age\",  \n",
    "                \"sex\",\n",
    "                \"chest_pain\",    \n",
    "                \"rest_bp\",\n",
    "                \"cholestrol\",\n",
    "                \"fasting_blood_sugar\",\n",
    "                \"rest_ecg\",\n",
    "                \"max_hr\",\n",
    "                \"exercise_angina\",\n",
    "                \"st_depression\",\n",
    "                \"slope_st_segment\",\n",
    "                \"num_vessels\",\n",
    "                \"thalassemia\",\n",
    "                \"diagnosis\")"
   ]
  },
  {
   "cell_type": "code",
   "execution_count": 4,
   "metadata": {
    "vscode": {
     "languageId": "r"
    }
   },
   "outputs": [
    {
     "name": "stderr",
     "output_type": "stream",
     "text": [
      "\u001b[1mRows: \u001b[22m\u001b[34m303\u001b[39m \u001b[1mColumns: \u001b[22m\u001b[34m14\u001b[39m\n",
      "\u001b[36m──\u001b[39m \u001b[1mColumn specification\u001b[22m \u001b[36m────────────────────────────────────────────────────────\u001b[39m\n",
      "\u001b[1mDelimiter:\u001b[22m \",\"\n",
      "\u001b[31mchr\u001b[39m  (2): num_vessels, thalassemia\n",
      "\u001b[32mdbl\u001b[39m (12): age, sex, chest_pain, rest_bp, cholestrol, fasting_blood_sugar, re...\n",
      "\n",
      "\u001b[36mℹ\u001b[39m Use `spec()` to retrieve the full column specification for this data.\n",
      "\u001b[36mℹ\u001b[39m Specify the column types or set `show_col_types = FALSE` to quiet this message.\n",
      "Warning message:\n",
      "“\u001b[1m\u001b[22mThere were 2 warnings in `mutate()`.\n",
      "The first warning was:\n",
      "\u001b[1m\u001b[22m\u001b[36mℹ\u001b[39m In argument: `num_vessels = .Primitive(\"as.double\")(num_vessels)`.\n",
      "Caused by warning:\n",
      "\u001b[33m!\u001b[39m NAs introduced by coercion\n",
      "\u001b[1m\u001b[22m\u001b[36mℹ\u001b[39m Run `dplyr::last_dplyr_warnings()` to see the 1 remaining warning.”\n"
     ]
    }
   ],
   "source": [
    "options(repr.matrix.max.rows = 25)\n",
    "\n",
    "cleveland_data <- read_delim(file = url(\"https://archive.ics.uci.edu/ml/machine-learning-databases/heart-disease/processed.cleveland.data\"), \n",
    "                                delim = \",\", col_names = col_names) |>\n",
    "                                mutate_all(as.numeric)"
   ]
  },
  {
   "cell_type": "markdown",
   "metadata": {},
   "source": [
    "reading the data in `processed.switzerland.data`:"
   ]
  },
  {
   "cell_type": "code",
   "execution_count": 5,
   "metadata": {
    "vscode": {
     "languageId": "r"
    }
   },
   "outputs": [
    {
     "name": "stderr",
     "output_type": "stream",
     "text": [
      "\u001b[1mRows: \u001b[22m\u001b[34m123\u001b[39m \u001b[1mColumns: \u001b[22m\u001b[34m14\u001b[39m\n",
      "\u001b[36m──\u001b[39m \u001b[1mColumn specification\u001b[22m \u001b[36m────────────────────────────────────────────────────────\u001b[39m\n",
      "\u001b[1mDelimiter:\u001b[22m \",\"\n",
      "\u001b[31mchr\u001b[39m (9): rest_bp, fasting_blood_sugar, rest_ecg, max_hr, exercise_angina, st...\n",
      "\u001b[32mdbl\u001b[39m (5): age, sex, chest_pain, cholestrol, diagnosis\n",
      "\n",
      "\u001b[36mℹ\u001b[39m Use `spec()` to retrieve the full column specification for this data.\n",
      "\u001b[36mℹ\u001b[39m Specify the column types or set `show_col_types = FALSE` to quiet this message.\n",
      "Warning message:\n",
      "“\u001b[1m\u001b[22mThere were 9 warnings in `mutate()`.\n",
      "The first warning was:\n",
      "\u001b[1m\u001b[22m\u001b[36mℹ\u001b[39m In argument: `rest_bp = .Primitive(\"as.double\")(rest_bp)`.\n",
      "Caused by warning:\n",
      "\u001b[33m!\u001b[39m NAs introduced by coercion\n",
      "\u001b[1m\u001b[22m\u001b[36mℹ\u001b[39m Run `dplyr::last_dplyr_warnings()` to see the 8 remaining warnings.”\n"
     ]
    }
   ],
   "source": [
    "switzerland_data <- read_delim(file = url(\"https://archive.ics.uci.edu/ml/machine-learning-databases/heart-disease/processed.switzerland.data\"), \n",
    "                                   delim = \",\", col_names = col_names) |>\n",
    "                                   mutate_all(as.numeric)"
   ]
  },
  {
   "cell_type": "markdown",
   "metadata": {},
   "source": [
    "reading the data in `processed.va.data`:"
   ]
  },
  {
   "cell_type": "code",
   "execution_count": 6,
   "metadata": {
    "vscode": {
     "languageId": "r"
    }
   },
   "outputs": [
    {
     "name": "stderr",
     "output_type": "stream",
     "text": [
      "\u001b[1mRows: \u001b[22m\u001b[34m200\u001b[39m \u001b[1mColumns: \u001b[22m\u001b[34m14\u001b[39m\n",
      "\u001b[36m──\u001b[39m \u001b[1mColumn specification\u001b[22m \u001b[36m────────────────────────────────────────────────────────\u001b[39m\n",
      "\u001b[1mDelimiter:\u001b[22m \",\"\n",
      "\u001b[31mchr\u001b[39m (9): rest_bp, cholestrol, fasting_blood_sugar, max_hr, exercise_angina, ...\n",
      "\u001b[32mdbl\u001b[39m (5): age, sex, chest_pain, rest_ecg, diagnosis\n",
      "\n",
      "\u001b[36mℹ\u001b[39m Use `spec()` to retrieve the full column specification for this data.\n",
      "\u001b[36mℹ\u001b[39m Specify the column types or set `show_col_types = FALSE` to quiet this message.\n",
      "Warning message:\n",
      "“\u001b[1m\u001b[22mThere were 9 warnings in `mutate()`.\n",
      "The first warning was:\n",
      "\u001b[1m\u001b[22m\u001b[36mℹ\u001b[39m In argument: `rest_bp = .Primitive(\"as.double\")(rest_bp)`.\n",
      "Caused by warning:\n",
      "\u001b[33m!\u001b[39m NAs introduced by coercion\n",
      "\u001b[1m\u001b[22m\u001b[36mℹ\u001b[39m Run `dplyr::last_dplyr_warnings()` to see the 8 remaining warnings.”\n"
     ]
    }
   ],
   "source": [
    "virginia_data <- read_delim(file = url(\"https://archive.ics.uci.edu/ml/machine-learning-databases/heart-disease/processed.va.data\"), \n",
    "                                   delim = \",\", col_names = col_names) |>\n",
    "                                   mutate_all(as.numeric)"
   ]
  },
  {
   "cell_type": "markdown",
   "metadata": {},
   "source": [
    "reading the data in `processed.hungarian.data`:"
   ]
  },
  {
   "cell_type": "code",
   "execution_count": 7,
   "metadata": {
    "vscode": {
     "languageId": "r"
    }
   },
   "outputs": [
    {
     "name": "stderr",
     "output_type": "stream",
     "text": [
      "\u001b[1mRows: \u001b[22m\u001b[34m294\u001b[39m \u001b[1mColumns: \u001b[22m\u001b[34m14\u001b[39m\n",
      "\u001b[36m──\u001b[39m \u001b[1mColumn specification\u001b[22m \u001b[36m────────────────────────────────────────────────────────\u001b[39m\n",
      "\u001b[1mDelimiter:\u001b[22m \" \"\n",
      "\u001b[32mdbl\u001b[39m (14): age, sex, chest_pain, rest_bp, cholestrol, fasting_blood_sugar, re...\n",
      "\n",
      "\u001b[36mℹ\u001b[39m Use `spec()` to retrieve the full column specification for this data.\n",
      "\u001b[36mℹ\u001b[39m Specify the column types or set `show_col_types = FALSE` to quiet this message.\n"
     ]
    }
   ],
   "source": [
    "reprocessed_hungarian_data <- read_delim(file = url(\"https://archive.ics.uci.edu/ml/machine-learning-databases/heart-disease/reprocessed.hungarian.data\"), \n",
    "                                    delim = \" \", col_names = col_names) |>\n",
    "                                    mutate_all(as.numeric)"
   ]
  },
  {
   "cell_type": "markdown",
   "metadata": {},
   "source": [
    "To reference information when justifying some of the decisions made regarding data tidying, we need to read the file named `heart-disease.names`.\n"
   ]
  },
  {
   "cell_type": "code",
   "execution_count": 8,
   "metadata": {
    "vscode": {
     "languageId": "r"
    }
   },
   "outputs": [],
   "source": [
    "heart_disease_names <- read_file(file = url(\"https://archive.ics.uci.edu/ml/machine-learning-databases/heart-disease/heart-disease.names\"))"
   ]
  },
  {
   "cell_type": "markdown",
   "metadata": {},
   "source": [
    "Combining `cleveland_dataset_web`, `switzerland_dataset_web`, `virginia_dataset_web`, and `reprocessed_hungarian_dataset_web`.\n"
   ]
  },
  {
   "cell_type": "code",
   "execution_count": 9,
   "metadata": {
    "vscode": {
     "languageId": "r"
    }
   },
   "outputs": [
    {
     "data": {
      "text/html": [
       "<table class=\"dataframe\">\n",
       "<caption>A tibble: 25 × 14</caption>\n",
       "<thead>\n",
       "\t<tr><th scope=col>age</th><th scope=col>sex</th><th scope=col>chest_pain</th><th scope=col>rest_bp</th><th scope=col>cholestrol</th><th scope=col>fasting_blood_sugar</th><th scope=col>rest_ecg</th><th scope=col>max_hr</th><th scope=col>exercise_angina</th><th scope=col>st_depression</th><th scope=col>slope_st_segment</th><th scope=col>num_vessels</th><th scope=col>thalassemia</th><th scope=col>diagnosis</th></tr>\n",
       "\t<tr><th scope=col>&lt;dbl&gt;</th><th scope=col>&lt;dbl&gt;</th><th scope=col>&lt;dbl&gt;</th><th scope=col>&lt;dbl&gt;</th><th scope=col>&lt;dbl&gt;</th><th scope=col>&lt;dbl&gt;</th><th scope=col>&lt;dbl&gt;</th><th scope=col>&lt;dbl&gt;</th><th scope=col>&lt;dbl&gt;</th><th scope=col>&lt;dbl&gt;</th><th scope=col>&lt;dbl&gt;</th><th scope=col>&lt;dbl&gt;</th><th scope=col>&lt;dbl&gt;</th><th scope=col>&lt;dbl&gt;</th></tr>\n",
       "</thead>\n",
       "<tbody>\n",
       "\t<tr><td>63</td><td>1</td><td>1</td><td>145</td><td>233</td><td>1</td><td>2</td><td>150</td><td>0</td><td>2.3</td><td>3</td><td>0</td><td>6</td><td>0</td></tr>\n",
       "\t<tr><td>67</td><td>1</td><td>4</td><td>160</td><td>286</td><td>0</td><td>2</td><td>108</td><td>1</td><td>1.5</td><td>2</td><td>3</td><td>3</td><td>2</td></tr>\n",
       "\t<tr><td>67</td><td>1</td><td>4</td><td>120</td><td>229</td><td>0</td><td>2</td><td>129</td><td>1</td><td>2.6</td><td>2</td><td>2</td><td>7</td><td>1</td></tr>\n",
       "\t<tr><td>37</td><td>1</td><td>3</td><td>130</td><td>250</td><td>0</td><td>0</td><td>187</td><td>0</td><td>3.5</td><td>3</td><td>0</td><td>3</td><td>0</td></tr>\n",
       "\t<tr><td>41</td><td>0</td><td>2</td><td>130</td><td>204</td><td>0</td><td>2</td><td>172</td><td>0</td><td>1.4</td><td>1</td><td>0</td><td>3</td><td>0</td></tr>\n",
       "\t<tr><td>56</td><td>1</td><td>2</td><td>120</td><td>236</td><td>0</td><td>0</td><td>178</td><td>0</td><td>0.8</td><td>1</td><td>0</td><td>3</td><td>0</td></tr>\n",
       "\t<tr><td>62</td><td>0</td><td>4</td><td>140</td><td>268</td><td>0</td><td>2</td><td>160</td><td>0</td><td>3.6</td><td>3</td><td>2</td><td>3</td><td>3</td></tr>\n",
       "\t<tr><td>57</td><td>0</td><td>4</td><td>120</td><td>354</td><td>0</td><td>0</td><td>163</td><td>1</td><td>0.6</td><td>1</td><td>0</td><td>3</td><td>0</td></tr>\n",
       "\t<tr><td>63</td><td>1</td><td>4</td><td>130</td><td>254</td><td>0</td><td>2</td><td>147</td><td>0</td><td>1.4</td><td>2</td><td>1</td><td>7</td><td>2</td></tr>\n",
       "\t<tr><td>53</td><td>1</td><td>4</td><td>140</td><td>203</td><td>1</td><td>2</td><td>155</td><td>1</td><td>3.1</td><td>3</td><td>0</td><td>7</td><td>1</td></tr>\n",
       "\t<tr><td>57</td><td>1</td><td>4</td><td>140</td><td>192</td><td>0</td><td>0</td><td>148</td><td>0</td><td>0.4</td><td>2</td><td>0</td><td>6</td><td>0</td></tr>\n",
       "\t<tr><td>56</td><td>0</td><td>2</td><td>140</td><td>294</td><td>0</td><td>2</td><td>153</td><td>0</td><td>1.3</td><td>2</td><td>0</td><td>3</td><td>0</td></tr>\n",
       "\t<tr><td>56</td><td>1</td><td>3</td><td>130</td><td>256</td><td>1</td><td>2</td><td>142</td><td>1</td><td>0.6</td><td>2</td><td>1</td><td>6</td><td>2</td></tr>\n",
       "\t<tr><td>44</td><td>1</td><td>2</td><td>120</td><td>263</td><td>0</td><td>0</td><td>173</td><td>0</td><td>0.0</td><td>1</td><td>0</td><td>7</td><td>0</td></tr>\n",
       "\t<tr><td>52</td><td>1</td><td>3</td><td>172</td><td>199</td><td>1</td><td>0</td><td>162</td><td>0</td><td>0.5</td><td>1</td><td>0</td><td>7</td><td>0</td></tr>\n",
       "\t<tr><td>57</td><td>1</td><td>3</td><td>150</td><td>168</td><td>0</td><td>0</td><td>174</td><td>0</td><td>1.6</td><td>1</td><td>0</td><td>3</td><td>0</td></tr>\n",
       "\t<tr><td>48</td><td>1</td><td>2</td><td>110</td><td>229</td><td>0</td><td>0</td><td>168</td><td>0</td><td>1.0</td><td>3</td><td>0</td><td>7</td><td>1</td></tr>\n",
       "\t<tr><td>54</td><td>1</td><td>4</td><td>140</td><td>239</td><td>0</td><td>0</td><td>160</td><td>0</td><td>1.2</td><td>1</td><td>0</td><td>3</td><td>0</td></tr>\n",
       "\t<tr><td>48</td><td>0</td><td>3</td><td>130</td><td>275</td><td>0</td><td>0</td><td>139</td><td>0</td><td>0.2</td><td>1</td><td>0</td><td>3</td><td>0</td></tr>\n",
       "\t<tr><td>49</td><td>1</td><td>2</td><td>130</td><td>266</td><td>0</td><td>0</td><td>171</td><td>0</td><td>0.6</td><td>1</td><td>0</td><td>3</td><td>0</td></tr>\n",
       "\t<tr><td>64</td><td>1</td><td>1</td><td>110</td><td>211</td><td>0</td><td>2</td><td>144</td><td>1</td><td>1.8</td><td>2</td><td>0</td><td>3</td><td>0</td></tr>\n",
       "\t<tr><td>58</td><td>0</td><td>1</td><td>150</td><td>283</td><td>1</td><td>2</td><td>162</td><td>0</td><td>1.0</td><td>1</td><td>0</td><td>3</td><td>0</td></tr>\n",
       "\t<tr><td>58</td><td>1</td><td>2</td><td>120</td><td>284</td><td>0</td><td>2</td><td>160</td><td>0</td><td>1.8</td><td>2</td><td>0</td><td>3</td><td>1</td></tr>\n",
       "\t<tr><td>58</td><td>1</td><td>3</td><td>132</td><td>224</td><td>0</td><td>2</td><td>173</td><td>0</td><td>3.2</td><td>1</td><td>2</td><td>7</td><td>3</td></tr>\n",
       "\t<tr><td>60</td><td>1</td><td>4</td><td>130</td><td>206</td><td>0</td><td>2</td><td>132</td><td>1</td><td>2.4</td><td>2</td><td>2</td><td>7</td><td>4</td></tr>\n",
       "</tbody>\n",
       "</table>\n"
      ],
      "text/latex": [
       "A tibble: 25 × 14\n",
       "\\begin{tabular}{llllllllllllll}\n",
       " age & sex & chest\\_pain & rest\\_bp & cholestrol & fasting\\_blood\\_sugar & rest\\_ecg & max\\_hr & exercise\\_angina & st\\_depression & slope\\_st\\_segment & num\\_vessels & thalassemia & diagnosis\\\\\n",
       " <dbl> & <dbl> & <dbl> & <dbl> & <dbl> & <dbl> & <dbl> & <dbl> & <dbl> & <dbl> & <dbl> & <dbl> & <dbl> & <dbl>\\\\\n",
       "\\hline\n",
       "\t 63 & 1 & 1 & 145 & 233 & 1 & 2 & 150 & 0 & 2.3 & 3 & 0 & 6 & 0\\\\\n",
       "\t 67 & 1 & 4 & 160 & 286 & 0 & 2 & 108 & 1 & 1.5 & 2 & 3 & 3 & 2\\\\\n",
       "\t 67 & 1 & 4 & 120 & 229 & 0 & 2 & 129 & 1 & 2.6 & 2 & 2 & 7 & 1\\\\\n",
       "\t 37 & 1 & 3 & 130 & 250 & 0 & 0 & 187 & 0 & 3.5 & 3 & 0 & 3 & 0\\\\\n",
       "\t 41 & 0 & 2 & 130 & 204 & 0 & 2 & 172 & 0 & 1.4 & 1 & 0 & 3 & 0\\\\\n",
       "\t 56 & 1 & 2 & 120 & 236 & 0 & 0 & 178 & 0 & 0.8 & 1 & 0 & 3 & 0\\\\\n",
       "\t 62 & 0 & 4 & 140 & 268 & 0 & 2 & 160 & 0 & 3.6 & 3 & 2 & 3 & 3\\\\\n",
       "\t 57 & 0 & 4 & 120 & 354 & 0 & 0 & 163 & 1 & 0.6 & 1 & 0 & 3 & 0\\\\\n",
       "\t 63 & 1 & 4 & 130 & 254 & 0 & 2 & 147 & 0 & 1.4 & 2 & 1 & 7 & 2\\\\\n",
       "\t 53 & 1 & 4 & 140 & 203 & 1 & 2 & 155 & 1 & 3.1 & 3 & 0 & 7 & 1\\\\\n",
       "\t 57 & 1 & 4 & 140 & 192 & 0 & 0 & 148 & 0 & 0.4 & 2 & 0 & 6 & 0\\\\\n",
       "\t 56 & 0 & 2 & 140 & 294 & 0 & 2 & 153 & 0 & 1.3 & 2 & 0 & 3 & 0\\\\\n",
       "\t 56 & 1 & 3 & 130 & 256 & 1 & 2 & 142 & 1 & 0.6 & 2 & 1 & 6 & 2\\\\\n",
       "\t 44 & 1 & 2 & 120 & 263 & 0 & 0 & 173 & 0 & 0.0 & 1 & 0 & 7 & 0\\\\\n",
       "\t 52 & 1 & 3 & 172 & 199 & 1 & 0 & 162 & 0 & 0.5 & 1 & 0 & 7 & 0\\\\\n",
       "\t 57 & 1 & 3 & 150 & 168 & 0 & 0 & 174 & 0 & 1.6 & 1 & 0 & 3 & 0\\\\\n",
       "\t 48 & 1 & 2 & 110 & 229 & 0 & 0 & 168 & 0 & 1.0 & 3 & 0 & 7 & 1\\\\\n",
       "\t 54 & 1 & 4 & 140 & 239 & 0 & 0 & 160 & 0 & 1.2 & 1 & 0 & 3 & 0\\\\\n",
       "\t 48 & 0 & 3 & 130 & 275 & 0 & 0 & 139 & 0 & 0.2 & 1 & 0 & 3 & 0\\\\\n",
       "\t 49 & 1 & 2 & 130 & 266 & 0 & 0 & 171 & 0 & 0.6 & 1 & 0 & 3 & 0\\\\\n",
       "\t 64 & 1 & 1 & 110 & 211 & 0 & 2 & 144 & 1 & 1.8 & 2 & 0 & 3 & 0\\\\\n",
       "\t 58 & 0 & 1 & 150 & 283 & 1 & 2 & 162 & 0 & 1.0 & 1 & 0 & 3 & 0\\\\\n",
       "\t 58 & 1 & 2 & 120 & 284 & 0 & 2 & 160 & 0 & 1.8 & 2 & 0 & 3 & 1\\\\\n",
       "\t 58 & 1 & 3 & 132 & 224 & 0 & 2 & 173 & 0 & 3.2 & 1 & 2 & 7 & 3\\\\\n",
       "\t 60 & 1 & 4 & 130 & 206 & 0 & 2 & 132 & 1 & 2.4 & 2 & 2 & 7 & 4\\\\\n",
       "\\end{tabular}\n"
      ],
      "text/markdown": [
       "\n",
       "A tibble: 25 × 14\n",
       "\n",
       "| age &lt;dbl&gt; | sex &lt;dbl&gt; | chest_pain &lt;dbl&gt; | rest_bp &lt;dbl&gt; | cholestrol &lt;dbl&gt; | fasting_blood_sugar &lt;dbl&gt; | rest_ecg &lt;dbl&gt; | max_hr &lt;dbl&gt; | exercise_angina &lt;dbl&gt; | st_depression &lt;dbl&gt; | slope_st_segment &lt;dbl&gt; | num_vessels &lt;dbl&gt; | thalassemia &lt;dbl&gt; | diagnosis &lt;dbl&gt; |\n",
       "|---|---|---|---|---|---|---|---|---|---|---|---|---|---|\n",
       "| 63 | 1 | 1 | 145 | 233 | 1 | 2 | 150 | 0 | 2.3 | 3 | 0 | 6 | 0 |\n",
       "| 67 | 1 | 4 | 160 | 286 | 0 | 2 | 108 | 1 | 1.5 | 2 | 3 | 3 | 2 |\n",
       "| 67 | 1 | 4 | 120 | 229 | 0 | 2 | 129 | 1 | 2.6 | 2 | 2 | 7 | 1 |\n",
       "| 37 | 1 | 3 | 130 | 250 | 0 | 0 | 187 | 0 | 3.5 | 3 | 0 | 3 | 0 |\n",
       "| 41 | 0 | 2 | 130 | 204 | 0 | 2 | 172 | 0 | 1.4 | 1 | 0 | 3 | 0 |\n",
       "| 56 | 1 | 2 | 120 | 236 | 0 | 0 | 178 | 0 | 0.8 | 1 | 0 | 3 | 0 |\n",
       "| 62 | 0 | 4 | 140 | 268 | 0 | 2 | 160 | 0 | 3.6 | 3 | 2 | 3 | 3 |\n",
       "| 57 | 0 | 4 | 120 | 354 | 0 | 0 | 163 | 1 | 0.6 | 1 | 0 | 3 | 0 |\n",
       "| 63 | 1 | 4 | 130 | 254 | 0 | 2 | 147 | 0 | 1.4 | 2 | 1 | 7 | 2 |\n",
       "| 53 | 1 | 4 | 140 | 203 | 1 | 2 | 155 | 1 | 3.1 | 3 | 0 | 7 | 1 |\n",
       "| 57 | 1 | 4 | 140 | 192 | 0 | 0 | 148 | 0 | 0.4 | 2 | 0 | 6 | 0 |\n",
       "| 56 | 0 | 2 | 140 | 294 | 0 | 2 | 153 | 0 | 1.3 | 2 | 0 | 3 | 0 |\n",
       "| 56 | 1 | 3 | 130 | 256 | 1 | 2 | 142 | 1 | 0.6 | 2 | 1 | 6 | 2 |\n",
       "| 44 | 1 | 2 | 120 | 263 | 0 | 0 | 173 | 0 | 0.0 | 1 | 0 | 7 | 0 |\n",
       "| 52 | 1 | 3 | 172 | 199 | 1 | 0 | 162 | 0 | 0.5 | 1 | 0 | 7 | 0 |\n",
       "| 57 | 1 | 3 | 150 | 168 | 0 | 0 | 174 | 0 | 1.6 | 1 | 0 | 3 | 0 |\n",
       "| 48 | 1 | 2 | 110 | 229 | 0 | 0 | 168 | 0 | 1.0 | 3 | 0 | 7 | 1 |\n",
       "| 54 | 1 | 4 | 140 | 239 | 0 | 0 | 160 | 0 | 1.2 | 1 | 0 | 3 | 0 |\n",
       "| 48 | 0 | 3 | 130 | 275 | 0 | 0 | 139 | 0 | 0.2 | 1 | 0 | 3 | 0 |\n",
       "| 49 | 1 | 2 | 130 | 266 | 0 | 0 | 171 | 0 | 0.6 | 1 | 0 | 3 | 0 |\n",
       "| 64 | 1 | 1 | 110 | 211 | 0 | 2 | 144 | 1 | 1.8 | 2 | 0 | 3 | 0 |\n",
       "| 58 | 0 | 1 | 150 | 283 | 1 | 2 | 162 | 0 | 1.0 | 1 | 0 | 3 | 0 |\n",
       "| 58 | 1 | 2 | 120 | 284 | 0 | 2 | 160 | 0 | 1.8 | 2 | 0 | 3 | 1 |\n",
       "| 58 | 1 | 3 | 132 | 224 | 0 | 2 | 173 | 0 | 3.2 | 1 | 2 | 7 | 3 |\n",
       "| 60 | 1 | 4 | 130 | 206 | 0 | 2 | 132 | 1 | 2.4 | 2 | 2 | 7 | 4 |\n",
       "\n"
      ],
      "text/plain": [
       "   age sex chest_pain rest_bp cholestrol fasting_blood_sugar rest_ecg max_hr\n",
       "1  63  1   1          145     233        1                   2        150   \n",
       "2  67  1   4          160     286        0                   2        108   \n",
       "3  67  1   4          120     229        0                   2        129   \n",
       "4  37  1   3          130     250        0                   0        187   \n",
       "5  41  0   2          130     204        0                   2        172   \n",
       "6  56  1   2          120     236        0                   0        178   \n",
       "7  62  0   4          140     268        0                   2        160   \n",
       "8  57  0   4          120     354        0                   0        163   \n",
       "9  63  1   4          130     254        0                   2        147   \n",
       "10 53  1   4          140     203        1                   2        155   \n",
       "11 57  1   4          140     192        0                   0        148   \n",
       "12 56  0   2          140     294        0                   2        153   \n",
       "13 56  1   3          130     256        1                   2        142   \n",
       "14 44  1   2          120     263        0                   0        173   \n",
       "15 52  1   3          172     199        1                   0        162   \n",
       "16 57  1   3          150     168        0                   0        174   \n",
       "17 48  1   2          110     229        0                   0        168   \n",
       "18 54  1   4          140     239        0                   0        160   \n",
       "19 48  0   3          130     275        0                   0        139   \n",
       "20 49  1   2          130     266        0                   0        171   \n",
       "21 64  1   1          110     211        0                   2        144   \n",
       "22 58  0   1          150     283        1                   2        162   \n",
       "23 58  1   2          120     284        0                   2        160   \n",
       "24 58  1   3          132     224        0                   2        173   \n",
       "25 60  1   4          130     206        0                   2        132   \n",
       "   exercise_angina st_depression slope_st_segment num_vessels thalassemia\n",
       "1  0               2.3           3                0           6          \n",
       "2  1               1.5           2                3           3          \n",
       "3  1               2.6           2                2           7          \n",
       "4  0               3.5           3                0           3          \n",
       "5  0               1.4           1                0           3          \n",
       "6  0               0.8           1                0           3          \n",
       "7  0               3.6           3                2           3          \n",
       "8  1               0.6           1                0           3          \n",
       "9  0               1.4           2                1           7          \n",
       "10 1               3.1           3                0           7          \n",
       "11 0               0.4           2                0           6          \n",
       "12 0               1.3           2                0           3          \n",
       "13 1               0.6           2                1           6          \n",
       "14 0               0.0           1                0           7          \n",
       "15 0               0.5           1                0           7          \n",
       "16 0               1.6           1                0           3          \n",
       "17 0               1.0           3                0           7          \n",
       "18 0               1.2           1                0           3          \n",
       "19 0               0.2           1                0           3          \n",
       "20 0               0.6           1                0           3          \n",
       "21 1               1.8           2                0           3          \n",
       "22 0               1.0           1                0           3          \n",
       "23 0               1.8           2                0           3          \n",
       "24 0               3.2           1                2           7          \n",
       "25 1               2.4           2                2           7          \n",
       "   diagnosis\n",
       "1  0        \n",
       "2  2        \n",
       "3  1        \n",
       "4  0        \n",
       "5  0        \n",
       "6  0        \n",
       "7  3        \n",
       "8  0        \n",
       "9  2        \n",
       "10 1        \n",
       "11 0        \n",
       "12 0        \n",
       "13 2        \n",
       "14 0        \n",
       "15 0        \n",
       "16 0        \n",
       "17 1        \n",
       "18 0        \n",
       "19 0        \n",
       "20 0        \n",
       "21 0        \n",
       "22 0        \n",
       "23 1        \n",
       "24 3        \n",
       "25 4        "
      ]
     },
     "metadata": {},
     "output_type": "display_data"
    }
   ],
   "source": [
    "global_data <- bind_rows(cleveland_data, switzerland_data, virginia_data, reprocessed_hungarian_data)\n",
    "head(global_data, 25)"
   ]
  },
  {
   "cell_type": "markdown",
   "metadata": {},
   "source": [
    "**Table 1**. The first 25 rows of our dataset "
   ]
  },
  {
   "cell_type": "markdown",
   "metadata": {},
   "source": [
    "Looking at `Table 1`, it's worth noting the presence of numerous -9's. Additionally, there's a discernible hierarchy among the numeric variables concerning their range of values. Specifically, `cholestrol` exhibits the widest range of values, while `st_depression` has the narrowest range. Despite all variables being of type `double`, it's apparent that many are actually categorical. We elaborate on how we differentiated between numeric and categorical variables later in this report."
   ]
  },
  {
   "cell_type": "markdown",
   "metadata": {},
   "source": [
    "Here, we convert the value -9 to NA, as indicated by this excerpt from the file named heart-disease.names: \n",
    ">\"Missing Attribute Values: Several. Distinguished with value -9.0.\"\n"
   ]
  },
  {
   "cell_type": "code",
   "execution_count": 10,
   "metadata": {
    "vscode": {
     "languageId": "r"
    }
   },
   "outputs": [],
   "source": [
    "na_matrix <- global_data == \"-9\"\n",
    "\n",
    "is.na(global_data) <- na_matrix"
   ]
  },
  {
   "cell_type": "markdown",
   "metadata": {},
   "source": [
    "### Cleaning and wrangling the data into a tidy format"
   ]
  },
  {
   "cell_type": "markdown",
   "metadata": {},
   "source": [
    "We now attempt to create a table reporting:\n",
    "\n",
    "- Counts for healthy and sick observations\n",
    "- Counts of rows with missing values for healthy and sick observations\n",
    "- Averages of variables that we consider candidates for predictors.\n"
   ]
  },
  {
   "cell_type": "markdown",
   "metadata": {},
   "source": [
    "The description of the `num` attribute in `heart-disease.names` doesn't align with the possible values found in any of the four data files used in our analysis. Here are the discrepancies:\n",
    "\n",
    "a) In the \"7. Attribute Information\" subsection of `heart-disease.names`, it states that `num` can either be 0 or 1. However, values of `num` in the range 0:4 are present within the first 25 rows of `global_data`.\n",
    "\n",
    "b) Additionally, under the same subsection, it's stated that 0 indicates < 50% diameter narrowing, while 1 indicates > 50% diameter narrowing. This contradicts the description of `num` under the \"4. Relevant Information\" subsection, which specifies that \"Experiments with the Cleveland database have concentrated on simply attempting to distinguish presence (values 1,2,3,4) from absence (value 0)\".\n",
    "\n",
    "As a result, we strongly believe that 0 does not indicate < 50% diameter narrowing, and 1 does not indicate > 50% diameter narrowing. Our stance on this matter is supported by the author of another paper referencing the same dataset. In the \"4. Hybrid Rule Sets Model\" section, the author stipulated that when their proposed model learns from \"a heart disease dataset from the UCI ML repository\", a value of 1 assigned to the Y variable conveys that \"the patient has heart disease\" (Wang, 2018). Furthermore, in another paper demonstrating the computation of metrics for quantifying the quality of biomedical data on the same heart disease dataset, the authors noted that \"studies with the Heart Disease dataset generally group positive values into a single positive class\" (Silvestre et al., 2014).\n",
    "\n",
    "Based on this understanding, we proceed with our analysis, considering value 0 to indicate the absence of heart disease, while values 1, 2, 3, 4 indicate its presence.\n"
   ]
  },
  {
   "cell_type": "code",
   "execution_count": 11,
   "metadata": {
    "vscode": {
     "languageId": "r"
    }
   },
   "outputs": [],
   "source": [
    "global_data <- as_tibble(global_data)"
   ]
  },
  {
   "cell_type": "code",
   "execution_count": 12,
   "metadata": {
    "vscode": {
     "languageId": "r"
    }
   },
   "outputs": [
    {
     "ename": "ERROR",
     "evalue": "\u001b[1m\u001b[33mError\u001b[39m in `summarize()`:\u001b[22m\n\u001b[1m\u001b[22m\u001b[36mℹ\u001b[39m In argument: `percentage = count/nrow(global_dataset) * 100`.\n\u001b[36mℹ\u001b[39m In group 1: `diagnosis = healthy`.\n\u001b[1mCaused by error:\u001b[22m\n\u001b[33m!\u001b[39m object 'global_dataset' not found\n",
     "output_type": "error",
     "traceback": [
      "\u001b[1m\u001b[33mError\u001b[39m in `summarize()`:\u001b[22m\n\u001b[1m\u001b[22m\u001b[36mℹ\u001b[39m In argument: `percentage = count/nrow(global_dataset) * 100`.\n\u001b[36mℹ\u001b[39m In group 1: `diagnosis = healthy`.\n\u001b[1mCaused by error:\u001b[22m\n\u001b[33m!\u001b[39m object 'global_dataset' not found\nTraceback:\n",
      "1. summarize(group_by(mutate(mutate(mutate(global_data, diagnosis = as.factor(diagnosis)), \n .     diagnosis = fct_recode(diagnosis, healthy = \"0\", sick = \"1\", \n .         sick = \"2\", sick = \"3\", sick = \"4\")), row_contains_na = (is.na(age) | \n .     is.na(sex) | is.na(chest_pain) | is.na(rest_bp) | is.na(cholestrol) | \n .     is.na(fasting_blood_sugar) | is.na(rest_ecg) | is.na(max_hr) | \n .     is.na(exercise_angina) | is.na(st_depression) | is.na(slope_st_segment) | \n .     is.na(num_vessels) | is.na(thalassemia))), diagnosis), count = n(), \n .     num_rows_with_na = sum(row_contains_na), percentage = count/nrow(global_dataset) * \n .         100, average_age = mean(age, na.rm = TRUE), avg_resting_bp = mean(rest_bp, \n .         na.rm = TRUE), avg_cholestorol = mean(cholestrol, na.rm = TRUE), \n .     avg_max_hr = mean(rest_bp, na.rm = TRUE), avg_oldpeak = mean(st_depression, \n .         na.rm = TRUE))",
      "2. summarise.grouped_df(group_by(mutate(mutate(mutate(global_data, \n .     diagnosis = as.factor(diagnosis)), diagnosis = fct_recode(diagnosis, \n .     healthy = \"0\", sick = \"1\", sick = \"2\", sick = \"3\", sick = \"4\")), \n .     row_contains_na = (is.na(age) | is.na(sex) | is.na(chest_pain) | \n .         is.na(rest_bp) | is.na(cholestrol) | is.na(fasting_blood_sugar) | \n .         is.na(rest_ecg) | is.na(max_hr) | is.na(exercise_angina) | \n .         is.na(st_depression) | is.na(slope_st_segment) | is.na(num_vessels) | \n .         is.na(thalassemia))), diagnosis), count = n(), num_rows_with_na = sum(row_contains_na), \n .     percentage = count/nrow(global_dataset) * 100, average_age = mean(age, \n .         na.rm = TRUE), avg_resting_bp = mean(rest_bp, na.rm = TRUE), \n .     avg_cholestorol = mean(cholestrol, na.rm = TRUE), avg_max_hr = mean(rest_bp, \n .         na.rm = TRUE), avg_oldpeak = mean(st_depression, na.rm = TRUE))",
      "3. summarise_cols(.data, dplyr_quosures(...), by, \"summarise\")",
      "4. withCallingHandlers({\n .     for (i in seq_along(dots)) {\n .         poke_error_context(dots, i, mask = mask)\n .         context_poke(\"column\", old_current_column)\n .         dot <- dots[[i]]\n .         dot <- expand_pick(dot, mask)\n .         quosures <- expand_across(dot)\n .         quosures_results <- map(quosures, summarise_eval_one, \n .             mask = mask)\n .         for (k in seq_along(quosures)) {\n .             quo <- quosures[[k]]\n .             quo_data <- attr(quo, \"dplyr:::data\")\n .             quo_result <- quosures_results[[k]]\n .             if (is.null(quo_result)) {\n .                 next\n .             }\n .             types_k <- quo_result$types\n .             chunks_k <- quo_result$chunks\n .             results_k <- quo_result$results\n .             if (!quo_data$is_named && is.data.frame(types_k)) {\n .                 chunks_extracted <- .Call(dplyr_extract_chunks, \n .                   chunks_k, types_k)\n .                 types_k_names <- names(types_k)\n .                 for (j in seq_along(chunks_extracted)) {\n .                   mask$add_one(name = types_k_names[j], chunks = chunks_extracted[[j]], \n .                     result = results_k[[j]])\n .                 }\n .                 chunks <- append(chunks, chunks_extracted)\n .                 types <- append(types, as.list(types_k))\n .                 results <- append(results, results_k)\n .                 out_names <- c(out_names, types_k_names)\n .             }\n .             else {\n .                 name <- dplyr_quosure_name(quo_data)\n .                 mask$add_one(name = name, chunks = chunks_k, \n .                   result = results_k)\n .                 chunks <- append(chunks, list(chunks_k))\n .                 types <- append(types, list(types_k))\n .                 results <- append(results, list(results_k))\n .                 out_names <- c(out_names, name)\n .             }\n .         }\n .     }\n .     sizes <- .Call(dplyr_summarise_recycle_chunks_in_place, chunks, \n .         results)\n .     for (i in seq_along(chunks)) {\n .         result <- results[[i]] %||% vec_c(!!!chunks[[i]], .ptype = types[[i]])\n .         cols[[out_names[i]]] <- result\n .     }\n . }, error = function(cnd) {\n .     if (inherits(cnd, \"dplyr:::summarise_incompatible_size\")) {\n .         action <- \"recycle\"\n .         i <- cnd$dplyr_error_data$index\n .     }\n .     else {\n .         action <- \"compute\"\n .         i <- i\n .     }\n .     handler <- dplyr_error_handler(dots = dots, mask = mask, \n .         bullets = summarise_bullets, error_call = error_call, \n .         action = action)\n .     handler(cnd)\n . }, warning = dplyr_warning_handler(state = warnings_state, mask = mask, \n .     error_call = error_call))",
      "5. map(quosures, summarise_eval_one, mask = mask)",
      "6. lapply(.x, .f, ...)",
      "7. FUN(X[[i]], ...)",
      "8. mask$eval_all_summarise(quo)",
      "9. eval()",
      "10. nrow(global_dataset)",
      "11. .handleSimpleError(function (cnd) \n  . {\n  .     if (inherits(cnd, \"dplyr:::summarise_incompatible_size\")) {\n  .         action <- \"recycle\"\n  .         i <- cnd$dplyr_error_data$index\n  .     }\n  .     else {\n  .         action <- \"compute\"\n  .         i <- i\n  .     }\n  .     handler <- dplyr_error_handler(dots = dots, mask = mask, \n  .         bullets = summarise_bullets, error_call = error_call, \n  .         action = action)\n  .     handler(cnd)\n  . }, \"object 'global_dataset' not found\", base::quote(NULL))",
      "12. h(simpleError(msg, call))",
      "13. handler(cnd)",
      "14. abort(message, class = error_class, parent = parent, call = error_call)",
      "15. signal_abort(cnd, .file)"
     ]
    }
   ],
   "source": [
    "global_data |>\n",
    "    mutate(diagnosis = as.factor(diagnosis)) |>\n",
    "    mutate(diagnosis = fct_recode(diagnosis, \"healthy\" = \"0\", \"sick\" = \"1\", \"sick\" = \"2\", \"sick\" = \"3\", \"sick\" = \"4\")) |>\n",
    "    mutate(row_contains_na = (is.na(age) | is.na(sex) | is.na(chest_pain) | is.na(rest_bp) | is.na(cholestrol) | is.na(fasting_blood_sugar) | is.na(rest_ecg) | is.na(max_hr) | is.na(exercise_angina) | is.na(st_depression) | is.na(slope_st_segment) | is.na(num_vessels) | is.na(thalassemia))) |>\n",
    "    group_by(diagnosis) |>\n",
    "    summarize(\n",
    "        count = n(), \n",
    "        num_rows_with_na = sum(row_contains_na),\n",
    "        percentage = count / nrow(global_data) * 100,\n",
    "        average_age = mean(age, na.rm = TRUE),\n",
    "        avg_resting_bp = mean(rest_bp, na.rm = TRUE),\n",
    "        avg_cholestorol = mean(cholestrol, na.rm = TRUE),\n",
    "        avg_max_hr = mean(rest_bp, na.rm = TRUE),\n",
    "        avg_oldpeak = mean(st_depression, na.rm = TRUE)\n",
    "        )\n",
    "    "
   ]
  },
  {
   "cell_type": "markdown",
   "metadata": {},
   "source": [
    "**Table 2.** Summary tibble with the number of rows containing NA values. Note that only columns for the averages of numerical variables' values are included, as it doesn't make sense to compute the averages of categorical variables' values.\n"
   ]
  },
  {
   "cell_type": "markdown",
   "metadata": {},
   "source": [
    "As suggested by `Table 2`, approximately 45% of the observations classified as `healthy` have missing values. Conversely, around 55% of the observations classified as `sick` have missing values. This implies that when we clean our data, we will need to address the frequent absence of values."
   ]
  },
  {
   "cell_type": "code",
   "execution_count": null,
   "metadata": {
    "vscode": {
     "languageId": "r"
    }
   },
   "outputs": [],
   "source": [
    "global_data |>\n",
    "        pivot_longer(cols = c(age, sex, chest_pain, rest_bp, cholestrol, fasting_blood_sugar, rest_ecg, max_hr, exercise_angina, st_depression, slope_st_segment, num_vessels, thalassemia)) |>\n",
    "        mutate(diagnosis = as.factor(diagnosis)) |>\n",
    "        mutate(diagnosis = fct_recode(diagnosis, \"healthy\" = \"0\", \"sick\" = \"1\", \"sick\" = \"2\", \"sick\" = \"3\", \"sick\" = \"4\")) |>\n",
    "        group_by(diagnosis, name) |>\n",
    "        summarize(\n",
    "            missing_values_count = sum(is.na(value))\n",
    "        ) |> \n",
    "        group_by(diagnosis) |>\n",
    "        summarize(na_count = sum(missing_values_count > 0))"
   ]
  },
  {
   "cell_type": "markdown",
   "metadata": {},
   "source": [
    "**Table 3.** Summary tibble with number of columns containing NA values."
   ]
  },
  {
   "cell_type": "markdown",
   "metadata": {},
   "source": [
    "`Table 3` indicates that the set of all healthy observations have missing values in 9 out of 13 columns, each corresponding to a variable in the dataset except for the Class. Similarly, the table shows that the set of all sick observations have missing values in 10 out of 13 columns. We've already determined that we need to address the issue of missing values, and this finding will influence our approach to handling them.\n"
   ]
  },
  {
   "cell_type": "markdown",
   "metadata": {},
   "source": [
    "#### Justification for the datasets we chose to use: ####\n",
    "\n",
    "After reviewing lines 109 - 124 of **heart-disease.names**, it became evident that despite the collection of data on numerous heart disease diagnoses with 76 attributes, only 14 attributes were utilized in experiments related to heart diseases. Given that our project aims to predict whether an observed individual may or may not have heart disease, we opted to select datasets containing only these 14 attributes as used by researchers.\n",
    "\n",
    "Consequently, our choices for data files were narrowed down to:\n",
    "- processed.cleveland.data\n",
    "- data.csv\n",
    "- processed.hungarian.data\n",
    "- processed.switzerland.data\n",
    "- processed.va.data\n",
    "- reprocessed.hungarian.data\n",
    "\n",
    "Choosing between processed.cleveland.data and data.csv:\n",
    "- We noticed that data.csv contained the same information as processed.cleveland.data but also included the names of the 14 attributes in the correct order. We decided to define the column names using a list. Therefore, we opted for processed.cleveland.data over data.csv.\n",
    "\n",
    "Choosing between processed.hungarian.data and reprocessed.hungarian.data:\n",
    "- Both files were identical except for the representation of missing values, with processed.hungarian.data using \"?\".\n",
    "- Consequently, we chose reprocessed.hungarian.data over processed.hungarian.data.\n"
   ]
  },
  {
   "cell_type": "markdown",
   "metadata": {},
   "source": [
    "Since a significant portion of rows in both the dataset associated with healthy and sick observations have NA values, we've decided to impute the missing entries of each row in the dataset. Additionally, we had to drop all categorical variables, including Sex, Chest Pain Type (chest_pain), Fasting Blood Sugar over 120 mg/dl (fasting_blood_sugar), Resting ECG Results (rest_ecg), Exercise Induced Angina (exercise_angina), Slope of the Peak Exercise ST Segment (slope_st_segment), and Thalassemia Type (thalassemia) because we're performing a classification."
   ]
  },
  {
   "cell_type": "markdown",
   "metadata": {},
   "source": [
    "Create a tidymodels recipe for standardizing our predictors and handling missing values:"
   ]
  },
  {
   "cell_type": "code",
   "execution_count": null,
   "metadata": {
    "vscode": {
     "languageId": "r"
    }
   },
   "outputs": [],
   "source": [
    "impute_recipe <- recipe(diagnosis ~ age + rest_bp + cholestrol + max_hr + st_depression, data = global_data) |>\n",
    "                        step_impute_mean(all_predictors()) |>\n",
    "                        step_center(all_predictors()) |>\n",
    "                        step_scale(all_predictors())"
   ]
  },
  {
   "cell_type": "markdown",
   "metadata": {},
   "source": [
    "Before we proceed with our Exploratory Data Analysis, we'll inspect the output of our recipe."
   ]
  },
  {
   "cell_type": "code",
   "execution_count": null,
   "metadata": {
    "vscode": {
     "languageId": "r"
    }
   },
   "outputs": [],
   "source": [
    "imputed_scaled_global_data <- impute_recipe |>  \n",
    "                            prep() |> \n",
    "                            bake(global_data)\n",
    "imputed_scaled_global_data\n",
    "\n",
    "head(imputed_scaled_global_data, 10)"
   ]
  },
  {
   "cell_type": "markdown",
   "metadata": {},
   "source": [
    "**Table 4.** A snippet of the output of a recipe containing potential predictor variables along with the Class variable."
   ]
  },
  {
   "cell_type": "markdown",
   "metadata": {},
   "source": [
    "#### 2) Visualizing the data with a plot pertinent to the analysis we will conduct, using only training data:"
   ]
  },
  {
   "cell_type": "code",
   "execution_count": null,
   "metadata": {
    "vscode": {
     "languageId": "r"
    }
   },
   "outputs": [],
   "source": [
    "imputed_scaled_global_data <- imputed_scaled_global_data |>\n",
    "      mutate(diagnosis = as.factor(diagnosis)) |>\n",
    "      mutate(diagnosis = fct_recode(diagnosis, \"healthy\" = \"0\", \"sick\" = \"1\", \"sick\" = \"2\", \"sick\" = \"3\", \"sick\" = \"4\"))"
   ]
  },
  {
   "cell_type": "code",
   "execution_count": null,
   "metadata": {
    "vscode": {
     "languageId": "r"
    }
   },
   "outputs": [],
   "source": [
    "options(repr.plot.width = 16, repr.plot.height = 14) \n",
    "\n",
    "mhr_oldpeak <- imputed_scaled_global_data |> \n",
    "    ggplot(aes(x = max_hr, y = rest_bp)) + \n",
    "    geom_point(aes(colour = diagnosis, shape = diagnosis), size = 3) + \n",
    "    labs(title = \"Max Heart Rate versus Resting Blood Pressure\", x = \"Max Heart Rate\", y = \"Resting Blood Pressure\", colour = \"Heart Disease Diagnosis\", shape = \"Heart Disease Diagnosis\") + \n",
    "    theme(text = element_text(size = 20))\n",
    "mhr_oldpeak"
   ]
  },
  {
   "cell_type": "markdown",
   "metadata": {},
   "source": [
    "**Figure 1.** A scatterplot illustrating the relationship between the predictor `rest_bp` and the predictor `max_hr`.\n"
   ]
  },
  {
   "cell_type": "markdown",
   "metadata": {},
   "source": [
    "Before commencing the classification process, we'll duplicate `global_data` and label it `heart_data`. This approach ensures code conciseness. Subsequently, we'll cleanse `heart_data` to match the columns and rows of `imputed_scaled_global_data`."
   ]
  },
  {
   "cell_type": "code",
   "execution_count": null,
   "metadata": {
    "vscode": {
     "languageId": "r"
    }
   },
   "outputs": [],
   "source": [
    "heart_data <- global_data\n",
    "\n",
    "heart_data <- heart_data |>\n",
    "      select(diagnosis, age, rest_bp, cholestrol, max_hr, st_depression)\n",
    "\n",
    "heart_data <- heart_data |>\n",
    "      mutate(diagnosis = as.factor(diagnosis)) |>\n",
    "      mutate(diagnosis = fct_recode(diagnosis, \"healthy\" = \"0\", \"sick\" = \"1\", \"sick\" = \"2\", \"sick\" = \"3\", \"sick\" = \"4\"))"
   ]
  },
  {
   "cell_type": "markdown",
   "metadata": {},
   "source": [
    "Now, we will start the classification process.\n",
    "\n",
    "We'll split `heart_data` into training (70%) and testing (30%) sets using the `initial_split` function. The variable `diagnosis` will serve as our class label, and we'll name the resulting object `heart_split`.\n",
    "\n",
    "Subsequently, we'll use the `heart_split` object in the training and testing functions, naming the respective objects `heart_train` and `heart_test`.\n"
   ]
  },
  {
   "cell_type": "code",
   "execution_count": null,
   "metadata": {
    "vscode": {
     "languageId": "r"
    }
   },
   "outputs": [],
   "source": [
    "heart_split <- initial_split(heart_data, prop = 0.7, strata = diagnosis)\n",
    "heart_train <- training(heart_split)\n",
    "heart_test <- testing(heart_split)"
   ]
  },
  {
   "cell_type": "markdown",
   "metadata": {},
   "source": [
    "Creating a tidymodels recipe to standardize our predictors and impute their missing entries for the variables `max_hr` and `st_depression`:\n"
   ]
  },
  {
   "cell_type": "code",
   "execution_count": null,
   "metadata": {
    "vscode": {
     "languageId": "r"
    }
   },
   "outputs": [],
   "source": [
    "heart_recipe <- recipe(diagnosis ~ max_hr + rest_bp , data = heart_train) |>\n",
    "                step_impute_mean(all_predictors()) |>\n",
    "                step_scale(all_predictors()) |>\n",
    "                step_center(all_predictors())\n",
    "\n",
    "imputed_scaled_heart_training <- heart_recipe |>\n",
    "               prep() |>\n",
    "               bake(heart_train)\n",
    "\n",
    "imputed_scaled_heart_training"
   ]
  },
  {
   "cell_type": "markdown",
   "metadata": {},
   "source": [
    "**Table 5.** An part of the output of a recipe including candidate predictor variables and the diagnosis variable.\n"
   ]
  },
  {
   "cell_type": "markdown",
   "metadata": {},
   "source": [
    "Note that in `Table 5`, our training set comprises only 3 variables, with 2 serving as predictors and the remaining variable being the `diagnosis` variable (i.e., the class label).\n"
   ]
  },
  {
   "cell_type": "markdown",
   "metadata": {},
   "source": [
    "Creating a model specification for K-nearest neighbors classification with k = 5 using the `nearest_neighbor()` function."
   ]
  },
  {
   "cell_type": "code",
   "execution_count": null,
   "metadata": {
    "vscode": {
     "languageId": "r"
    }
   },
   "outputs": [],
   "source": [
    "knn_spec <- nearest_neighbor(weight_func = \"rectangular\", neighbors = 5) |>\n",
    "       set_engine(\"kknn\") |>\n",
    "       set_mode(\"classification\")"
   ]
  },
  {
   "cell_type": "markdown",
   "metadata": {},
   "source": [
    "Combining `heart_recipe` with `knn_spec` in a workflow, and fitting it to the training set:"
   ]
  },
  {
   "cell_type": "code",
   "execution_count": null,
   "metadata": {
    "vscode": {
     "languageId": "r"
    }
   },
   "outputs": [],
   "source": [
    "heart_fit <- workflow() |>\n",
    "            add_recipe(heart_recipe) |>\n",
    "            add_model(knn_spec) |>\n",
    "            fit(data = heart_train)"
   ]
  },
  {
   "cell_type": "markdown",
   "metadata": {},
   "source": [
    "Now that we've created our K-nearest neighbor classifier object, we can predict the class labels for our test set.\n",
    "\n",
    "First, we pass our fitted model and the test dataset to the predict function.\n",
    "Then, we use the `bind_cols` function to append the column of predictions to the original test data:\n"
   ]
  },
  {
   "cell_type": "code",
   "execution_count": null,
   "metadata": {
    "vscode": {
     "languageId": "r"
    }
   },
   "outputs": [],
   "source": [
    "heart_test_predictions <- predict(heart_fit , heart_test) |>\n",
    "                          bind_cols(heart_test)\n",
    "                          \n",
    "head(heart_test_predictions, 10)"
   ]
  },
  {
   "cell_type": "markdown",
   "metadata": {},
   "source": [
    "**Table 6.** A table displaying a snippet of our model's predictions for the class labels alongside the corresponding observations in the testing set that the model attempted to predict."
   ]
  },
  {
   "cell_type": "markdown",
   "metadata": {},
   "source": [
    "We then use the metrics function to get statistics about the quality of our model:"
   ]
  },
  {
   "cell_type": "code",
   "execution_count": null,
   "metadata": {
    "vscode": {
     "languageId": "r"
    }
   },
   "outputs": [],
   "source": [
    "heart_model_metrics <- heart_test_predictions |> \n",
    "        metrics(truth = diagnosis, estimate = .pred_class) |>\n",
    "        head(1)\n",
    "heart_model_metrics"
   ]
  },
  {
   "cell_type": "code",
   "execution_count": null,
   "metadata": {
    "vscode": {
     "languageId": "r"
    }
   },
   "outputs": [],
   "source": []
  }
 ],
 "metadata": {
  "kernelspec": {
   "display_name": "R",
   "language": "R",
   "name": "ir"
  },
  "language_info": {
   "codemirror_mode": "r",
   "file_extension": ".r",
   "mimetype": "text/x-r-source",
   "name": "R",
   "pygments_lexer": "r",
   "version": "4.3.1"
  }
 },
 "nbformat": 4,
 "nbformat_minor": 4
}
