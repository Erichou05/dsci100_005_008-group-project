{
 "cells": [
  {
   "cell_type": "markdown",
   "metadata": {},
   "source": [
    "# Heart Disease in Patients"
   ]
  },
  {
   "cell_type": "markdown",
   "metadata": {},
   "source": [
    "Syed Zain Ali, ..."
   ]
  },
  {
   "cell_type": "markdown",
   "metadata": {},
   "source": [
    "## Introduction\n",
    "\n",
    "### Background Information\n",
    "Heart disease encompasses various conditions affecting the heart, including coronary heart disease and cardiomyopathy. It is a widespread health issue globally, claiming an estimated 17.9 million lives annually, with one-third of these deaths occurring prematurely in individuals under 70 years of age. Factors such as high blood pressure and elevated cholesterol levels are associated with an increased risk of heart disease.\n",
    "\n",
    "Early identification of heart disease in patients is crucial. Therefore, this project aims to evaluate the effectiveness of predicting a patient's likelihood of having heart disease based on two primary factors: ST depression induced by exercise relative to rest and maximum heart rate. The central question addressed is: How accurately can the presence of heart disease be predicted in patients through the classification of these key factors?\n",
    "\n",
    "For exploratory data analysis (EDA), scatterplots were generated for each possible pair of numeric variables. Upon comparing these plots, a correlation was observed between the presence of heart disease, low ST depression, and high maximum heart rate. Consequently, these two variables were selected for further analysis. Classification was chosen as the algorithm for prediction, as it aims to predict the categorical class label (healthy or presence of heart disease) based on the selected variables. While exploring additional risk factors such as sex and age would have been desirable with more time and resources, the project focused on a select set of variables to maintain manageability.\n",
    "\n",
    "- The presence of heart disease appears to be correlated with low ST depression and high maximum heart rate.\n",
    "- Classification was selected as the algorithm for prediction, aiming to predict the categorical class label (healthy or presence of heart disease) based on the selected variables.\n"
   ]
  },
  {
   "cell_type": "markdown",
   "metadata": {},
   "source": [
    "The column names for the dataset are as follows: \n",
    "\n",
    "1. **age** - Patient's age\n",
    "2. **sex** - Patient's sex\n",
    "3. **chest_pain** - Chest pain type\n",
    "4. **rest_bp** - Resting blood pressure\n",
    "5. **cholesterol** - Serum cholesterol level (mg/dl)\n",
    "6. **fasting_blood_sugar** - Fasting blood sugar > 120mg/dl (true/false)\n",
    "7. **rest_ecg** - Resting electrocardiographic results\n",
    "8. **max_hr** - Maximum heart rate\n",
    "9. **exercise_angina** - Exercise induced angina (yes/no)\n",
    "10. **st_depression** - ST Depression induced by exercise relative to rest levels\n",
    "11. **slope_st_segment** - Slope of the peak exercise ST segment\n",
    "12. **num_vessels** - Number of major vessels colored by flourosopy\n",
    "13. **thalassemia** - Presence of thalassemia ('fixed', 'reversible', 'normal')\n",
    "14. **diagnosis** - Diagnosis of heart disease ('healthy'/'sick')\n",
    "\n"
   ]
  },
  {
   "cell_type": "code",
   "execution_count": 176,
   "metadata": {
    "vscode": {
     "languageId": "r"
    }
   },
   "outputs": [
    {
     "name": "stderr",
     "output_type": "stream",
     "text": [
      "Warning message in install.packages(\"kknn\"):\n",
      "“installation of package ‘kknn’ had non-zero exit status”\n",
      "Updating HTML index of packages in '.Library'\n",
      "\n",
      "Making 'packages.html' ...\n",
      " done\n",
      "\n"
     ]
    }
   ],
   "source": [
    "library(tidyverse)\n",
    "library(repr)\n",
    "library(readxl)\n",
    "library(tidymodels)\n",
    "install.packages(\"kknn\")\n",
    "library(kknn)"
   ]
  },
  {
   "cell_type": "markdown",
   "metadata": {},
   "source": [
    "https://archive.ics.uci.edu/dataset/45/heart+disease"
   ]
  },
  {
   "cell_type": "markdown",
   "metadata": {},
   "source": [
    "## Methods and Results\n",
    "\n",
    "As stated in `worksheet_classification2.ipynb`, it is essential to call `set.seed` only once at the start of the analysis. This ensures that our random numbers are sufficiently random and that our code remains reproducible.\n"
   ]
  },
  {
   "cell_type": "code",
   "execution_count": 177,
   "metadata": {
    "vscode": {
     "languageId": "r"
    }
   },
   "outputs": [],
   "source": [
    "set.seed(9999)"
   ]
  },
  {
   "cell_type": "markdown",
   "metadata": {},
   "source": [
    "### Reading the data set from the web into R ###"
   ]
  },
  {
   "cell_type": "markdown",
   "metadata": {},
   "source": [
    "To read a CSV file containing the data from `processed.cleveland.data`, along with a row of column names (which correspond to the column names listed in `cleve.mod` under \"Original atts\" without the bracketed content):"
   ]
  },
  {
   "cell_type": "code",
   "execution_count": 178,
   "metadata": {
    "vscode": {
     "languageId": "r"
    }
   },
   "outputs": [],
   "source": [
    "col_names <- c(\"age\",  \n",
    "                \"sex\",\n",
    "                \"chest_pain\",    \n",
    "                \"rest_bp\",\n",
    "                \"cholestrol\",\n",
    "                \"fasting_blood_sugar\",\n",
    "                \"rest_ecg\",\n",
    "                \"max_hr\",\n",
    "                \"exercise_angina\",\n",
    "                \"st_depression\",\n",
    "                \"slope_st_segment\",\n",
    "                \"num_vessels\",\n",
    "                \"thalassemia\",\n",
    "                \"diagnosis\")"
   ]
  },
  {
   "cell_type": "code",
   "execution_count": 179,
   "metadata": {
    "vscode": {
     "languageId": "r"
    }
   },
   "outputs": [
    {
     "name": "stderr",
     "output_type": "stream",
     "text": [
      "\u001b[1mRows: \u001b[22m\u001b[34m303\u001b[39m \u001b[1mColumns: \u001b[22m\u001b[34m14\u001b[39m\n",
      "\u001b[36m──\u001b[39m \u001b[1mColumn specification\u001b[22m \u001b[36m────────────────────────────────────────────────────────\u001b[39m\n",
      "\u001b[1mDelimiter:\u001b[22m \",\"\n",
      "\u001b[31mchr\u001b[39m  (2): num_vessels, thalassemia\n",
      "\u001b[32mdbl\u001b[39m (12): age, sex, chest_pain, rest_bp, cholestrol, fasting_blood_sugar, re...\n",
      "\n",
      "\u001b[36mℹ\u001b[39m Use `spec()` to retrieve the full column specification for this data.\n",
      "\u001b[36mℹ\u001b[39m Specify the column types or set `show_col_types = FALSE` to quiet this message.\n",
      "Warning message:\n",
      "“\u001b[1m\u001b[22mThere were 2 warnings in `mutate()`.\n",
      "The first warning was:\n",
      "\u001b[1m\u001b[22m\u001b[36mℹ\u001b[39m In argument: `num_vessels = .Primitive(\"as.double\")(num_vessels)`.\n",
      "Caused by warning:\n",
      "\u001b[33m!\u001b[39m NAs introduced by coercion\n",
      "\u001b[1m\u001b[22m\u001b[36mℹ\u001b[39m Run `dplyr::last_dplyr_warnings()` to see the 1 remaining warning.”\n"
     ]
    }
   ],
   "source": [
    "options(repr.matrix.max.rows = 25)\n",
    "\n",
    "cleveland_data <- read_delim(file = url(\"https://archive.ics.uci.edu/ml/machine-learning-databases/heart-disease/processed.cleveland.data\"), \n",
    "                                delim = \",\", col_names = col_names) |>\n",
    "                                mutate_all(as.numeric)"
   ]
  },
  {
   "cell_type": "markdown",
   "metadata": {},
   "source": [
    "reading the data in `processed.switzerland.data`:"
   ]
  },
  {
   "cell_type": "code",
   "execution_count": 180,
   "metadata": {
    "vscode": {
     "languageId": "r"
    }
   },
   "outputs": [
    {
     "name": "stderr",
     "output_type": "stream",
     "text": [
      "\u001b[1mRows: \u001b[22m\u001b[34m123\u001b[39m \u001b[1mColumns: \u001b[22m\u001b[34m14\u001b[39m\n",
      "\u001b[36m──\u001b[39m \u001b[1mColumn specification\u001b[22m \u001b[36m────────────────────────────────────────────────────────\u001b[39m\n",
      "\u001b[1mDelimiter:\u001b[22m \",\"\n",
      "\u001b[31mchr\u001b[39m (9): rest_bp, fasting_blood_sugar, rest_ecg, max_hr, exercise_angina, st...\n",
      "\u001b[32mdbl\u001b[39m (5): age, sex, chest_pain, cholestrol, diagnosis\n",
      "\n",
      "\u001b[36mℹ\u001b[39m Use `spec()` to retrieve the full column specification for this data.\n",
      "\u001b[36mℹ\u001b[39m Specify the column types or set `show_col_types = FALSE` to quiet this message.\n",
      "Warning message:\n",
      "“\u001b[1m\u001b[22mThere were 9 warnings in `mutate()`.\n",
      "The first warning was:\n",
      "\u001b[1m\u001b[22m\u001b[36mℹ\u001b[39m In argument: `rest_bp = .Primitive(\"as.double\")(rest_bp)`.\n",
      "Caused by warning:\n",
      "\u001b[33m!\u001b[39m NAs introduced by coercion\n",
      "\u001b[1m\u001b[22m\u001b[36mℹ\u001b[39m Run `dplyr::last_dplyr_warnings()` to see the 8 remaining warnings.”\n"
     ]
    }
   ],
   "source": [
    "switzerland_data <- read_delim(file = url(\"https://archive.ics.uci.edu/ml/machine-learning-databases/heart-disease/processed.switzerland.data\"), \n",
    "                                   delim = \",\", col_names = col_names) |>\n",
    "                                   mutate_all(as.numeric)"
   ]
  },
  {
   "cell_type": "markdown",
   "metadata": {},
   "source": [
    "reading the data in `processed.va.data`:"
   ]
  },
  {
   "cell_type": "code",
   "execution_count": 181,
   "metadata": {
    "vscode": {
     "languageId": "r"
    }
   },
   "outputs": [
    {
     "name": "stderr",
     "output_type": "stream",
     "text": [
      "\u001b[1mRows: \u001b[22m\u001b[34m200\u001b[39m \u001b[1mColumns: \u001b[22m\u001b[34m14\u001b[39m\n",
      "\u001b[36m──\u001b[39m \u001b[1mColumn specification\u001b[22m \u001b[36m────────────────────────────────────────────────────────\u001b[39m\n",
      "\u001b[1mDelimiter:\u001b[22m \",\"\n",
      "\u001b[31mchr\u001b[39m (9): rest_bp, cholestrol, fasting_blood_sugar, max_hr, exercise_angina, ...\n",
      "\u001b[32mdbl\u001b[39m (5): age, sex, chest_pain, rest_ecg, diagnosis\n",
      "\n",
      "\u001b[36mℹ\u001b[39m Use `spec()` to retrieve the full column specification for this data.\n",
      "\u001b[36mℹ\u001b[39m Specify the column types or set `show_col_types = FALSE` to quiet this message.\n"
     ]
    },
    {
     "name": "stderr",
     "output_type": "stream",
     "text": [
      "Warning message:\n",
      "“\u001b[1m\u001b[22mThere were 9 warnings in `mutate()`.\n",
      "The first warning was:\n",
      "\u001b[1m\u001b[22m\u001b[36mℹ\u001b[39m In argument: `rest_bp = .Primitive(\"as.double\")(rest_bp)`.\n",
      "Caused by warning:\n",
      "\u001b[33m!\u001b[39m NAs introduced by coercion\n",
      "\u001b[1m\u001b[22m\u001b[36mℹ\u001b[39m Run `dplyr::last_dplyr_warnings()` to see the 8 remaining warnings.”\n"
     ]
    }
   ],
   "source": [
    "virginia_data <- read_delim(file = url(\"https://archive.ics.uci.edu/ml/machine-learning-databases/heart-disease/processed.va.data\"), \n",
    "                                   delim = \",\", col_names = col_names) |>\n",
    "                                   mutate_all(as.numeric)"
   ]
  },
  {
   "cell_type": "markdown",
   "metadata": {},
   "source": [
    "reading the data in `processed.hungarian.data`:"
   ]
  },
  {
   "cell_type": "code",
   "execution_count": 182,
   "metadata": {
    "vscode": {
     "languageId": "r"
    }
   },
   "outputs": [
    {
     "name": "stderr",
     "output_type": "stream",
     "text": [
      "\u001b[1mRows: \u001b[22m\u001b[34m294\u001b[39m \u001b[1mColumns: \u001b[22m\u001b[34m14\u001b[39m\n",
      "\u001b[36m──\u001b[39m \u001b[1mColumn specification\u001b[22m \u001b[36m────────────────────────────────────────────────────────\u001b[39m\n",
      "\u001b[1mDelimiter:\u001b[22m \" \"\n",
      "\u001b[32mdbl\u001b[39m (14): age, sex, chest_pain, rest_bp, cholestrol, fasting_blood_sugar, re...\n"
     ]
    },
    {
     "name": "stderr",
     "output_type": "stream",
     "text": [
      "\n",
      "\u001b[36mℹ\u001b[39m Use `spec()` to retrieve the full column specification for this data.\n",
      "\u001b[36mℹ\u001b[39m Specify the column types or set `show_col_types = FALSE` to quiet this message.\n"
     ]
    }
   ],
   "source": [
    "reprocessed_hungarian_data <- read_delim(file = url(\"https://archive.ics.uci.edu/ml/machine-learning-databases/heart-disease/reprocessed.hungarian.data\"), \n",
    "                                    delim = \" \", col_names = col_names) |>\n",
    "                                    mutate_all(as.numeric)"
   ]
  },
  {
   "cell_type": "markdown",
   "metadata": {},
   "source": [
    "To reference information when justifying some of the decisions made regarding data tidying, we need to read the file named `heart-disease.names`.\n"
   ]
  },
  {
   "cell_type": "code",
   "execution_count": 183,
   "metadata": {
    "vscode": {
     "languageId": "r"
    }
   },
   "outputs": [],
   "source": [
    "heart_disease_names <- read_file(file = url(\"https://archive.ics.uci.edu/ml/machine-learning-databases/heart-disease/heart-disease.names\"))"
   ]
  },
  {
   "cell_type": "markdown",
   "metadata": {},
   "source": [
    "Combining `cleveland_dataset_web`, `switzerland_dataset_web`, `virginia_dataset_web`, and `reprocessed_hungarian_dataset_web`.\n"
   ]
  },
  {
   "cell_type": "code",
   "execution_count": 184,
   "metadata": {
    "vscode": {
     "languageId": "r"
    }
   },
   "outputs": [
    {
     "data": {
      "text/html": [
       "<table class=\"dataframe\">\n",
       "<caption>A tibble: 25 × 14</caption>\n",
       "<thead>\n",
       "\t<tr><th scope=col>age</th><th scope=col>sex</th><th scope=col>chest_pain</th><th scope=col>rest_bp</th><th scope=col>cholestrol</th><th scope=col>fasting_blood_sugar</th><th scope=col>rest_ecg</th><th scope=col>max_hr</th><th scope=col>exercise_angina</th><th scope=col>st_depression</th><th scope=col>slope_st_segment</th><th scope=col>num_vessels</th><th scope=col>thalassemia</th><th scope=col>diagnosis</th></tr>\n",
       "\t<tr><th scope=col>&lt;dbl&gt;</th><th scope=col>&lt;dbl&gt;</th><th scope=col>&lt;dbl&gt;</th><th scope=col>&lt;dbl&gt;</th><th scope=col>&lt;dbl&gt;</th><th scope=col>&lt;dbl&gt;</th><th scope=col>&lt;dbl&gt;</th><th scope=col>&lt;dbl&gt;</th><th scope=col>&lt;dbl&gt;</th><th scope=col>&lt;dbl&gt;</th><th scope=col>&lt;dbl&gt;</th><th scope=col>&lt;dbl&gt;</th><th scope=col>&lt;dbl&gt;</th><th scope=col>&lt;dbl&gt;</th></tr>\n",
       "</thead>\n",
       "<tbody>\n",
       "\t<tr><td>63</td><td>1</td><td>1</td><td>145</td><td>233</td><td>1</td><td>2</td><td>150</td><td>0</td><td>2.3</td><td>3</td><td>0</td><td>6</td><td>0</td></tr>\n",
       "\t<tr><td>67</td><td>1</td><td>4</td><td>160</td><td>286</td><td>0</td><td>2</td><td>108</td><td>1</td><td>1.5</td><td>2</td><td>3</td><td>3</td><td>2</td></tr>\n",
       "\t<tr><td>67</td><td>1</td><td>4</td><td>120</td><td>229</td><td>0</td><td>2</td><td>129</td><td>1</td><td>2.6</td><td>2</td><td>2</td><td>7</td><td>1</td></tr>\n",
       "\t<tr><td>37</td><td>1</td><td>3</td><td>130</td><td>250</td><td>0</td><td>0</td><td>187</td><td>0</td><td>3.5</td><td>3</td><td>0</td><td>3</td><td>0</td></tr>\n",
       "\t<tr><td>41</td><td>0</td><td>2</td><td>130</td><td>204</td><td>0</td><td>2</td><td>172</td><td>0</td><td>1.4</td><td>1</td><td>0</td><td>3</td><td>0</td></tr>\n",
       "\t<tr><td>56</td><td>1</td><td>2</td><td>120</td><td>236</td><td>0</td><td>0</td><td>178</td><td>0</td><td>0.8</td><td>1</td><td>0</td><td>3</td><td>0</td></tr>\n",
       "\t<tr><td>62</td><td>0</td><td>4</td><td>140</td><td>268</td><td>0</td><td>2</td><td>160</td><td>0</td><td>3.6</td><td>3</td><td>2</td><td>3</td><td>3</td></tr>\n",
       "\t<tr><td>57</td><td>0</td><td>4</td><td>120</td><td>354</td><td>0</td><td>0</td><td>163</td><td>1</td><td>0.6</td><td>1</td><td>0</td><td>3</td><td>0</td></tr>\n",
       "\t<tr><td>63</td><td>1</td><td>4</td><td>130</td><td>254</td><td>0</td><td>2</td><td>147</td><td>0</td><td>1.4</td><td>2</td><td>1</td><td>7</td><td>2</td></tr>\n",
       "\t<tr><td>53</td><td>1</td><td>4</td><td>140</td><td>203</td><td>1</td><td>2</td><td>155</td><td>1</td><td>3.1</td><td>3</td><td>0</td><td>7</td><td>1</td></tr>\n",
       "\t<tr><td>57</td><td>1</td><td>4</td><td>140</td><td>192</td><td>0</td><td>0</td><td>148</td><td>0</td><td>0.4</td><td>2</td><td>0</td><td>6</td><td>0</td></tr>\n",
       "\t<tr><td>56</td><td>0</td><td>2</td><td>140</td><td>294</td><td>0</td><td>2</td><td>153</td><td>0</td><td>1.3</td><td>2</td><td>0</td><td>3</td><td>0</td></tr>\n",
       "\t<tr><td>56</td><td>1</td><td>3</td><td>130</td><td>256</td><td>1</td><td>2</td><td>142</td><td>1</td><td>0.6</td><td>2</td><td>1</td><td>6</td><td>2</td></tr>\n",
       "\t<tr><td>44</td><td>1</td><td>2</td><td>120</td><td>263</td><td>0</td><td>0</td><td>173</td><td>0</td><td>0.0</td><td>1</td><td>0</td><td>7</td><td>0</td></tr>\n",
       "\t<tr><td>52</td><td>1</td><td>3</td><td>172</td><td>199</td><td>1</td><td>0</td><td>162</td><td>0</td><td>0.5</td><td>1</td><td>0</td><td>7</td><td>0</td></tr>\n",
       "\t<tr><td>57</td><td>1</td><td>3</td><td>150</td><td>168</td><td>0</td><td>0</td><td>174</td><td>0</td><td>1.6</td><td>1</td><td>0</td><td>3</td><td>0</td></tr>\n",
       "\t<tr><td>48</td><td>1</td><td>2</td><td>110</td><td>229</td><td>0</td><td>0</td><td>168</td><td>0</td><td>1.0</td><td>3</td><td>0</td><td>7</td><td>1</td></tr>\n",
       "\t<tr><td>54</td><td>1</td><td>4</td><td>140</td><td>239</td><td>0</td><td>0</td><td>160</td><td>0</td><td>1.2</td><td>1</td><td>0</td><td>3</td><td>0</td></tr>\n",
       "\t<tr><td>48</td><td>0</td><td>3</td><td>130</td><td>275</td><td>0</td><td>0</td><td>139</td><td>0</td><td>0.2</td><td>1</td><td>0</td><td>3</td><td>0</td></tr>\n",
       "\t<tr><td>49</td><td>1</td><td>2</td><td>130</td><td>266</td><td>0</td><td>0</td><td>171</td><td>0</td><td>0.6</td><td>1</td><td>0</td><td>3</td><td>0</td></tr>\n",
       "\t<tr><td>64</td><td>1</td><td>1</td><td>110</td><td>211</td><td>0</td><td>2</td><td>144</td><td>1</td><td>1.8</td><td>2</td><td>0</td><td>3</td><td>0</td></tr>\n",
       "\t<tr><td>58</td><td>0</td><td>1</td><td>150</td><td>283</td><td>1</td><td>2</td><td>162</td><td>0</td><td>1.0</td><td>1</td><td>0</td><td>3</td><td>0</td></tr>\n",
       "\t<tr><td>58</td><td>1</td><td>2</td><td>120</td><td>284</td><td>0</td><td>2</td><td>160</td><td>0</td><td>1.8</td><td>2</td><td>0</td><td>3</td><td>1</td></tr>\n",
       "\t<tr><td>58</td><td>1</td><td>3</td><td>132</td><td>224</td><td>0</td><td>2</td><td>173</td><td>0</td><td>3.2</td><td>1</td><td>2</td><td>7</td><td>3</td></tr>\n",
       "\t<tr><td>60</td><td>1</td><td>4</td><td>130</td><td>206</td><td>0</td><td>2</td><td>132</td><td>1</td><td>2.4</td><td>2</td><td>2</td><td>7</td><td>4</td></tr>\n",
       "</tbody>\n",
       "</table>\n"
      ],
      "text/latex": [
       "A tibble: 25 × 14\n",
       "\\begin{tabular}{llllllllllllll}\n",
       " age & sex & chest\\_pain & rest\\_bp & cholestrol & fasting\\_blood\\_sugar & rest\\_ecg & max\\_hr & exercise\\_angina & st\\_depression & slope\\_st\\_segment & num\\_vessels & thalassemia & diagnosis\\\\\n",
       " <dbl> & <dbl> & <dbl> & <dbl> & <dbl> & <dbl> & <dbl> & <dbl> & <dbl> & <dbl> & <dbl> & <dbl> & <dbl> & <dbl>\\\\\n",
       "\\hline\n",
       "\t 63 & 1 & 1 & 145 & 233 & 1 & 2 & 150 & 0 & 2.3 & 3 & 0 & 6 & 0\\\\\n",
       "\t 67 & 1 & 4 & 160 & 286 & 0 & 2 & 108 & 1 & 1.5 & 2 & 3 & 3 & 2\\\\\n",
       "\t 67 & 1 & 4 & 120 & 229 & 0 & 2 & 129 & 1 & 2.6 & 2 & 2 & 7 & 1\\\\\n",
       "\t 37 & 1 & 3 & 130 & 250 & 0 & 0 & 187 & 0 & 3.5 & 3 & 0 & 3 & 0\\\\\n",
       "\t 41 & 0 & 2 & 130 & 204 & 0 & 2 & 172 & 0 & 1.4 & 1 & 0 & 3 & 0\\\\\n",
       "\t 56 & 1 & 2 & 120 & 236 & 0 & 0 & 178 & 0 & 0.8 & 1 & 0 & 3 & 0\\\\\n",
       "\t 62 & 0 & 4 & 140 & 268 & 0 & 2 & 160 & 0 & 3.6 & 3 & 2 & 3 & 3\\\\\n",
       "\t 57 & 0 & 4 & 120 & 354 & 0 & 0 & 163 & 1 & 0.6 & 1 & 0 & 3 & 0\\\\\n",
       "\t 63 & 1 & 4 & 130 & 254 & 0 & 2 & 147 & 0 & 1.4 & 2 & 1 & 7 & 2\\\\\n",
       "\t 53 & 1 & 4 & 140 & 203 & 1 & 2 & 155 & 1 & 3.1 & 3 & 0 & 7 & 1\\\\\n",
       "\t 57 & 1 & 4 & 140 & 192 & 0 & 0 & 148 & 0 & 0.4 & 2 & 0 & 6 & 0\\\\\n",
       "\t 56 & 0 & 2 & 140 & 294 & 0 & 2 & 153 & 0 & 1.3 & 2 & 0 & 3 & 0\\\\\n",
       "\t 56 & 1 & 3 & 130 & 256 & 1 & 2 & 142 & 1 & 0.6 & 2 & 1 & 6 & 2\\\\\n",
       "\t 44 & 1 & 2 & 120 & 263 & 0 & 0 & 173 & 0 & 0.0 & 1 & 0 & 7 & 0\\\\\n",
       "\t 52 & 1 & 3 & 172 & 199 & 1 & 0 & 162 & 0 & 0.5 & 1 & 0 & 7 & 0\\\\\n",
       "\t 57 & 1 & 3 & 150 & 168 & 0 & 0 & 174 & 0 & 1.6 & 1 & 0 & 3 & 0\\\\\n",
       "\t 48 & 1 & 2 & 110 & 229 & 0 & 0 & 168 & 0 & 1.0 & 3 & 0 & 7 & 1\\\\\n",
       "\t 54 & 1 & 4 & 140 & 239 & 0 & 0 & 160 & 0 & 1.2 & 1 & 0 & 3 & 0\\\\\n",
       "\t 48 & 0 & 3 & 130 & 275 & 0 & 0 & 139 & 0 & 0.2 & 1 & 0 & 3 & 0\\\\\n",
       "\t 49 & 1 & 2 & 130 & 266 & 0 & 0 & 171 & 0 & 0.6 & 1 & 0 & 3 & 0\\\\\n",
       "\t 64 & 1 & 1 & 110 & 211 & 0 & 2 & 144 & 1 & 1.8 & 2 & 0 & 3 & 0\\\\\n",
       "\t 58 & 0 & 1 & 150 & 283 & 1 & 2 & 162 & 0 & 1.0 & 1 & 0 & 3 & 0\\\\\n",
       "\t 58 & 1 & 2 & 120 & 284 & 0 & 2 & 160 & 0 & 1.8 & 2 & 0 & 3 & 1\\\\\n",
       "\t 58 & 1 & 3 & 132 & 224 & 0 & 2 & 173 & 0 & 3.2 & 1 & 2 & 7 & 3\\\\\n",
       "\t 60 & 1 & 4 & 130 & 206 & 0 & 2 & 132 & 1 & 2.4 & 2 & 2 & 7 & 4\\\\\n",
       "\\end{tabular}\n"
      ],
      "text/markdown": [
       "\n",
       "A tibble: 25 × 14\n",
       "\n",
       "| age &lt;dbl&gt; | sex &lt;dbl&gt; | chest_pain &lt;dbl&gt; | rest_bp &lt;dbl&gt; | cholestrol &lt;dbl&gt; | fasting_blood_sugar &lt;dbl&gt; | rest_ecg &lt;dbl&gt; | max_hr &lt;dbl&gt; | exercise_angina &lt;dbl&gt; | st_depression &lt;dbl&gt; | slope_st_segment &lt;dbl&gt; | num_vessels &lt;dbl&gt; | thalassemia &lt;dbl&gt; | diagnosis &lt;dbl&gt; |\n",
       "|---|---|---|---|---|---|---|---|---|---|---|---|---|---|\n",
       "| 63 | 1 | 1 | 145 | 233 | 1 | 2 | 150 | 0 | 2.3 | 3 | 0 | 6 | 0 |\n",
       "| 67 | 1 | 4 | 160 | 286 | 0 | 2 | 108 | 1 | 1.5 | 2 | 3 | 3 | 2 |\n",
       "| 67 | 1 | 4 | 120 | 229 | 0 | 2 | 129 | 1 | 2.6 | 2 | 2 | 7 | 1 |\n",
       "| 37 | 1 | 3 | 130 | 250 | 0 | 0 | 187 | 0 | 3.5 | 3 | 0 | 3 | 0 |\n",
       "| 41 | 0 | 2 | 130 | 204 | 0 | 2 | 172 | 0 | 1.4 | 1 | 0 | 3 | 0 |\n",
       "| 56 | 1 | 2 | 120 | 236 | 0 | 0 | 178 | 0 | 0.8 | 1 | 0 | 3 | 0 |\n",
       "| 62 | 0 | 4 | 140 | 268 | 0 | 2 | 160 | 0 | 3.6 | 3 | 2 | 3 | 3 |\n",
       "| 57 | 0 | 4 | 120 | 354 | 0 | 0 | 163 | 1 | 0.6 | 1 | 0 | 3 | 0 |\n",
       "| 63 | 1 | 4 | 130 | 254 | 0 | 2 | 147 | 0 | 1.4 | 2 | 1 | 7 | 2 |\n",
       "| 53 | 1 | 4 | 140 | 203 | 1 | 2 | 155 | 1 | 3.1 | 3 | 0 | 7 | 1 |\n",
       "| 57 | 1 | 4 | 140 | 192 | 0 | 0 | 148 | 0 | 0.4 | 2 | 0 | 6 | 0 |\n",
       "| 56 | 0 | 2 | 140 | 294 | 0 | 2 | 153 | 0 | 1.3 | 2 | 0 | 3 | 0 |\n",
       "| 56 | 1 | 3 | 130 | 256 | 1 | 2 | 142 | 1 | 0.6 | 2 | 1 | 6 | 2 |\n",
       "| 44 | 1 | 2 | 120 | 263 | 0 | 0 | 173 | 0 | 0.0 | 1 | 0 | 7 | 0 |\n",
       "| 52 | 1 | 3 | 172 | 199 | 1 | 0 | 162 | 0 | 0.5 | 1 | 0 | 7 | 0 |\n",
       "| 57 | 1 | 3 | 150 | 168 | 0 | 0 | 174 | 0 | 1.6 | 1 | 0 | 3 | 0 |\n",
       "| 48 | 1 | 2 | 110 | 229 | 0 | 0 | 168 | 0 | 1.0 | 3 | 0 | 7 | 1 |\n",
       "| 54 | 1 | 4 | 140 | 239 | 0 | 0 | 160 | 0 | 1.2 | 1 | 0 | 3 | 0 |\n",
       "| 48 | 0 | 3 | 130 | 275 | 0 | 0 | 139 | 0 | 0.2 | 1 | 0 | 3 | 0 |\n",
       "| 49 | 1 | 2 | 130 | 266 | 0 | 0 | 171 | 0 | 0.6 | 1 | 0 | 3 | 0 |\n",
       "| 64 | 1 | 1 | 110 | 211 | 0 | 2 | 144 | 1 | 1.8 | 2 | 0 | 3 | 0 |\n",
       "| 58 | 0 | 1 | 150 | 283 | 1 | 2 | 162 | 0 | 1.0 | 1 | 0 | 3 | 0 |\n",
       "| 58 | 1 | 2 | 120 | 284 | 0 | 2 | 160 | 0 | 1.8 | 2 | 0 | 3 | 1 |\n",
       "| 58 | 1 | 3 | 132 | 224 | 0 | 2 | 173 | 0 | 3.2 | 1 | 2 | 7 | 3 |\n",
       "| 60 | 1 | 4 | 130 | 206 | 0 | 2 | 132 | 1 | 2.4 | 2 | 2 | 7 | 4 |\n",
       "\n"
      ],
      "text/plain": [
       "   age sex chest_pain rest_bp cholestrol fasting_blood_sugar rest_ecg max_hr\n",
       "1  63  1   1          145     233        1                   2        150   \n",
       "2  67  1   4          160     286        0                   2        108   \n",
       "3  67  1   4          120     229        0                   2        129   \n",
       "4  37  1   3          130     250        0                   0        187   \n",
       "5  41  0   2          130     204        0                   2        172   \n",
       "6  56  1   2          120     236        0                   0        178   \n",
       "7  62  0   4          140     268        0                   2        160   \n",
       "8  57  0   4          120     354        0                   0        163   \n",
       "9  63  1   4          130     254        0                   2        147   \n",
       "10 53  1   4          140     203        1                   2        155   \n",
       "11 57  1   4          140     192        0                   0        148   \n",
       "12 56  0   2          140     294        0                   2        153   \n",
       "13 56  1   3          130     256        1                   2        142   \n",
       "14 44  1   2          120     263        0                   0        173   \n",
       "15 52  1   3          172     199        1                   0        162   \n",
       "16 57  1   3          150     168        0                   0        174   \n",
       "17 48  1   2          110     229        0                   0        168   \n",
       "18 54  1   4          140     239        0                   0        160   \n",
       "19 48  0   3          130     275        0                   0        139   \n",
       "20 49  1   2          130     266        0                   0        171   \n",
       "21 64  1   1          110     211        0                   2        144   \n",
       "22 58  0   1          150     283        1                   2        162   \n",
       "23 58  1   2          120     284        0                   2        160   \n",
       "24 58  1   3          132     224        0                   2        173   \n",
       "25 60  1   4          130     206        0                   2        132   \n",
       "   exercise_angina st_depression slope_st_segment num_vessels thalassemia\n",
       "1  0               2.3           3                0           6          \n",
       "2  1               1.5           2                3           3          \n",
       "3  1               2.6           2                2           7          \n",
       "4  0               3.5           3                0           3          \n",
       "5  0               1.4           1                0           3          \n",
       "6  0               0.8           1                0           3          \n",
       "7  0               3.6           3                2           3          \n",
       "8  1               0.6           1                0           3          \n",
       "9  0               1.4           2                1           7          \n",
       "10 1               3.1           3                0           7          \n",
       "11 0               0.4           2                0           6          \n",
       "12 0               1.3           2                0           3          \n",
       "13 1               0.6           2                1           6          \n",
       "14 0               0.0           1                0           7          \n",
       "15 0               0.5           1                0           7          \n",
       "16 0               1.6           1                0           3          \n",
       "17 0               1.0           3                0           7          \n",
       "18 0               1.2           1                0           3          \n",
       "19 0               0.2           1                0           3          \n",
       "20 0               0.6           1                0           3          \n",
       "21 1               1.8           2                0           3          \n",
       "22 0               1.0           1                0           3          \n",
       "23 0               1.8           2                0           3          \n",
       "24 0               3.2           1                2           7          \n",
       "25 1               2.4           2                2           7          \n",
       "   diagnosis\n",
       "1  0        \n",
       "2  2        \n",
       "3  1        \n",
       "4  0        \n",
       "5  0        \n",
       "6  0        \n",
       "7  3        \n",
       "8  0        \n",
       "9  2        \n",
       "10 1        \n",
       "11 0        \n",
       "12 0        \n",
       "13 2        \n",
       "14 0        \n",
       "15 0        \n",
       "16 0        \n",
       "17 1        \n",
       "18 0        \n",
       "19 0        \n",
       "20 0        \n",
       "21 0        \n",
       "22 0        \n",
       "23 1        \n",
       "24 3        \n",
       "25 4        "
      ]
     },
     "metadata": {},
     "output_type": "display_data"
    }
   ],
   "source": [
    "global_data <- bind_rows(cleveland_data, switzerland_data, virginia_data, reprocessed_hungarian_data)\n",
    "head(global_data, 25)"
   ]
  },
  {
   "cell_type": "markdown",
   "metadata": {},
   "source": [
    "**Table 1**. The first 25 rows of our dataset "
   ]
  },
  {
   "cell_type": "markdown",
   "metadata": {},
   "source": [
    "Looking at `Table 1`, it's worth noting the presence of numerous -9's. Additionally, there's a discernible hierarchy among the numeric variables concerning their range of values. Specifically, `cholestrol` exhibits the widest range of values, while `st_depression` has the narrowest range. Despite all variables being of type `double`, it's apparent that many are actually categorical. We elaborate on how we differentiated between numeric and categorical variables later in this report."
   ]
  },
  {
   "cell_type": "markdown",
   "metadata": {},
   "source": [
    "Here, we convert the value -9 to NA, as indicated by this excerpt from the file named heart-disease.names: \n",
    ">\"Missing Attribute Values: Several. Distinguished with value -9.0.\"\n"
   ]
  },
  {
   "cell_type": "code",
   "execution_count": 185,
   "metadata": {
    "vscode": {
     "languageId": "r"
    }
   },
   "outputs": [],
   "source": [
    "na_matrix <- global_data == \"-9\"\n",
    "\n",
    "is.na(global_data) <- na_matrix"
   ]
  },
  {
   "cell_type": "markdown",
   "metadata": {},
   "source": [
    "### Cleaning and wrangling the data into a tidy format"
   ]
  },
  {
   "cell_type": "markdown",
   "metadata": {},
   "source": [
    "We now attempt to create a table reporting:\n",
    "\n",
    "- Counts for healthy and sick observations\n",
    "- Counts of rows with missing values for healthy and sick observations\n",
    "- Averages of variables that we consider candidates for predictors.\n"
   ]
  },
  {
   "cell_type": "markdown",
   "metadata": {},
   "source": [
    "The description of the `num` attribute in `heart-disease.names` doesn't align with the possible values found in any of the four data files used in our analysis. Here are the discrepancies:\n",
    "\n",
    "a) In the \"7. Attribute Information\" subsection of `heart-disease.names`, it states that `num` can either be 0 or 1. However, values of `num` in the range 0:4 are present within the first 25 rows of `global_data`.\n",
    "\n",
    "b) Additionally, under the same subsection, it's stated that 0 indicates < 50% diameter narrowing, while 1 indicates > 50% diameter narrowing. This contradicts the description of `num` under the \"4. Relevant Information\" subsection, which specifies that \"Experiments with the Cleveland database have concentrated on simply attempting to distinguish presence (values 1,2,3,4) from absence (value 0)\".\n",
    "\n",
    "As a result, we strongly believe that 0 does not indicate < 50% diameter narrowing, and 1 does not indicate > 50% diameter narrowing. Our stance on this matter is supported by the author of another paper referencing the same dataset. In the \"4. Hybrid Rule Sets Model\" section, the author stipulated that when their proposed model learns from \"a heart disease dataset from the UCI ML repository\", a value of 1 assigned to the Y variable conveys that \"the patient has heart disease\" (Wang, 2018). Furthermore, in another paper demonstrating the computation of metrics for quantifying the quality of biomedical data on the same heart disease dataset, the authors noted that \"studies with the Heart Disease dataset generally group positive values into a single positive class\" (Silvestre et al., 2014).\n",
    "\n",
    "Based on this understanding, we proceed with our analysis, considering value 0 to indicate the absence of heart disease, while values 1, 2, 3, 4 indicate its presence.\n"
   ]
  },
  {
   "cell_type": "code",
   "execution_count": 186,
   "metadata": {
    "vscode": {
     "languageId": "r"
    }
   },
   "outputs": [],
   "source": [
    "global_data <- as_tibble(global_data)"
   ]
  },
  {
   "cell_type": "code",
   "execution_count": 187,
   "metadata": {
    "vscode": {
     "languageId": "r"
    }
   },
   "outputs": [
    {
     "data": {
      "text/html": [
       "<table class=\"dataframe\">\n",
       "<caption>A tibble: 2 × 9</caption>\n",
       "<thead>\n",
       "\t<tr><th scope=col>diagnosis</th><th scope=col>count</th><th scope=col>num_rows_with_na</th><th scope=col>percentage</th><th scope=col>average_age</th><th scope=col>avg_resting_bp</th><th scope=col>avg_cholestorol</th><th scope=col>avg_max_hr</th><th scope=col>avg_oldpeak</th></tr>\n",
       "\t<tr><th scope=col>&lt;fct&gt;</th><th scope=col>&lt;int&gt;</th><th scope=col>&lt;int&gt;</th><th scope=col>&lt;dbl&gt;</th><th scope=col>&lt;dbl&gt;</th><th scope=col>&lt;dbl&gt;</th><th scope=col>&lt;dbl&gt;</th><th scope=col>&lt;dbl&gt;</th><th scope=col>&lt;dbl&gt;</th></tr>\n",
       "</thead>\n",
       "<tbody>\n",
       "\t<tr><td>healthy</td><td>411</td><td>251</td><td>44.62541</td><td>50.54745</td><td>129.9130</td><td>227.9056</td><td>129.9130</td><td>0.4182051</td></tr>\n",
       "\t<tr><td>sick   </td><td>509</td><td>370</td><td>55.26602</td><td>55.90373</td><td>133.9787</td><td>176.4799</td><td>133.9787</td><td>1.2626068</td></tr>\n",
       "</tbody>\n",
       "</table>\n"
      ],
      "text/latex": [
       "A tibble: 2 × 9\n",
       "\\begin{tabular}{lllllllll}\n",
       " diagnosis & count & num\\_rows\\_with\\_na & percentage & average\\_age & avg\\_resting\\_bp & avg\\_cholestorol & avg\\_max\\_hr & avg\\_oldpeak\\\\\n",
       " <fct> & <int> & <int> & <dbl> & <dbl> & <dbl> & <dbl> & <dbl> & <dbl>\\\\\n",
       "\\hline\n",
       "\t healthy & 411 & 251 & 44.62541 & 50.54745 & 129.9130 & 227.9056 & 129.9130 & 0.4182051\\\\\n",
       "\t sick    & 509 & 370 & 55.26602 & 55.90373 & 133.9787 & 176.4799 & 133.9787 & 1.2626068\\\\\n",
       "\\end{tabular}\n"
      ],
      "text/markdown": [
       "\n",
       "A tibble: 2 × 9\n",
       "\n",
       "| diagnosis &lt;fct&gt; | count &lt;int&gt; | num_rows_with_na &lt;int&gt; | percentage &lt;dbl&gt; | average_age &lt;dbl&gt; | avg_resting_bp &lt;dbl&gt; | avg_cholestorol &lt;dbl&gt; | avg_max_hr &lt;dbl&gt; | avg_oldpeak &lt;dbl&gt; |\n",
       "|---|---|---|---|---|---|---|---|---|\n",
       "| healthy | 411 | 251 | 44.62541 | 50.54745 | 129.9130 | 227.9056 | 129.9130 | 0.4182051 |\n",
       "| sick    | 509 | 370 | 55.26602 | 55.90373 | 133.9787 | 176.4799 | 133.9787 | 1.2626068 |\n",
       "\n"
      ],
      "text/plain": [
       "  diagnosis count num_rows_with_na percentage average_age avg_resting_bp\n",
       "1 healthy   411   251              44.62541   50.54745    129.9130      \n",
       "2 sick      509   370              55.26602   55.90373    133.9787      \n",
       "  avg_cholestorol avg_max_hr avg_oldpeak\n",
       "1 227.9056        129.9130   0.4182051  \n",
       "2 176.4799        133.9787   1.2626068  "
      ]
     },
     "metadata": {},
     "output_type": "display_data"
    }
   ],
   "source": [
    "global_data |>\n",
    "    mutate(diagnosis = as.factor(diagnosis)) |>\n",
    "    mutate(diagnosis = fct_recode(diagnosis, \"healthy\" = \"0\", \"sick\" = \"1\", \"sick\" = \"2\", \"sick\" = \"3\", \"sick\" = \"4\")) |>\n",
    "    mutate(row_contains_na = (is.na(age) | is.na(sex) | is.na(chest_pain) | is.na(rest_bp) | is.na(cholestrol) | is.na(fasting_blood_sugar) | is.na(rest_ecg) | is.na(max_hr) | is.na(exercise_angina) | is.na(st_depression) | is.na(slope_st_segment) | is.na(num_vessels) | is.na(thalassemia))) |>\n",
    "    group_by(diagnosis) |>\n",
    "    summarize(\n",
    "        count = n(), \n",
    "        num_rows_with_na = sum(row_contains_na),\n",
    "        percentage = count / nrow(global_dataset_missing) * 100,\n",
    "        average_age = mean(age, na.rm = TRUE),\n",
    "        avg_resting_bp = mean(rest_bp, na.rm = TRUE),\n",
    "        avg_cholestorol = mean(cholestrol, na.rm = TRUE),\n",
    "        avg_max_hr = mean(rest_bp, na.rm = TRUE),\n",
    "        avg_oldpeak = mean(st_depression, na.rm = TRUE)\n",
    "        )\n",
    "    "
   ]
  },
  {
   "cell_type": "markdown",
   "metadata": {},
   "source": [
    "**Table 2.** Summary tibble with the number of rows containing NA values. Note that only columns for the averages of numerical variables' values are included, as it doesn't make sense to compute the averages of categorical variables' values.\n"
   ]
  },
  {
   "cell_type": "markdown",
   "metadata": {},
   "source": [
    "As suggested by `Table 2`, approximately 45% of the observations classified as `healthy` have missing values. Conversely, around 55% of the observations classified as `sick` have missing values. This implies that when we clean our data, we will need to address the frequent absence of values."
   ]
  },
  {
   "cell_type": "code",
   "execution_count": 188,
   "metadata": {
    "vscode": {
     "languageId": "r"
    }
   },
   "outputs": [
    {
     "name": "stderr",
     "output_type": "stream",
     "text": [
      "\u001b[1m\u001b[22m`summarise()` has grouped output by 'diagnosis'. You can override using the\n",
      "`.groups` argument.\n"
     ]
    },
    {
     "data": {
      "text/html": [
       "<table class=\"dataframe\">\n",
       "<caption>A tibble: 2 × 2</caption>\n",
       "<thead>\n",
       "\t<tr><th scope=col>diagnosis</th><th scope=col>na_count</th></tr>\n",
       "\t<tr><th scope=col>&lt;fct&gt;</th><th scope=col>&lt;int&gt;</th></tr>\n",
       "</thead>\n",
       "<tbody>\n",
       "\t<tr><td>healthy</td><td> 9</td></tr>\n",
       "\t<tr><td>sick   </td><td>10</td></tr>\n",
       "</tbody>\n",
       "</table>\n"
      ],
      "text/latex": [
       "A tibble: 2 × 2\n",
       "\\begin{tabular}{ll}\n",
       " diagnosis & na\\_count\\\\\n",
       " <fct> & <int>\\\\\n",
       "\\hline\n",
       "\t healthy &  9\\\\\n",
       "\t sick    & 10\\\\\n",
       "\\end{tabular}\n"
      ],
      "text/markdown": [
       "\n",
       "A tibble: 2 × 2\n",
       "\n",
       "| diagnosis &lt;fct&gt; | na_count &lt;int&gt; |\n",
       "|---|---|\n",
       "| healthy |  9 |\n",
       "| sick    | 10 |\n",
       "\n"
      ],
      "text/plain": [
       "  diagnosis na_count\n",
       "1 healthy    9      \n",
       "2 sick      10      "
      ]
     },
     "metadata": {},
     "output_type": "display_data"
    }
   ],
   "source": [
    "global_data |>\n",
    "        pivot_longer(cols = c(age, sex, chest_pain, rest_bp, cholestrol, fasting_blood_sugar, rest_ecg, max_hr, exercise_angina, st_depression, slope_st_segment, num_vessels, thalassemia)) |>\n",
    "        mutate(diagnosis = as.factor(diagnosis)) |>\n",
    "        mutate(diagnosis = fct_recode(diagnosis, \"healthy\" = \"0\", \"sick\" = \"1\", \"sick\" = \"2\", \"sick\" = \"3\", \"sick\" = \"4\")) |>\n",
    "        group_by(diagnosis, name) |>\n",
    "        summarize(\n",
    "            missing_values_count = sum(is.na(value))\n",
    "        ) |> \n",
    "        group_by(diagnosis) |>\n",
    "        summarize(na_count = sum(missing_values_count > 0))"
   ]
  },
  {
   "cell_type": "markdown",
   "metadata": {},
   "source": [
    "**Table 3.** Summary tibble with number of columns containing NA values."
   ]
  },
  {
   "cell_type": "markdown",
   "metadata": {},
   "source": [
    "`Table 3` indicates that the set of all healthy observations have missing values in 9 out of 13 columns, each corresponding to a variable in the dataset except for the Class. Similarly, the table shows that the set of all sick observations have missing values in 10 out of 13 columns. We've already determined that we need to address the issue of missing values, and this finding will influence our approach to handling them.\n"
   ]
  },
  {
   "cell_type": "markdown",
   "metadata": {},
   "source": [
    "#### Justification for the datasets we chose to use: ####\n",
    "\n",
    "After reviewing lines 109 - 124 of **heart-disease.names**, it became evident that despite the collection of data on numerous heart disease diagnoses with 76 attributes, only 14 attributes were utilized in experiments related to heart diseases. Given that our project aims to predict whether an observed individual may or may not have heart disease, we opted to select datasets containing only these 14 attributes as used by researchers.\n",
    "\n",
    "Consequently, our choices for data files were narrowed down to:\n",
    "- processed.cleveland.data\n",
    "- data.csv\n",
    "- processed.hungarian.data\n",
    "- processed.switzerland.data\n",
    "- processed.va.data\n",
    "- reprocessed.hungarian.data\n",
    "\n",
    "Choosing between processed.cleveland.data and data.csv:\n",
    "- We noticed that data.csv contained the same information as processed.cleveland.data but also included the names of the 14 attributes in the correct order. We decided to define the column names using a list. Therefore, we opted for processed.cleveland.data over data.csv.\n",
    "\n",
    "Choosing between processed.hungarian.data and reprocessed.hungarian.data:\n",
    "- Both files were identical except for the representation of missing values, with processed.hungarian.data using \"?\".\n",
    "- Consequently, we chose reprocessed.hungarian.data over processed.hungarian.data.\n"
   ]
  },
  {
   "cell_type": "markdown",
   "metadata": {},
   "source": [
    "Since a significant portion of rows in both the dataset associated with healthy and sick observations have NA values, we've decided to impute the missing entries of each row in the dataset. Additionally, we had to drop all categorical variables, including Sex, Chest Pain Type (chest_pain), Fasting Blood Sugar over 120 mg/dl (fasting_blood_sugar), Resting ECG Results (rest_ecg), Exercise Induced Angina (exercise_angina), Slope of the Peak Exercise ST Segment (slope_st_segment), and Thalassemia Type (thalassemia) because we're performing a classification."
   ]
  },
  {
   "cell_type": "markdown",
   "metadata": {},
   "source": [
    "Create a tidymodels recipe for standardizing our predictors and handling missing values:"
   ]
  },
  {
   "cell_type": "code",
   "execution_count": 189,
   "metadata": {
    "vscode": {
     "languageId": "r"
    }
   },
   "outputs": [],
   "source": [
    "impute_recipe <- recipe(diagnosis ~ age + rest_bp + cholestrol + max_hr + st_depression, data = global_data) |>\n",
    "                        step_impute_mean(all_predictors()) |>\n",
    "                        step_center(all_predictors()) |>\n",
    "                        step_scale(all_predictors())"
   ]
  },
  {
   "cell_type": "markdown",
   "metadata": {},
   "source": [
    "Before we proceed with our Exploratory Data Analysis, we'll inspect the output of our recipe."
   ]
  },
  {
   "cell_type": "code",
   "execution_count": 190,
   "metadata": {
    "vscode": {
     "languageId": "r"
    }
   },
   "outputs": [
    {
     "data": {
      "text/html": [
       "<table class=\"dataframe\">\n",
       "<caption>A tibble: 920 × 6</caption>\n",
       "<thead>\n",
       "\t<tr><th scope=col>age</th><th scope=col>rest_bp</th><th scope=col>cholestrol</th><th scope=col>max_hr</th><th scope=col>st_depression</th><th scope=col>diagnosis</th></tr>\n",
       "\t<tr><th scope=col>&lt;dbl&gt;</th><th scope=col>&lt;dbl&gt;</th><th scope=col>&lt;dbl&gt;</th><th scope=col>&lt;dbl&gt;</th><th scope=col>&lt;dbl&gt;</th><th scope=col>&lt;dbl&gt;</th></tr>\n",
       "</thead>\n",
       "<tbody>\n",
       "\t<tr><td> 1.00683792</td><td> 0.6976615</td><td> 0.31085168</td><td> 0.4954288</td><td> 1.34868785</td><td>0</td></tr>\n",
       "\t<tr><td> 1.43125528</td><td> 1.5109388</td><td> 0.79727927</td><td>-1.1753156</td><td> 0.58951174</td><td>2</td></tr>\n",
       "\t<tr><td> 1.43125528</td><td>-0.6578005</td><td> 0.27414016</td><td>-0.3399434</td><td> 1.63337888</td><td>1</td></tr>\n",
       "\t<tr><td>-1.75187491</td><td>-0.1156157</td><td> 0.46687562</td><td> 1.9672751</td><td> 2.48745200</td><td>0</td></tr>\n",
       "\t<tr><td>-1.32745755</td><td>-0.1156157</td><td> 0.04469318</td><td> 1.3705807</td><td> 0.49461473</td><td>0</td></tr>\n",
       "\t<tr><td> 0.26410754</td><td>-0.6578005</td><td> 0.33838531</td><td> 1.6092585</td><td>-0.07476734</td><td>0</td></tr>\n",
       "\t<tr><td> 0.90073358</td><td> 0.4265691</td><td> 0.63207745</td><td> 0.8932251</td><td> 2.58234901</td><td>3</td></tr>\n",
       "\t<tr><td> 0.37021188</td><td>-0.6578005</td><td> 1.42137506</td><td> 1.0125640</td><td>-0.26456137</td><td>0</td></tr>\n",
       "\t<tr><td> 1.00683792</td><td>-0.1156157</td><td> 0.50358714</td><td> 0.3760900</td><td> 0.49461473</td><td>2</td></tr>\n",
       "\t<tr><td>-0.05420548</td><td> 0.4265691</td><td> 0.03551530</td><td> 0.6943270</td><td> 2.10786395</td><td>1</td></tr>\n",
       "\t<tr><td> 0.37021188</td><td> 0.4265691</td><td>-0.06544137</td><td> 0.4158696</td><td>-0.45435539</td><td>0</td></tr>\n",
       "\t<tr><td> 0.26410754</td><td> 0.4265691</td><td> 0.87070231</td><td> 0.6147677</td><td> 0.39971772</td><td>0</td></tr>\n",
       "\t<tr><td> 0.26410754</td><td>-0.1156157</td><td> 0.52194290</td><td> 0.1771918</td><td>-0.26456137</td><td>2</td></tr>\n",
       "\t<tr><td>⋮</td><td>⋮</td><td>⋮</td><td>⋮</td><td>⋮</td><td>⋮</td></tr>\n",
       "\t<tr><td>-0.47862284</td><td> 0.9687539</td><td> 0.20989500</td><td>-0.61840079</td><td> 1.0639968</td><td>4</td></tr>\n",
       "\t<tr><td>-0.26641416</td><td>-0.1156157</td><td> 0.19153925</td><td> 0.89322514</td><td> 1.0639968</td><td>0</td></tr>\n",
       "\t<tr><td> 0.15800320</td><td>-1.1999854</td><td> 1.32959627</td><td> 0.89322514</td><td>-0.8339434</td><td>0</td></tr>\n",
       "\t<tr><td>-1.22135321</td><td> 0.4265691</td><td> 1.45808658</td><td> 1.29102144</td><td>-0.8339434</td><td>0</td></tr>\n",
       "\t<tr><td>-0.26641416</td><td>-1.1999854</td><td>-0.08379713</td><td>-0.69796005</td><td>-0.8339434</td><td>0</td></tr>\n",
       "\t<tr><td> 0.58242056</td><td> 0.4265691</td><td> 0.00000000</td><td> 0.09763255</td><td>-0.8339434</td><td>0</td></tr>\n",
       "\t<tr><td>-0.05420548</td><td>-0.6578005</td><td> 0.00000000</td><td>-0.22060449</td><td>-0.8339434</td><td>0</td></tr>\n",
       "\t<tr><td>-0.58472718</td><td> 0.0000000</td><td> 0.99919262</td><td> 0.00000000</td><td> 1.0639968</td><td>0</td></tr>\n",
       "\t<tr><td>-1.85797925</td><td>-0.6578005</td><td>-0.30406623</td><td> 1.68881774</td><td>-0.8339434</td><td>0</td></tr>\n",
       "\t<tr><td>-0.58472718</td><td>-1.1999854</td><td> 0.10893833</td><td> 0.01807329</td><td>-0.8339434</td><td>0</td></tr>\n",
       "\t<tr><td>-0.69083152</td><td> 0.4265691</td><td> 0.53112078</td><td>-0.10126560</td><td> 0.1150267</td><td>0</td></tr>\n",
       "\t<tr><td>-0.05420548</td><td>-0.1156157</td><td>-0.15722016</td><td> 0.41586959</td><td>-0.8339434</td><td>0</td></tr>\n",
       "</tbody>\n",
       "</table>\n"
      ],
      "text/latex": [
       "A tibble: 920 × 6\n",
       "\\begin{tabular}{llllll}\n",
       " age & rest\\_bp & cholestrol & max\\_hr & st\\_depression & diagnosis\\\\\n",
       " <dbl> & <dbl> & <dbl> & <dbl> & <dbl> & <dbl>\\\\\n",
       "\\hline\n",
       "\t  1.00683792 &  0.6976615 &  0.31085168 &  0.4954288 &  1.34868785 & 0\\\\\n",
       "\t  1.43125528 &  1.5109388 &  0.79727927 & -1.1753156 &  0.58951174 & 2\\\\\n",
       "\t  1.43125528 & -0.6578005 &  0.27414016 & -0.3399434 &  1.63337888 & 1\\\\\n",
       "\t -1.75187491 & -0.1156157 &  0.46687562 &  1.9672751 &  2.48745200 & 0\\\\\n",
       "\t -1.32745755 & -0.1156157 &  0.04469318 &  1.3705807 &  0.49461473 & 0\\\\\n",
       "\t  0.26410754 & -0.6578005 &  0.33838531 &  1.6092585 & -0.07476734 & 0\\\\\n",
       "\t  0.90073358 &  0.4265691 &  0.63207745 &  0.8932251 &  2.58234901 & 3\\\\\n",
       "\t  0.37021188 & -0.6578005 &  1.42137506 &  1.0125640 & -0.26456137 & 0\\\\\n",
       "\t  1.00683792 & -0.1156157 &  0.50358714 &  0.3760900 &  0.49461473 & 2\\\\\n",
       "\t -0.05420548 &  0.4265691 &  0.03551530 &  0.6943270 &  2.10786395 & 1\\\\\n",
       "\t  0.37021188 &  0.4265691 & -0.06544137 &  0.4158696 & -0.45435539 & 0\\\\\n",
       "\t  0.26410754 &  0.4265691 &  0.87070231 &  0.6147677 &  0.39971772 & 0\\\\\n",
       "\t  0.26410754 & -0.1156157 &  0.52194290 &  0.1771918 & -0.26456137 & 2\\\\\n",
       "\t ⋮ & ⋮ & ⋮ & ⋮ & ⋮ & ⋮\\\\\n",
       "\t -0.47862284 &  0.9687539 &  0.20989500 & -0.61840079 &  1.0639968 & 4\\\\\n",
       "\t -0.26641416 & -0.1156157 &  0.19153925 &  0.89322514 &  1.0639968 & 0\\\\\n",
       "\t  0.15800320 & -1.1999854 &  1.32959627 &  0.89322514 & -0.8339434 & 0\\\\\n",
       "\t -1.22135321 &  0.4265691 &  1.45808658 &  1.29102144 & -0.8339434 & 0\\\\\n",
       "\t -0.26641416 & -1.1999854 & -0.08379713 & -0.69796005 & -0.8339434 & 0\\\\\n",
       "\t  0.58242056 &  0.4265691 &  0.00000000 &  0.09763255 & -0.8339434 & 0\\\\\n",
       "\t -0.05420548 & -0.6578005 &  0.00000000 & -0.22060449 & -0.8339434 & 0\\\\\n",
       "\t -0.58472718 &  0.0000000 &  0.99919262 &  0.00000000 &  1.0639968 & 0\\\\\n",
       "\t -1.85797925 & -0.6578005 & -0.30406623 &  1.68881774 & -0.8339434 & 0\\\\\n",
       "\t -0.58472718 & -1.1999854 &  0.10893833 &  0.01807329 & -0.8339434 & 0\\\\\n",
       "\t -0.69083152 &  0.4265691 &  0.53112078 & -0.10126560 &  0.1150267 & 0\\\\\n",
       "\t -0.05420548 & -0.1156157 & -0.15722016 &  0.41586959 & -0.8339434 & 0\\\\\n",
       "\\end{tabular}\n"
      ],
      "text/markdown": [
       "\n",
       "A tibble: 920 × 6\n",
       "\n",
       "| age &lt;dbl&gt; | rest_bp &lt;dbl&gt; | cholestrol &lt;dbl&gt; | max_hr &lt;dbl&gt; | st_depression &lt;dbl&gt; | diagnosis &lt;dbl&gt; |\n",
       "|---|---|---|---|---|---|\n",
       "|  1.00683792 |  0.6976615 |  0.31085168 |  0.4954288 |  1.34868785 | 0 |\n",
       "|  1.43125528 |  1.5109388 |  0.79727927 | -1.1753156 |  0.58951174 | 2 |\n",
       "|  1.43125528 | -0.6578005 |  0.27414016 | -0.3399434 |  1.63337888 | 1 |\n",
       "| -1.75187491 | -0.1156157 |  0.46687562 |  1.9672751 |  2.48745200 | 0 |\n",
       "| -1.32745755 | -0.1156157 |  0.04469318 |  1.3705807 |  0.49461473 | 0 |\n",
       "|  0.26410754 | -0.6578005 |  0.33838531 |  1.6092585 | -0.07476734 | 0 |\n",
       "|  0.90073358 |  0.4265691 |  0.63207745 |  0.8932251 |  2.58234901 | 3 |\n",
       "|  0.37021188 | -0.6578005 |  1.42137506 |  1.0125640 | -0.26456137 | 0 |\n",
       "|  1.00683792 | -0.1156157 |  0.50358714 |  0.3760900 |  0.49461473 | 2 |\n",
       "| -0.05420548 |  0.4265691 |  0.03551530 |  0.6943270 |  2.10786395 | 1 |\n",
       "|  0.37021188 |  0.4265691 | -0.06544137 |  0.4158696 | -0.45435539 | 0 |\n",
       "|  0.26410754 |  0.4265691 |  0.87070231 |  0.6147677 |  0.39971772 | 0 |\n",
       "|  0.26410754 | -0.1156157 |  0.52194290 |  0.1771918 | -0.26456137 | 2 |\n",
       "| ⋮ | ⋮ | ⋮ | ⋮ | ⋮ | ⋮ |\n",
       "| -0.47862284 |  0.9687539 |  0.20989500 | -0.61840079 |  1.0639968 | 4 |\n",
       "| -0.26641416 | -0.1156157 |  0.19153925 |  0.89322514 |  1.0639968 | 0 |\n",
       "|  0.15800320 | -1.1999854 |  1.32959627 |  0.89322514 | -0.8339434 | 0 |\n",
       "| -1.22135321 |  0.4265691 |  1.45808658 |  1.29102144 | -0.8339434 | 0 |\n",
       "| -0.26641416 | -1.1999854 | -0.08379713 | -0.69796005 | -0.8339434 | 0 |\n",
       "|  0.58242056 |  0.4265691 |  0.00000000 |  0.09763255 | -0.8339434 | 0 |\n",
       "| -0.05420548 | -0.6578005 |  0.00000000 | -0.22060449 | -0.8339434 | 0 |\n",
       "| -0.58472718 |  0.0000000 |  0.99919262 |  0.00000000 |  1.0639968 | 0 |\n",
       "| -1.85797925 | -0.6578005 | -0.30406623 |  1.68881774 | -0.8339434 | 0 |\n",
       "| -0.58472718 | -1.1999854 |  0.10893833 |  0.01807329 | -0.8339434 | 0 |\n",
       "| -0.69083152 |  0.4265691 |  0.53112078 | -0.10126560 |  0.1150267 | 0 |\n",
       "| -0.05420548 | -0.1156157 | -0.15722016 |  0.41586959 | -0.8339434 | 0 |\n",
       "\n"
      ],
      "text/plain": [
       "    age         rest_bp    cholestrol  max_hr      st_depression diagnosis\n",
       "1    1.00683792  0.6976615  0.31085168  0.4954288   1.34868785   0        \n",
       "2    1.43125528  1.5109388  0.79727927 -1.1753156   0.58951174   2        \n",
       "3    1.43125528 -0.6578005  0.27414016 -0.3399434   1.63337888   1        \n",
       "4   -1.75187491 -0.1156157  0.46687562  1.9672751   2.48745200   0        \n",
       "5   -1.32745755 -0.1156157  0.04469318  1.3705807   0.49461473   0        \n",
       "6    0.26410754 -0.6578005  0.33838531  1.6092585  -0.07476734   0        \n",
       "7    0.90073358  0.4265691  0.63207745  0.8932251   2.58234901   3        \n",
       "8    0.37021188 -0.6578005  1.42137506  1.0125640  -0.26456137   0        \n",
       "9    1.00683792 -0.1156157  0.50358714  0.3760900   0.49461473   2        \n",
       "10  -0.05420548  0.4265691  0.03551530  0.6943270   2.10786395   1        \n",
       "11   0.37021188  0.4265691 -0.06544137  0.4158696  -0.45435539   0        \n",
       "12   0.26410754  0.4265691  0.87070231  0.6147677   0.39971772   0        \n",
       "13   0.26410754 -0.1156157  0.52194290  0.1771918  -0.26456137   2        \n",
       "⋮   ⋮           ⋮          ⋮           ⋮           ⋮             ⋮        \n",
       "909 -0.47862284  0.9687539  0.20989500 -0.61840079  1.0639968    4        \n",
       "910 -0.26641416 -0.1156157  0.19153925  0.89322514  1.0639968    0        \n",
       "911  0.15800320 -1.1999854  1.32959627  0.89322514 -0.8339434    0        \n",
       "912 -1.22135321  0.4265691  1.45808658  1.29102144 -0.8339434    0        \n",
       "913 -0.26641416 -1.1999854 -0.08379713 -0.69796005 -0.8339434    0        \n",
       "914  0.58242056  0.4265691  0.00000000  0.09763255 -0.8339434    0        \n",
       "915 -0.05420548 -0.6578005  0.00000000 -0.22060449 -0.8339434    0        \n",
       "916 -0.58472718  0.0000000  0.99919262  0.00000000  1.0639968    0        \n",
       "917 -1.85797925 -0.6578005 -0.30406623  1.68881774 -0.8339434    0        \n",
       "918 -0.58472718 -1.1999854  0.10893833  0.01807329 -0.8339434    0        \n",
       "919 -0.69083152  0.4265691  0.53112078 -0.10126560  0.1150267    0        \n",
       "920 -0.05420548 -0.1156157 -0.15722016  0.41586959 -0.8339434    0        "
      ]
     },
     "metadata": {},
     "output_type": "display_data"
    },
    {
     "data": {
      "text/html": [
       "<table class=\"dataframe\">\n",
       "<caption>A tibble: 10 × 6</caption>\n",
       "<thead>\n",
       "\t<tr><th scope=col>age</th><th scope=col>rest_bp</th><th scope=col>cholestrol</th><th scope=col>max_hr</th><th scope=col>st_depression</th><th scope=col>diagnosis</th></tr>\n",
       "\t<tr><th scope=col>&lt;dbl&gt;</th><th scope=col>&lt;dbl&gt;</th><th scope=col>&lt;dbl&gt;</th><th scope=col>&lt;dbl&gt;</th><th scope=col>&lt;dbl&gt;</th><th scope=col>&lt;dbl&gt;</th></tr>\n",
       "</thead>\n",
       "<tbody>\n",
       "\t<tr><td> 1.00683792</td><td> 0.6976615</td><td>0.31085168</td><td> 0.4954288</td><td> 1.34868785</td><td>0</td></tr>\n",
       "\t<tr><td> 1.43125528</td><td> 1.5109388</td><td>0.79727927</td><td>-1.1753156</td><td> 0.58951174</td><td>2</td></tr>\n",
       "\t<tr><td> 1.43125528</td><td>-0.6578005</td><td>0.27414016</td><td>-0.3399434</td><td> 1.63337888</td><td>1</td></tr>\n",
       "\t<tr><td>-1.75187491</td><td>-0.1156157</td><td>0.46687562</td><td> 1.9672751</td><td> 2.48745200</td><td>0</td></tr>\n",
       "\t<tr><td>-1.32745755</td><td>-0.1156157</td><td>0.04469318</td><td> 1.3705807</td><td> 0.49461473</td><td>0</td></tr>\n",
       "\t<tr><td> 0.26410754</td><td>-0.6578005</td><td>0.33838531</td><td> 1.6092585</td><td>-0.07476734</td><td>0</td></tr>\n",
       "\t<tr><td> 0.90073358</td><td> 0.4265691</td><td>0.63207745</td><td> 0.8932251</td><td> 2.58234901</td><td>3</td></tr>\n",
       "\t<tr><td> 0.37021188</td><td>-0.6578005</td><td>1.42137506</td><td> 1.0125640</td><td>-0.26456137</td><td>0</td></tr>\n",
       "\t<tr><td> 1.00683792</td><td>-0.1156157</td><td>0.50358714</td><td> 0.3760900</td><td> 0.49461473</td><td>2</td></tr>\n",
       "\t<tr><td>-0.05420548</td><td> 0.4265691</td><td>0.03551530</td><td> 0.6943270</td><td> 2.10786395</td><td>1</td></tr>\n",
       "</tbody>\n",
       "</table>\n"
      ],
      "text/latex": [
       "A tibble: 10 × 6\n",
       "\\begin{tabular}{llllll}\n",
       " age & rest\\_bp & cholestrol & max\\_hr & st\\_depression & diagnosis\\\\\n",
       " <dbl> & <dbl> & <dbl> & <dbl> & <dbl> & <dbl>\\\\\n",
       "\\hline\n",
       "\t  1.00683792 &  0.6976615 & 0.31085168 &  0.4954288 &  1.34868785 & 0\\\\\n",
       "\t  1.43125528 &  1.5109388 & 0.79727927 & -1.1753156 &  0.58951174 & 2\\\\\n",
       "\t  1.43125528 & -0.6578005 & 0.27414016 & -0.3399434 &  1.63337888 & 1\\\\\n",
       "\t -1.75187491 & -0.1156157 & 0.46687562 &  1.9672751 &  2.48745200 & 0\\\\\n",
       "\t -1.32745755 & -0.1156157 & 0.04469318 &  1.3705807 &  0.49461473 & 0\\\\\n",
       "\t  0.26410754 & -0.6578005 & 0.33838531 &  1.6092585 & -0.07476734 & 0\\\\\n",
       "\t  0.90073358 &  0.4265691 & 0.63207745 &  0.8932251 &  2.58234901 & 3\\\\\n",
       "\t  0.37021188 & -0.6578005 & 1.42137506 &  1.0125640 & -0.26456137 & 0\\\\\n",
       "\t  1.00683792 & -0.1156157 & 0.50358714 &  0.3760900 &  0.49461473 & 2\\\\\n",
       "\t -0.05420548 &  0.4265691 & 0.03551530 &  0.6943270 &  2.10786395 & 1\\\\\n",
       "\\end{tabular}\n"
      ],
      "text/markdown": [
       "\n",
       "A tibble: 10 × 6\n",
       "\n",
       "| age &lt;dbl&gt; | rest_bp &lt;dbl&gt; | cholestrol &lt;dbl&gt; | max_hr &lt;dbl&gt; | st_depression &lt;dbl&gt; | diagnosis &lt;dbl&gt; |\n",
       "|---|---|---|---|---|---|\n",
       "|  1.00683792 |  0.6976615 | 0.31085168 |  0.4954288 |  1.34868785 | 0 |\n",
       "|  1.43125528 |  1.5109388 | 0.79727927 | -1.1753156 |  0.58951174 | 2 |\n",
       "|  1.43125528 | -0.6578005 | 0.27414016 | -0.3399434 |  1.63337888 | 1 |\n",
       "| -1.75187491 | -0.1156157 | 0.46687562 |  1.9672751 |  2.48745200 | 0 |\n",
       "| -1.32745755 | -0.1156157 | 0.04469318 |  1.3705807 |  0.49461473 | 0 |\n",
       "|  0.26410754 | -0.6578005 | 0.33838531 |  1.6092585 | -0.07476734 | 0 |\n",
       "|  0.90073358 |  0.4265691 | 0.63207745 |  0.8932251 |  2.58234901 | 3 |\n",
       "|  0.37021188 | -0.6578005 | 1.42137506 |  1.0125640 | -0.26456137 | 0 |\n",
       "|  1.00683792 | -0.1156157 | 0.50358714 |  0.3760900 |  0.49461473 | 2 |\n",
       "| -0.05420548 |  0.4265691 | 0.03551530 |  0.6943270 |  2.10786395 | 1 |\n",
       "\n"
      ],
      "text/plain": [
       "   age         rest_bp    cholestrol max_hr     st_depression diagnosis\n",
       "1   1.00683792  0.6976615 0.31085168  0.4954288  1.34868785   0        \n",
       "2   1.43125528  1.5109388 0.79727927 -1.1753156  0.58951174   2        \n",
       "3   1.43125528 -0.6578005 0.27414016 -0.3399434  1.63337888   1        \n",
       "4  -1.75187491 -0.1156157 0.46687562  1.9672751  2.48745200   0        \n",
       "5  -1.32745755 -0.1156157 0.04469318  1.3705807  0.49461473   0        \n",
       "6   0.26410754 -0.6578005 0.33838531  1.6092585 -0.07476734   0        \n",
       "7   0.90073358  0.4265691 0.63207745  0.8932251  2.58234901   3        \n",
       "8   0.37021188 -0.6578005 1.42137506  1.0125640 -0.26456137   0        \n",
       "9   1.00683792 -0.1156157 0.50358714  0.3760900  0.49461473   2        \n",
       "10 -0.05420548  0.4265691 0.03551530  0.6943270  2.10786395   1        "
      ]
     },
     "metadata": {},
     "output_type": "display_data"
    }
   ],
   "source": [
    "imputed_scaled_global_data <- impute_recipe |>  \n",
    "                            prep() |> \n",
    "                            bake(global_data)\n",
    "imputed_scaled_global_data\n",
    "\n",
    "head(imputed_scaled_global_data, 10)"
   ]
  },
  {
   "cell_type": "markdown",
   "metadata": {},
   "source": [
    "**Table 4.** A snippet of the output of a recipe containing potential predictor variables along with the Class variable."
   ]
  },
  {
   "cell_type": "markdown",
   "metadata": {},
   "source": [
    "#### 2) Visualizing the data with a plot pertinent to the analysis we will conduct, using only training data:"
   ]
  },
  {
   "cell_type": "code",
   "execution_count": 191,
   "metadata": {
    "vscode": {
     "languageId": "r"
    }
   },
   "outputs": [],
   "source": [
    "imputed_scaled_global_data <- imputed_scaled_global_data |>\n",
    "      mutate(diagnosis = as.factor(diagnosis)) |>\n",
    "      mutate(diagnosis = fct_recode(diagnosis, \"healthy\" = \"0\", \"sick\" = \"1\", \"sick\" = \"2\", \"sick\" = \"3\", \"sick\" = \"4\"))"
   ]
  },
  {
   "cell_type": "code",
   "execution_count": 204,
   "metadata": {
    "vscode": {
     "languageId": "r"
    }
   },
   "outputs": [
    {
     "data": {
      "image/png": "[encoded data removed]",
      "text/plain": [
       "plot without title"
      ]
     },
     "metadata": {
      "image/png": {
       "height": 840,
       "width": 960
      }
     },
     "output_type": "display_data"
    }
   ],
   "source": [
    "options(repr.plot.width = 16, repr.plot.height = 14) \n",
    "\n",
    "mhr_oldpeak <- imputed_scaled_global_data |> \n",
    "    ggplot(aes(x = max_hr, y = rest_bp)) + \n",
    "    geom_point(aes(colour = diagnosis, shape = diagnosis), size = 3) + \n",
    "    labs(title = \"Max Heart Rate versus Resting Blood Pressure\", x = \"Max Heart Rate\", y = \"Resting Blood Pressure\", colour = \"Heart Disease Diagnosis\", shape = \"Heart Disease Diagnosis\") + \n",
    "    theme(text = element_text(size = 20))\n",
    "mhr_oldpeak"
   ]
  },
  {
   "cell_type": "markdown",
   "metadata": {},
   "source": [
    "**Figure 1.** A scatterplot illustrating the relationship between the predictor `rest_bp` and the predictor `max_hr`.\n"
   ]
  },
  {
   "cell_type": "markdown",
   "metadata": {},
   "source": [
    "Before commencing the classification process, we'll duplicate `global_data` and label it `heart_data`. This approach ensures code conciseness. Subsequently, we'll cleanse `heart_data` to match the columns and rows of `imputed_scaled_global_data`."
   ]
  },
  {
   "cell_type": "code",
   "execution_count": 193,
   "metadata": {
    "vscode": {
     "languageId": "r"
    }
   },
   "outputs": [],
   "source": [
    "heart_data <- global_data\n",
    "\n",
    "heart_data <- heart_data |>\n",
    "      select(diagnosis, age, rest_bp, cholestrol, max_hr, st_depression)\n",
    "\n",
    "heart_data <- heart_data |>\n",
    "      mutate(diagnosis = as.factor(diagnosis)) |>\n",
    "      mutate(diagnosis = fct_recode(diagnosis, \"healthy\" = \"0\", \"sick\" = \"1\", \"sick\" = \"2\", \"sick\" = \"3\", \"sick\" = \"4\"))"
   ]
  },
  {
   "cell_type": "markdown",
   "metadata": {},
   "source": [
    "Now, we will start the classification process.\n",
    "\n",
    "We'll split `heart_data` into training (70%) and testing (30%) sets using the `initial_split` function. The variable `diagnosis` will serve as our class label, and we'll name the resulting object `heart_split`.\n",
    "\n",
    "Subsequently, we'll use the `heart_split` object in the training and testing functions, naming the respective objects `heart_train` and `heart_test`.\n"
   ]
  },
  {
   "cell_type": "code",
   "execution_count": 205,
   "metadata": {
    "vscode": {
     "languageId": "r"
    }
   },
   "outputs": [],
   "source": [
    "heart_split <- initial_split(heart_data, prop = 0.7, strata = diagnosis)\n",
    "heart_train <- training(heart_split)\n",
    "heart_test <- testing(heart_split)"
   ]
  },
  {
   "cell_type": "markdown",
   "metadata": {},
   "source": [
    "Creating a tidymodels recipe to standardize our predictors and impute their missing entries for the variables `max_hr` and `st_depression`:\n"
   ]
  },
  {
   "cell_type": "code",
   "execution_count": 207,
   "metadata": {
    "vscode": {
     "languageId": "r"
    }
   },
   "outputs": [
    {
     "data": {
      "text/html": [
       "<table class=\"dataframe\">\n",
       "<caption>A tibble: 643 × 3</caption>\n",
       "<thead>\n",
       "\t<tr><th scope=col>max_hr</th><th scope=col>rest_bp</th><th scope=col>diagnosis</th></tr>\n",
       "\t<tr><th scope=col>&lt;dbl&gt;</th><th scope=col>&lt;dbl&gt;</th><th scope=col>&lt;fct&gt;</th></tr>\n",
       "</thead>\n",
       "<tbody>\n",
       "\t<tr><td> 0.5089630</td><td> 0.7169964</td><td>healthy</td></tr>\n",
       "\t<tr><td> 1.6114784</td><td>-0.6767781</td><td>healthy</td></tr>\n",
       "\t<tr><td> 1.0208451</td><td>-0.6767781</td><td>healthy</td></tr>\n",
       "\t<tr><td> 0.4302119</td><td> 0.4382415</td><td>healthy</td></tr>\n",
       "\t<tr><td> 0.6270897</td><td> 0.4382415</td><td>healthy</td></tr>\n",
       "\t<tr><td> 0.9814696</td><td> 2.2222729</td><td>healthy</td></tr>\n",
       "\t<tr><td> 1.4539762</td><td> 0.9957513</td><td>healthy</td></tr>\n",
       "\t<tr><td> 0.9027185</td><td> 0.4382415</td><td>healthy</td></tr>\n",
       "\t<tr><td> 1.3358495</td><td>-0.1192683</td><td>healthy</td></tr>\n",
       "\t<tr><td> 0.2727097</td><td>-1.2342878</td><td>healthy</td></tr>\n",
       "\t<tr><td> 0.8239674</td><td>-0.6767781</td><td>healthy</td></tr>\n",
       "\t<tr><td>-0.9085567</td><td> 0.9957513</td><td>healthy</td></tr>\n",
       "\t<tr><td> 0.9420940</td><td> 0.1594866</td><td>healthy</td></tr>\n",
       "\t<tr><td>⋮</td><td>⋮</td><td>⋮</td></tr>\n",
       "\t<tr><td>-1.3810633</td><td> 1.5532611</td><td>sick</td></tr>\n",
       "\t<tr><td> 0.1939586</td><td> 3.7833003</td><td>sick</td></tr>\n",
       "\t<tr><td> 0.2333342</td><td> 1.5532611</td><td>sick</td></tr>\n",
       "\t<tr><td>-0.2785479</td><td>-0.1192683</td><td>sick</td></tr>\n",
       "\t<tr><td>-0.6723034</td><td>-0.1192683</td><td>sick</td></tr>\n",
       "\t<tr><td>-1.6173166</td><td> 0.7169964</td><td>sick</td></tr>\n",
       "\t<tr><td>-0.4754257</td><td>-0.1192683</td><td>sick</td></tr>\n",
       "\t<tr><td> 0.3120853</td><td> 0.4382415</td><td>sick</td></tr>\n",
       "\t<tr><td>-1.0660589</td><td>-0.1192683</td><td>sick</td></tr>\n",
       "\t<tr><td> 0.5089630</td><td> 0.1594866</td><td>sick</td></tr>\n",
       "\t<tr><td>-0.4360501</td><td> 2.1107709</td><td>sick</td></tr>\n",
       "\t<tr><td>-0.5935523</td><td> 0.9957513</td><td>sick</td></tr>\n",
       "</tbody>\n",
       "</table>\n"
      ],
      "text/latex": [
       "A tibble: 643 × 3\n",
       "\\begin{tabular}{lll}\n",
       " max\\_hr & rest\\_bp & diagnosis\\\\\n",
       " <dbl> & <dbl> & <fct>\\\\\n",
       "\\hline\n",
       "\t  0.5089630 &  0.7169964 & healthy\\\\\n",
       "\t  1.6114784 & -0.6767781 & healthy\\\\\n",
       "\t  1.0208451 & -0.6767781 & healthy\\\\\n",
       "\t  0.4302119 &  0.4382415 & healthy\\\\\n",
       "\t  0.6270897 &  0.4382415 & healthy\\\\\n",
       "\t  0.9814696 &  2.2222729 & healthy\\\\\n",
       "\t  1.4539762 &  0.9957513 & healthy\\\\\n",
       "\t  0.9027185 &  0.4382415 & healthy\\\\\n",
       "\t  1.3358495 & -0.1192683 & healthy\\\\\n",
       "\t  0.2727097 & -1.2342878 & healthy\\\\\n",
       "\t  0.8239674 & -0.6767781 & healthy\\\\\n",
       "\t -0.9085567 &  0.9957513 & healthy\\\\\n",
       "\t  0.9420940 &  0.1594866 & healthy\\\\\n",
       "\t ⋮ & ⋮ & ⋮\\\\\n",
       "\t -1.3810633 &  1.5532611 & sick\\\\\n",
       "\t  0.1939586 &  3.7833003 & sick\\\\\n",
       "\t  0.2333342 &  1.5532611 & sick\\\\\n",
       "\t -0.2785479 & -0.1192683 & sick\\\\\n",
       "\t -0.6723034 & -0.1192683 & sick\\\\\n",
       "\t -1.6173166 &  0.7169964 & sick\\\\\n",
       "\t -0.4754257 & -0.1192683 & sick\\\\\n",
       "\t  0.3120853 &  0.4382415 & sick\\\\\n",
       "\t -1.0660589 & -0.1192683 & sick\\\\\n",
       "\t  0.5089630 &  0.1594866 & sick\\\\\n",
       "\t -0.4360501 &  2.1107709 & sick\\\\\n",
       "\t -0.5935523 &  0.9957513 & sick\\\\\n",
       "\\end{tabular}\n"
      ],
      "text/markdown": [
       "\n",
       "A tibble: 643 × 3\n",
       "\n",
       "| max_hr &lt;dbl&gt; | rest_bp &lt;dbl&gt; | diagnosis &lt;fct&gt; |\n",
       "|---|---|---|\n",
       "|  0.5089630 |  0.7169964 | healthy |\n",
       "|  1.6114784 | -0.6767781 | healthy |\n",
       "|  1.0208451 | -0.6767781 | healthy |\n",
       "|  0.4302119 |  0.4382415 | healthy |\n",
       "|  0.6270897 |  0.4382415 | healthy |\n",
       "|  0.9814696 |  2.2222729 | healthy |\n",
       "|  1.4539762 |  0.9957513 | healthy |\n",
       "|  0.9027185 |  0.4382415 | healthy |\n",
       "|  1.3358495 | -0.1192683 | healthy |\n",
       "|  0.2727097 | -1.2342878 | healthy |\n",
       "|  0.8239674 | -0.6767781 | healthy |\n",
       "| -0.9085567 |  0.9957513 | healthy |\n",
       "|  0.9420940 |  0.1594866 | healthy |\n",
       "| ⋮ | ⋮ | ⋮ |\n",
       "| -1.3810633 |  1.5532611 | sick |\n",
       "|  0.1939586 |  3.7833003 | sick |\n",
       "|  0.2333342 |  1.5532611 | sick |\n",
       "| -0.2785479 | -0.1192683 | sick |\n",
       "| -0.6723034 | -0.1192683 | sick |\n",
       "| -1.6173166 |  0.7169964 | sick |\n",
       "| -0.4754257 | -0.1192683 | sick |\n",
       "|  0.3120853 |  0.4382415 | sick |\n",
       "| -1.0660589 | -0.1192683 | sick |\n",
       "|  0.5089630 |  0.1594866 | sick |\n",
       "| -0.4360501 |  2.1107709 | sick |\n",
       "| -0.5935523 |  0.9957513 | sick |\n",
       "\n"
      ],
      "text/plain": [
       "    max_hr     rest_bp    diagnosis\n",
       "1    0.5089630  0.7169964 healthy  \n",
       "2    1.6114784 -0.6767781 healthy  \n",
       "3    1.0208451 -0.6767781 healthy  \n",
       "4    0.4302119  0.4382415 healthy  \n",
       "5    0.6270897  0.4382415 healthy  \n",
       "6    0.9814696  2.2222729 healthy  \n",
       "7    1.4539762  0.9957513 healthy  \n",
       "8    0.9027185  0.4382415 healthy  \n",
       "9    1.3358495 -0.1192683 healthy  \n",
       "10   0.2727097 -1.2342878 healthy  \n",
       "11   0.8239674 -0.6767781 healthy  \n",
       "12  -0.9085567  0.9957513 healthy  \n",
       "13   0.9420940  0.1594866 healthy  \n",
       "⋮   ⋮          ⋮          ⋮        \n",
       "632 -1.3810633  1.5532611 sick     \n",
       "633  0.1939586  3.7833003 sick     \n",
       "634  0.2333342  1.5532611 sick     \n",
       "635 -0.2785479 -0.1192683 sick     \n",
       "636 -0.6723034 -0.1192683 sick     \n",
       "637 -1.6173166  0.7169964 sick     \n",
       "638 -0.4754257 -0.1192683 sick     \n",
       "639  0.3120853  0.4382415 sick     \n",
       "640 -1.0660589 -0.1192683 sick     \n",
       "641  0.5089630  0.1594866 sick     \n",
       "642 -0.4360501  2.1107709 sick     \n",
       "643 -0.5935523  0.9957513 sick     "
      ]
     },
     "metadata": {},
     "output_type": "display_data"
    }
   ],
   "source": [
    "heart_recipe <- recipe(diagnosis ~ max_hr + rest_bp , data = heart_train) |>\n",
    "                step_impute_mean(all_predictors()) |>\n",
    "                step_scale(all_predictors()) |>\n",
    "                step_center(all_predictors())\n",
    "\n",
    "imputed_scaled_heart_training <- heart_recipe |>\n",
    "               prep() |>\n",
    "               bake(heart_train)\n",
    "\n",
    "imputed_scaled_heart_training"
   ]
  },
  {
   "cell_type": "markdown",
   "metadata": {},
   "source": [
    "**Table 5.** An part of the output of a recipe including candidate predictor variables and the diagnosis variable.\n"
   ]
  },
  {
   "cell_type": "markdown",
   "metadata": {},
   "source": [
    "Note that in `Table 5`, our training set comprises only 3 variables, with 2 serving as predictors and the remaining variable being the `diagnosis` variable (i.e., the class label).\n"
   ]
  },
  {
   "cell_type": "markdown",
   "metadata": {},
   "source": [
    "Creating a model specification for K-nearest neighbors classification with k = 5 using the `nearest_neighbor()` function."
   ]
  },
  {
   "cell_type": "code",
   "execution_count": 208,
   "metadata": {
    "vscode": {
     "languageId": "r"
    }
   },
   "outputs": [],
   "source": [
    "knn_spec <- nearest_neighbor(weight_func = \"rectangular\", neighbors = 5) |>\n",
    "       set_engine(\"kknn\") |>\n",
    "       set_mode(\"classification\")"
   ]
  },
  {
   "cell_type": "markdown",
   "metadata": {},
   "source": [
    "Combining `heart_recipe` with `knn_spec` in a workflow, and fitting it to the training set:"
   ]
  },
  {
   "cell_type": "code",
   "execution_count": 209,
   "metadata": {
    "vscode": {
     "languageId": "r"
    }
   },
   "outputs": [],
   "source": [
    "heart_fit <- workflow() |>\n",
    "            add_recipe(heart_recipe) |>\n",
    "            add_model(knn_spec) |>\n",
    "            fit(data = heart_train)"
   ]
  },
  {
   "cell_type": "markdown",
   "metadata": {},
   "source": [
    "Now that we've created our K-nearest neighbor classifier object, we can predict the class labels for our test set.\n",
    "\n",
    "First, we pass our fitted model and the test dataset to the predict function.\n",
    "Then, we use the `bind_cols` function to append the column of predictions to the original test data:\n"
   ]
  },
  {
   "cell_type": "code",
   "execution_count": 210,
   "metadata": {
    "vscode": {
     "languageId": "r"
    }
   },
   "outputs": [
    {
     "data": {
      "text/html": [
       "<table class=\"dataframe\">\n",
       "<caption>A tibble: 10 × 7</caption>\n",
       "<thead>\n",
       "\t<tr><th scope=col>.pred_class</th><th scope=col>diagnosis</th><th scope=col>age</th><th scope=col>rest_bp</th><th scope=col>cholestrol</th><th scope=col>max_hr</th><th scope=col>st_depression</th></tr>\n",
       "\t<tr><th scope=col>&lt;fct&gt;</th><th scope=col>&lt;fct&gt;</th><th scope=col>&lt;dbl&gt;</th><th scope=col>&lt;dbl&gt;</th><th scope=col>&lt;dbl&gt;</th><th scope=col>&lt;dbl&gt;</th><th scope=col>&lt;dbl&gt;</th></tr>\n",
       "</thead>\n",
       "<tbody>\n",
       "\t<tr><td>healthy</td><td>healthy</td><td>37</td><td>130</td><td>250</td><td>187</td><td>3.5</td></tr>\n",
       "\t<tr><td>healthy</td><td>healthy</td><td>41</td><td>130</td><td>204</td><td>172</td><td>1.4</td></tr>\n",
       "\t<tr><td>sick   </td><td>sick   </td><td>62</td><td>140</td><td>268</td><td>160</td><td>3.6</td></tr>\n",
       "\t<tr><td>healthy</td><td>sick   </td><td>53</td><td>140</td><td>203</td><td>155</td><td>3.1</td></tr>\n",
       "\t<tr><td>sick   </td><td>sick   </td><td>56</td><td>130</td><td>256</td><td>142</td><td>0.6</td></tr>\n",
       "\t<tr><td>healthy</td><td>healthy</td><td>44</td><td>120</td><td>263</td><td>173</td><td>0.0</td></tr>\n",
       "\t<tr><td>sick   </td><td>healthy</td><td>48</td><td>130</td><td>275</td><td>139</td><td>0.2</td></tr>\n",
       "\t<tr><td>healthy</td><td>healthy</td><td>58</td><td>150</td><td>283</td><td>162</td><td>1.0</td></tr>\n",
       "\t<tr><td>healthy</td><td>sick   </td><td>58</td><td>132</td><td>224</td><td>173</td><td>3.2</td></tr>\n",
       "\t<tr><td>healthy</td><td>healthy</td><td>58</td><td>120</td><td>340</td><td>172</td><td>0.0</td></tr>\n",
       "</tbody>\n",
       "</table>\n"
      ],
      "text/latex": [
       "A tibble: 10 × 7\n",
       "\\begin{tabular}{lllllll}\n",
       " .pred\\_class & diagnosis & age & rest\\_bp & cholestrol & max\\_hr & st\\_depression\\\\\n",
       " <fct> & <fct> & <dbl> & <dbl> & <dbl> & <dbl> & <dbl>\\\\\n",
       "\\hline\n",
       "\t healthy & healthy & 37 & 130 & 250 & 187 & 3.5\\\\\n",
       "\t healthy & healthy & 41 & 130 & 204 & 172 & 1.4\\\\\n",
       "\t sick    & sick    & 62 & 140 & 268 & 160 & 3.6\\\\\n",
       "\t healthy & sick    & 53 & 140 & 203 & 155 & 3.1\\\\\n",
       "\t sick    & sick    & 56 & 130 & 256 & 142 & 0.6\\\\\n",
       "\t healthy & healthy & 44 & 120 & 263 & 173 & 0.0\\\\\n",
       "\t sick    & healthy & 48 & 130 & 275 & 139 & 0.2\\\\\n",
       "\t healthy & healthy & 58 & 150 & 283 & 162 & 1.0\\\\\n",
       "\t healthy & sick    & 58 & 132 & 224 & 173 & 3.2\\\\\n",
       "\t healthy & healthy & 58 & 120 & 340 & 172 & 0.0\\\\\n",
       "\\end{tabular}\n"
      ],
      "text/markdown": [
       "\n",
       "A tibble: 10 × 7\n",
       "\n",
       "| .pred_class &lt;fct&gt; | diagnosis &lt;fct&gt; | age &lt;dbl&gt; | rest_bp &lt;dbl&gt; | cholestrol &lt;dbl&gt; | max_hr &lt;dbl&gt; | st_depression &lt;dbl&gt; |\n",
       "|---|---|---|---|---|---|---|\n",
       "| healthy | healthy | 37 | 130 | 250 | 187 | 3.5 |\n",
       "| healthy | healthy | 41 | 130 | 204 | 172 | 1.4 |\n",
       "| sick    | sick    | 62 | 140 | 268 | 160 | 3.6 |\n",
       "| healthy | sick    | 53 | 140 | 203 | 155 | 3.1 |\n",
       "| sick    | sick    | 56 | 130 | 256 | 142 | 0.6 |\n",
       "| healthy | healthy | 44 | 120 | 263 | 173 | 0.0 |\n",
       "| sick    | healthy | 48 | 130 | 275 | 139 | 0.2 |\n",
       "| healthy | healthy | 58 | 150 | 283 | 162 | 1.0 |\n",
       "| healthy | sick    | 58 | 132 | 224 | 173 | 3.2 |\n",
       "| healthy | healthy | 58 | 120 | 340 | 172 | 0.0 |\n",
       "\n"
      ],
      "text/plain": [
       "   .pred_class diagnosis age rest_bp cholestrol max_hr st_depression\n",
       "1  healthy     healthy   37  130     250        187    3.5          \n",
       "2  healthy     healthy   41  130     204        172    1.4          \n",
       "3  sick        sick      62  140     268        160    3.6          \n",
       "4  healthy     sick      53  140     203        155    3.1          \n",
       "5  sick        sick      56  130     256        142    0.6          \n",
       "6  healthy     healthy   44  120     263        173    0.0          \n",
       "7  sick        healthy   48  130     275        139    0.2          \n",
       "8  healthy     healthy   58  150     283        162    1.0          \n",
       "9  healthy     sick      58  132     224        173    3.2          \n",
       "10 healthy     healthy   58  120     340        172    0.0          "
      ]
     },
     "metadata": {},
     "output_type": "display_data"
    }
   ],
   "source": [
    "heart_test_predictions <- predict(heart_fit , heart_test) |>\n",
    "                          bind_cols(heart_test)\n",
    "                          \n",
    "head(heart_test_predictions, 10)"
   ]
  },
  {
   "cell_type": "markdown",
   "metadata": {},
   "source": [
    "**Table 6.** A table displaying a snippet of our model's predictions for the class labels alongside the corresponding observations in the testing set that the model attempted to predict."
   ]
  },
  {
   "cell_type": "markdown",
   "metadata": {},
   "source": [
    "We then use the metrics function to get statistics about the quality of our model:"
   ]
  },
  {
   "cell_type": "code",
   "execution_count": 211,
   "metadata": {
    "vscode": {
     "languageId": "r"
    }
   },
   "outputs": [
    {
     "data": {
      "text/html": [
       "<table class=\"dataframe\">\n",
       "<caption>A tibble: 1 × 3</caption>\n",
       "<thead>\n",
       "\t<tr><th scope=col>.metric</th><th scope=col>.estimator</th><th scope=col>.estimate</th></tr>\n",
       "\t<tr><th scope=col>&lt;chr&gt;</th><th scope=col>&lt;chr&gt;</th><th scope=col>&lt;dbl&gt;</th></tr>\n",
       "</thead>\n",
       "<tbody>\n",
       "\t<tr><td>accuracy</td><td>binary</td><td>0.599278</td></tr>\n",
       "</tbody>\n",
       "</table>\n"
      ],
      "text/latex": [
       "A tibble: 1 × 3\n",
       "\\begin{tabular}{lll}\n",
       " .metric & .estimator & .estimate\\\\\n",
       " <chr> & <chr> & <dbl>\\\\\n",
       "\\hline\n",
       "\t accuracy & binary & 0.599278\\\\\n",
       "\\end{tabular}\n"
      ],
      "text/markdown": [
       "\n",
       "A tibble: 1 × 3\n",
       "\n",
       "| .metric &lt;chr&gt; | .estimator &lt;chr&gt; | .estimate &lt;dbl&gt; |\n",
       "|---|---|---|\n",
       "| accuracy | binary | 0.599278 |\n",
       "\n"
      ],
      "text/plain": [
       "  .metric  .estimator .estimate\n",
       "1 accuracy binary     0.599278 "
      ]
     },
     "metadata": {},
     "output_type": "display_data"
    }
   ],
   "source": [
    "heart_model_metrics <- heart_test_predictions |> \n",
    "        metrics(truth = diagnosis, estimate = .pred_class) |>\n",
    "        head(1)\n",
    "heart_model_metrics"
   ]
  },
  {
   "cell_type": "code",
   "execution_count": null,
   "metadata": {
    "vscode": {
     "languageId": "r"
    }
   },
   "outputs": [],
   "source": []
  }
 ],
 "metadata": {
  "kernelspec": {
   "display_name": "R",
   "language": "R",
   "name": "ir"
  },
  "language_info": {
   "codemirror_mode": "r",
   "file_extension": ".r",
   "mimetype": "text/x-r-source",
   "name": "R",
   "pygments_lexer": "r",
   "version": "4.2.3"
  }
 },
 "nbformat": 4,
 "nbformat_minor": 2
}
