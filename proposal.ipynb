{
 "cells": [
  {
   "cell_type": "markdown",
   "metadata": {},
   "source": [
    "# *Maternal Mortality Risk Analysis: Exploring Factors Impacting Maternal Well-being*"
   ]
  },
  {
   "cell_type": "markdown",
   "metadata": {},
   "source": [
    "## Introduction\n",
    "\n",
    "Maternal health risk can be defined as the health of a mother during pregnancy, childbirth and postnatal period (World Health Organization, 2019). 287 000 mothers died during and after pregnancy and childbirth in 2020. These deaths can be caused by many different variables so being able to create a predictive model using all these variables will be beneficial in preparing for and preventing these deaths. \n",
    "\n",
    "The predictive question we will try to answer is: Given a patient’s score on 6 different numerical variables (age, systolic blood pressure, diastolic blood pressure, blood glucose, body temperature, heart rate), can we predict the risk level of a patient as low, medium, or high? Furthermore, we will question which factors are most strongly associated with the likelihood of highest maternal risk in the dataset.\n",
    "\n",
    "Our dataset has seven variables, one of them being the risk level we are trying to predict. The other 6 variables are age, systolic blood pressure, diastolic blood pressure, blood glucose, body temperature and heart race. These variables can be used as predictor variables for our final prediction. \n",
    "\n",
    "Our database is https://archive.ics.uci.edu/dataset/863/maternal+health+risk. This data set has 7 variables. 6 of them are\n"
   ]
  },
  {
   "cell_type": "markdown",
   "metadata": {},
   "source": [
    "## Preliminary exporatory Data Analysis"
   ]
  },
  {
   "cell_type": "code",
   "execution_count": null,
   "metadata": {
    "vscode": {
     "languageId": "r"
    }
   },
   "outputs": [],
   "source": [
    "# Import necessary libraries\n",
    "\n",
    "library(rvest)\n",
    "library(tidyverse)\n",
    "library(tidymodels)\n",
    "library(repr)"
   ]
  },
  {
   "cell_type": "markdown",
   "metadata": {},
   "source": [
    "### Reading the dataset from the web into R\n",
    "\n",
    "#### General preface\n",
    "\n",
    "The dataset we have chosen is hosted on a website which does not have a supported R API.\n",
    "\n",
    "After searching extensively for a terms of service to see if scraping is disallowed, it was not found.\n",
    "\n",
    "Thus, we will be using web scraping in order to retrieve our dataset.\n",
    "\n",
    "#### Website analysis\n",
    "\n",
    "- After studying the source code of the website, it is clear that the dataset is retrieved by pressing a button, which sends a GET request fetching the file which is hosted on the website. (the \"button\" is not of type `<button>`, rather it is `<a>` -  a link.)\n",
    "\n",
    "- Note that the original file the website hands to us is a .zip file, which we will need to extract\n",
    "\n",
    "- If we can find the url to the file, we can send a GET request which should retrieve the dataset file data which we can then store locally in a file. (We will more likely than not use a built in R function or library to do this)\n",
    "\n",
    "- The download button is unique in one way, it is the only element in the HTML file which has the unique combination of classes that it has, making it easy to extract it from the webpage.\n",
    "\n",
    "#### General Scraping procedure\n",
    "\n",
    "**Part 1**\n",
    "- Retrieve source code of website\n",
    "- Use CSS selectors to get the `<a></a>` elment that contains the link to the file\n",
    "- Extract the url which is held in the `href` attribute of the `<a></a>` tag\n",
    "\n",
    "**Part 2**\n",
    "- Download the dataset file pointed to by the url\n",
    "- Extract the .zip file containing the dataset csv\n",
    "- Read the csv file into R"
   ]
  },
  {
   "cell_type": "code",
   "execution_count": null,
   "metadata": {
    "vscode": {
     "languageId": "r"
    }
   },
   "outputs": [],
   "source": [
    "# Part 1\n",
    "\n",
    "dataset_website_root <- \"https://archive.ics.uci.edu\"\n",
    "dataset_webpage_url <- \"/dataset/863/maternal+health+risk\"\n",
    "\n",
    "page = paste(dataset_website_root, dataset_webpage_url, sep = \"\") |>\n",
    "    read_html()   # Contains html source code of website\n",
    "\n",
    "selectors <- paste(\".btn-primary.btn.w-full.text-primary-content\", sep = \",\")    # CSS selectors created inspecting the download button \n",
    "\n",
    "population_nodes <- html_nodes(page, selectors)  # Contains all the elements that match the CSS selector criteria (only the button we want)\n",
    "\n",
    "file_url <- population_nodes |> html_attr(\"href\")    # Gets the href of the download button (filepath of dataset file relative to the website root)\n",
    "\n",
    "download_url <- paste(dataset_website_root, file_url, sep = \"\") # Url of webpage + path to file\n",
    "\n",
    "download_url"
   ]
  },
  {
   "cell_type": "code",
   "execution_count": null,
   "metadata": {
    "vscode": {
     "languageId": "r"
    }
   },
   "outputs": [],
   "source": [
    "# Part 2\n",
    "\n",
    "temp <- tempfile() # Create a temporary file to store the zip\n",
    "\n",
    "download.file(download_url,temp) # Download the zip file from the website and store it in the temporary file\n",
    "\n",
    "original_name <- unzip(temp) # Extract and save the csv file from the zip\n",
    "unlink(temp) # Remove the temporary zip file\n",
    "\n",
    "new_filename <- \"maternal_health.csv\" # improved filename removing whitespaces\n",
    "\n",
    "file.rename(original_name, new_filename) # Rename the file to be easier to access and removing whitespace in the original name\n",
    "\n",
    "maternal_health <- read_csv(new_filename) # Read the csv file into R"
   ]
  },
  {
   "cell_type": "markdown",
   "metadata": {},
   "source": [
    "### Using local files\n",
    "If the data has already been downloaded to our local machine, it can simply be read using the `read_*` function on the filepath, depending on the type of file (csv in our case hence `read_csv()`)"
   ]
  },
  {
   "cell_type": "code",
   "execution_count": null,
   "metadata": {
    "vscode": {
     "languageId": "r"
    }
   },
   "outputs": [],
   "source": [
    "maternal_health <- read_csv(\"maternal_health.csv\")"
   ]
  },
  {
   "cell_type": "markdown",
   "metadata": {},
   "source": [
    "### Cleaning and Wrangling the data\n",
    "\n",
    "#### Tidying data\n",
    "\n",
    "Our dataset is already tidy, we say this because\n",
    "\n",
    "- each row is a single observation,\n",
    "\n",
    "- each column is a single variable, and\n",
    "\n",
    "- each value is a single cell (i.e., its entry in the data frame is not shared with another value).\n",
    "\n",
    "Our dataset is already in a clean format, but to get it ready for training we have to set the factors \n",
    "\n",
    "#### Splitting the data into training and test data\n",
    "\n",
    "We will split the data into two parts. 75% will be used as training data and 25% will be used as test data."
   ]
  },
  {
   "cell_type": "code",
   "execution_count": null,
   "metadata": {
    "vscode": {
     "languageId": "r"
    }
   },
   "outputs": [],
   "source": [
    "# Renaming Columns\n",
    "new_col_names <- c(\"age\", \n",
    "                    \"systolic_blood_pressure\", \n",
    "                    \"diastolic_blood_pressure\", \n",
    "                    \"blood_glucose\", \n",
    "                    \"body_temperature\", \n",
    "                    \"heart_rate\", \n",
    "                    \"risk_level\")\n",
    "old_col_names <- colnames(maternal_health)\n",
    "maternal_health <- maternal_health |> \n",
    "    rename_at(old_col_names, ~ new_col_names)\n",
    "\n",
    "# Settng risk_level as the factor\n",
    "maternal_health <- maternal_health |> \n",
    "    mutate(risk_level = as_factor(risk_level)) |>\n",
    "    mutate(risk_level = fct_recode(risk_level, \"high\" = \"high risk\", \"low\" = \"low risk\", \"mid\" = \"mid risk\"))\n",
    "\n",
    "# Splitting the data \n",
    "\n",
    "maternal_health_split <- maternal_health |>\n",
    "    initial_split(prop = 0.75, strata = risk_level) # Split the data 3:1\n",
    "\n",
    "\n",
    "maternal_health_train <- training(maternal_health_split) # Assign the training data to maternal_health_train\n",
    "maternal_health_test <-testing(maternal_health_split) # Assign the testing data to maternal_health_test\n",
    "\n",
    "glimpse(maternal_health_train)"
   ]
  },
  {
   "cell_type": "markdown",
   "metadata": {},
   "source": [
    "### Summarizing the data using training data"
   ]
  },
  {
   "cell_type": "markdown",
   "metadata": {},
   "source": [
    "We first show a summary of the number and percentage of the three categories, high risk, low risk and medium risk.\n",
    "\n",
    "Secondly, we show a table of the mean values for all our variables"
   ]
  },
  {
   "cell_type": "code",
   "execution_count": null,
   "metadata": {
    "vscode": {
     "languageId": "r"
    }
   },
   "outputs": [],
   "source": [
    "total_number <- nrow(maternal_health_train)\n",
    "\n",
    "maternal_health_count_categories <- maternal_health_train |>\n",
    "    group_by(risk_level) |>\n",
    "    summarize(count = n(), percentage = round((n() / total_number) * 100))\n",
    "\n",
    "maternal_health_variable_means = maternal_health_train |>\n",
    "    summarize(across(age:heart_rate, \\(x) mean(x, na.rm = TRUE)))"
   ]
  },
  {
   "cell_type": "markdown",
   "metadata": {},
   "source": [
    "#### Summary of the distribution of high risk, low risk and medium risk for maternal mortality "
   ]
  },
  {
   "cell_type": "code",
   "execution_count": null,
   "metadata": {
    "vscode": {
     "languageId": "r"
    }
   },
   "outputs": [],
   "source": [
    "maternal_health_count_categories"
   ]
  },
  {
   "cell_type": "markdown",
   "metadata": {},
   "source": [
    "#### Summary of the mean of the different variables affecting maternal mortality"
   ]
  },
  {
   "cell_type": "code",
   "execution_count": null,
   "metadata": {
    "vscode": {
     "languageId": "r"
    }
   },
   "outputs": [],
   "source": [
    "maternal_health_variable_means "
   ]
  },
  {
   "cell_type": "markdown",
   "metadata": {},
   "source": [
    "### Visualisation using training data"
   ]
  },
  {
   "cell_type": "markdown",
   "metadata": {},
   "source": [
    "We have made graphs to illustrate the variables and how they have an affect on the category."
   ]
  },
  {
   "cell_type": "code",
   "execution_count": null,
   "metadata": {
    "vscode": {
     "languageId": "r"
    }
   },
   "outputs": [],
   "source": [
    "options(repr.plot.width = 8, repr.plot.height = 4) \n",
    "\n",
    "maternal_health_train |>\n",
    "    ggplot(aes(x = age, fill = as_factor(risk_level))) + geom_histogram(alpha = 1, position = \"identity\", binwidth = 1) + facet_grid(rows = vars(risk_level)) +\n",
    "    labs(x = \"Age\", title = \"Age vs risk level\", fill = \"Risk Level\") + theme(text = element_text(size = 20))\n",
    "maternal_health_train |>\n",
    "    ggplot(aes(x = systolic_blood_pressure, fill = as_factor(risk_level))) + geom_histogram(alpha = 1, position = \"identity\", binwidth = 3) + facet_grid(rows = vars(risk_level)) +\n",
    "    labs(x = \"Systolic blood pressure\", title = \"Systolic blood pressure vs risk level\", fill = \"Risk Level\") + theme(text = element_text(size = 20))\n",
    "maternal_health_train |>\n",
    "    ggplot(aes(x = diastolic_blood_pressure, fill = as_factor(risk_level))) + geom_histogram(alpha = 1, position = \"identity\", binwidth = 2) + facet_grid(rows = vars(risk_level)) +\n",
    "    labs(x = \"Diastolic blood pressure\", title = \"Diastolic blood pressure vs risk level\", fill = \"Risk Level\") + theme(text = element_text(size = 20))\n",
    "maternal_health_train |>\n",
    "    ggplot(aes(x = blood_glucose, fill = as_factor(risk_level))) + geom_histogram(alpha = 1, position = \"identity\", binwidth = 0.5) + facet_grid(rows = vars(risk_level)) +\n",
    "    labs(x = \"Blood Glucose\", title = \"Blood Glucose vs risk level\", fill = \"Risk Level\") + theme(text = element_text(size = 20))\n",
    "maternal_health_train |>\n",
    "    ggplot(aes(x = body_temperature, fill = as_factor(risk_level))) + geom_histogram(alpha = 1, position = \"identity\", binwidth = 0.5) + facet_grid(rows = vars(risk_level)) +\n",
    "    labs(x = \"Body Temperature\", title = \"Body Temperature vs risk level\", fill = \"Risk Level\") + theme(text = element_text(size = 20))\n",
    "maternal_health_train |>\n",
    "    ggplot(aes(x = heart_rate, fill = as_factor(risk_level))) + geom_histogram(alpha = 1, position = \"identity\", binwidth = 1) + facet_grid(rows = vars(risk_level)) +\n",
    "    labs(x = \"Heart Rate\", title = \"Heart Rate vs risk level\", fill = \"Risk Level\") + theme(text = element_text(size = 20))\n",
    "\n",
    "maternal_health_train |> ggplot(aes(x = age, y = diastolic_blood_pressure, color = risk_level)) + geom_point() + theme(text = element_text(size = 20))\n",
    "maternal_health_train |> ggplot(aes(x = age, y = blood_glucose, color = risk_level)) + geom_point() + theme(text = element_text(size = 20))\n",
    "maternal_health_train |> ggplot(aes(x = blood_glucose, y = heart_rate, color = risk_level)) + geom_point() + theme(text = element_text(size = 20))\n",
    "maternal_health_train |> ggplot(aes(x = age, y = blood_glucose, color = risk_level)) + geom_point() + theme(text = element_text(size = 20))"
   ]
  },
  {
   "cell_type": "markdown",
   "metadata": {},
   "source": [
    "# Method\n",
    "\n",
    "## **\\<\\<INSERT METHOD HERE\\>\\>**"
   ]
  }
 ],
 "metadata": {
  "kernelspec": {
   "display_name": "R",
   "language": "R",
   "name": "ir"
  },
  "language_info": {
   "codemirror_mode": "r",
   "file_extension": ".r",
   "mimetype": "text/x-r-source",
   "name": "R",
   "pygments_lexer": "r",
   "version": "4.2.3"
  }
 },
 "nbformat": 4,
 "nbformat_minor": 2
}
