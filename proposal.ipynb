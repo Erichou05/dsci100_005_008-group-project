{
 "cells": [
  {
   "cell_type": "markdown",
   "metadata": {},
   "source": [
    "# *Maternal Mortality Risk Analysis: Exploring Factors Impacting Maternal Well-being*"
   ]
  },
  {
   "cell_type": "markdown",
   "metadata": {},
   "source": [
    "## Introduction\n",
    "\n",
    "Maternal health risk can be defined as the health of a mother during pregnancy, childbirth and postnatal period (World Health Organization, 2019). 287,000 mothers died during and after pregnancy and childbirth in 2020. These deaths can be caused by many different variables so being able to create a predictive model using all these variables will be beneficial in preparing for and preventing these deaths. \n",
    "\n",
    "The predictive question we will try to answer is: Given a patient’s score on 6 different numerical variables (age, systolic blood pressure, diastolic blood pressure, blood glucose, body temperature, heart rate), can we predict the risk level of a patient as low, medium, or high? Furthermore, we will question which factors are most strongly associated with the likelihood of highest maternal risk in the dataset.\n",
    "\n",
    "Our dataset has seven variables, one of them being the risk level we are trying to predict. The other 6 variables are age, systolic blood pressure, diastolic blood pressure, blood glucose, body temperature and heart race. These variables can be used as predictor variables for our final prediction. \n",
    "\n",
    "Our database is https://archive.ics.uci.edu/dataset/863/maternal+health+risk\n",
    "\n",
    " This data set has 7 variables. 6 of them are\n",
    "- age\n",
    "- systolic blood pressure\n",
    "- diastolic blood pressure\n",
    "- blood glucose\n",
    "- body temperature\n",
    "- heart rate\n"
   ]
  },
  {
   "cell_type": "markdown",
   "metadata": {},
   "source": [
    "## Preliminary exporatory Data Analysis"
   ]
  },
  {
   "cell_type": "code",
   "execution_count": 2,
   "metadata": {
    "vscode": {
     "languageId": "r"
    }
   },
   "outputs": [
    {
     "name": "stderr",
     "output_type": "stream",
     "text": [
      "── \u001b[1mAttaching core tidyverse packages\u001b[22m ──────────────────────── tidyverse 2.0.0 ──\n",
      "\u001b[32m✔\u001b[39m \u001b[34mdplyr    \u001b[39m 1.1.4     \u001b[32m✔\u001b[39m \u001b[34mreadr    \u001b[39m 2.1.5\n",
      "\u001b[32m✔\u001b[39m \u001b[34mforcats  \u001b[39m 1.0.0     \u001b[32m✔\u001b[39m \u001b[34mstringr  \u001b[39m 1.5.1\n",
      "\u001b[32m✔\u001b[39m \u001b[34mggplot2  \u001b[39m 3.5.0     \u001b[32m✔\u001b[39m \u001b[34mtibble   \u001b[39m 3.2.1\n",
      "\u001b[32m✔\u001b[39m \u001b[34mlubridate\u001b[39m 1.9.3     \u001b[32m✔\u001b[39m \u001b[34mtidyr    \u001b[39m 1.3.1\n",
      "\u001b[32m✔\u001b[39m \u001b[34mpurrr    \u001b[39m 1.0.2     \n",
      "── \u001b[1mConflicts\u001b[22m ────────────────────────────────────────── tidyverse_conflicts() ──\n",
      "\u001b[31m✖\u001b[39m \u001b[34mdplyr\u001b[39m::\u001b[32mfilter()\u001b[39m         masks \u001b[34mstats\u001b[39m::filter()\n",
      "\u001b[31m✖\u001b[39m \u001b[34mreadr\u001b[39m::\u001b[32mguess_encoding()\u001b[39m masks \u001b[34mrvest\u001b[39m::guess_encoding()\n",
      "\u001b[31m✖\u001b[39m \u001b[34mdplyr\u001b[39m::\u001b[32mlag()\u001b[39m            masks \u001b[34mstats\u001b[39m::lag()\n",
      "\u001b[36mℹ\u001b[39m Use the conflicted package (\u001b[3m\u001b[34m<http://conflicted.r-lib.org/>\u001b[39m\u001b[23m) to force all conflicts to become errors\n",
      "── \u001b[1mAttaching packages\u001b[22m ────────────────────────────────────── tidymodels 1.1.1 ──\n",
      "\n",
      "\u001b[32m✔\u001b[39m \u001b[34mbroom       \u001b[39m 1.0.5      \u001b[32m✔\u001b[39m \u001b[34mrsample     \u001b[39m 1.2.0 \n",
      "\u001b[32m✔\u001b[39m \u001b[34mdials       \u001b[39m 1.2.1      \u001b[32m✔\u001b[39m \u001b[34mtune        \u001b[39m 1.1.2 \n",
      "\u001b[32m✔\u001b[39m \u001b[34minfer       \u001b[39m 1.0.6      \u001b[32m✔\u001b[39m \u001b[34mworkflows   \u001b[39m 1.1.4 \n",
      "\u001b[32m✔\u001b[39m \u001b[34mmodeldata   \u001b[39m 1.3.0      \u001b[32m✔\u001b[39m \u001b[34mworkflowsets\u001b[39m 1.0.1 \n",
      "\u001b[32m✔\u001b[39m \u001b[34mparsnip     \u001b[39m 1.2.0      \u001b[32m✔\u001b[39m \u001b[34myardstick   \u001b[39m 1.3.0 \n",
      "\u001b[32m✔\u001b[39m \u001b[34mrecipes     \u001b[39m 1.0.10     \n",
      "\n",
      "── \u001b[1mConflicts\u001b[22m ───────────────────────────────────────── tidymodels_conflicts() ──\n",
      "\u001b[31m✖\u001b[39m \u001b[34mscales\u001b[39m::\u001b[32mdiscard()\u001b[39m masks \u001b[34mpurrr\u001b[39m::discard()\n",
      "\u001b[31m✖\u001b[39m \u001b[34mdplyr\u001b[39m::\u001b[32mfilter()\u001b[39m   masks \u001b[34mstats\u001b[39m::filter()\n",
      "\u001b[31m✖\u001b[39m \u001b[34mrecipes\u001b[39m::\u001b[32mfixed()\u001b[39m  masks \u001b[34mstringr\u001b[39m::fixed()\n",
      "\u001b[31m✖\u001b[39m \u001b[34mdplyr\u001b[39m::\u001b[32mlag()\u001b[39m      masks \u001b[34mstats\u001b[39m::lag()\n",
      "\u001b[31m✖\u001b[39m \u001b[34myardstick\u001b[39m::\u001b[32mspec()\u001b[39m masks \u001b[34mreadr\u001b[39m::spec()\n",
      "\u001b[31m✖\u001b[39m \u001b[34mrecipes\u001b[39m::\u001b[32mstep()\u001b[39m   masks \u001b[34mstats\u001b[39m::step()\n",
      "\u001b[34m•\u001b[39m Learn how to get started at \u001b[32mhttps://www.tidymodels.org/start/\u001b[39m\n",
      "\n"
     ]
    }
   ],
   "source": [
    "# Import necessary libraries\n",
    "\n",
    "library(rvest)\n",
    "library(tidyverse)\n",
    "library(tidymodels)\n",
    "library(repr)"
   ]
  },
  {
   "cell_type": "markdown",
   "metadata": {},
   "source": [
    "### Reading the dataset from the web into R\n",
    "\n",
    "#### General preface\n",
    "\n",
    "The dataset we have chosen is hosted on a website which does not have a supported R API.\n",
    "\n",
    "The file is stored in .zip format so we cannot pass the file url directly to `read_csv()`.\n",
    "\n",
    "Instead, we will download the zip, extract the csv and then pass it to `read_csv()`\n",
    "\n",
    "#### General Scraping procedure\n",
    "\n",
    "**Part 1**\n",
    "- Retrieve source code of website\n",
    "- Use CSS selectors to get the `<a></a>` elment that contains the link to the file\n",
    "- Extract the url which is held in the `href` attribute of the `<a></a>` tag\n",
    "\n",
    "**Part 2**\n",
    "- Download the dataset file pointed to by the url\n",
    "- Extract the .zip file containing the dataset csv\n",
    "- Read the csv file into R"
   ]
  },
  {
   "cell_type": "code",
   "execution_count": 3,
   "metadata": {
    "vscode": {
     "languageId": "r"
    }
   },
   "outputs": [
    {
     "data": {
      "text/html": [
       "'https://archive.ics.uci.edu/static/public/863/maternal+health+risk.zip'"
      ],
      "text/latex": [
       "'https://archive.ics.uci.edu/static/public/863/maternal+health+risk.zip'"
      ],
      "text/markdown": [
       "'https://archive.ics.uci.edu/static/public/863/maternal+health+risk.zip'"
      ],
      "text/plain": [
       "[1] \"https://archive.ics.uci.edu/static/public/863/maternal+health+risk.zip\""
      ]
     },
     "metadata": {},
     "output_type": "display_data"
    }
   ],
   "source": [
    "# Part 1\n",
    "\n",
    "dataset_website_root <- \"https://archive.ics.uci.edu\"\n",
    "dataset_webpage_url <- \"/dataset/863/maternal+health+risk\"\n",
    "\n",
    "page = paste(dataset_website_root, dataset_webpage_url, sep = \"\") |>\n",
    "    read_html()   # Contains html source code of website\n",
    "\n",
    "selectors <- paste(\".btn-primary.btn.w-full.text-primary-content\", sep = \",\")    # CSS selectors created inspecting the download button \n",
    "\n",
    "population_nodes <- html_nodes(page, selectors)  # Contains all the elements that match the CSS selector criteria (only the button we want)\n",
    "\n",
    "file_url <- population_nodes |> html_attr(\"href\")    # Gets the href of the download button (filepath of dataset file relative to the website root)\n",
    "\n",
    "download_url <- paste(dataset_website_root, file_url, sep = \"\") # Url of webpage + path to file\n",
    "\n",
    "download_url"
   ]
  },
  {
   "cell_type": "code",
   "execution_count": 13,
   "metadata": {
    "vscode": {
     "languageId": "r"
    }
   },
   "outputs": [
    {
     "data": {
      "text/html": [
       "TRUE"
      ],
      "text/latex": [
       "TRUE"
      ],
      "text/markdown": [
       "TRUE"
      ],
      "text/plain": [
       "[1] TRUE"
      ]
     },
     "metadata": {},
     "output_type": "display_data"
    },
    {
     "name": "stderr",
     "output_type": "stream",
     "text": [
      "\u001b[1mRows: \u001b[22m\u001b[34m1014\u001b[39m \u001b[1mColumns: \u001b[22m\u001b[34m7\u001b[39m\n",
      "\u001b[36m──\u001b[39m \u001b[1mColumn specification\u001b[22m \u001b[36m────────────────────────────────────────────────────────\u001b[39m\n",
      "\u001b[1mDelimiter:\u001b[22m \",\"\n",
      "\u001b[31mchr\u001b[39m (1): RiskLevel\n",
      "\u001b[32mdbl\u001b[39m (6): Age, SystolicBP, DiastolicBP, BS, BodyTemp, HeartRate\n",
      "\n",
      "\u001b[36mℹ\u001b[39m Use `spec()` to retrieve the full column specification for this data.\n",
      "\u001b[36mℹ\u001b[39m Specify the column types or set `show_col_types = FALSE` to quiet this message.\n"
     ]
    }
   ],
   "source": [
    "# Part 2\n",
    "\n",
    "temp <- tempfile() # Create a temporary file to store the zip\n",
    "\n",
    "download.file(download_url,temp) # Download the zip file from the website and store it in the temporary file\n",
    "\n",
    "original_name <- unzip(temp) # Extract and save the csv file from the zip\n",
    "unlink(temp) # Remove the temporary zip file\n",
    "\n",
    "new_filename <- \"maternal_health.csv\" # improved filename removing whitespaces\n",
    "\n",
    "file.rename(original_name, new_filename) # Rename the file to be easier to access and removing whitespace in the original name\n",
    "\n",
    "maternal_health <- read_csv(new_filename) # Read the csv file into R"
   ]
  },
  {
   "cell_type": "markdown",
   "metadata": {},
   "source": [
    "### Using local files\n",
    "If the data has already been downloaded to our local machine, it can simply be read using the `read_*` function on the filepath, depending on the type of file (csv in our case hence `read_csv()`)"
   ]
  },
  {
   "cell_type": "code",
   "execution_count": 14,
   "metadata": {
    "vscode": {
     "languageId": "r"
    }
   },
   "outputs": [
    {
     "name": "stderr",
     "output_type": "stream",
     "text": [
      "\u001b[1mRows: \u001b[22m\u001b[34m1014\u001b[39m \u001b[1mColumns: \u001b[22m\u001b[34m7\u001b[39m\n",
      "\u001b[36m──\u001b[39m \u001b[1mColumn specification\u001b[22m \u001b[36m────────────────────────────────────────────────────────\u001b[39m\n",
      "\u001b[1mDelimiter:\u001b[22m \",\"\n",
      "\u001b[31mchr\u001b[39m (1): RiskLevel\n",
      "\u001b[32mdbl\u001b[39m (6): Age, SystolicBP, DiastolicBP, BS, BodyTemp, HeartRate\n",
      "\n",
      "\u001b[36mℹ\u001b[39m Use `spec()` to retrieve the full column specification for this data.\n",
      "\u001b[36mℹ\u001b[39m Specify the column types or set `show_col_types = FALSE` to quiet this message.\n"
     ]
    }
   ],
   "source": [
    "maternal_health <- read_csv(\"maternal_health.csv\")"
   ]
  },
  {
   "cell_type": "markdown",
   "metadata": {},
   "source": [
    "### Cleaning and Wrangling the data\n",
    "\n",
    "#### Tidying data\n",
    "\n",
    "Our dataset is already tidy since it fulfils the 3 criteria for tidy data.\n",
    "\n",
    "#### Splitting the data into training and test data\n",
    "\n",
    "We will split the data into two parts. 75% will be used as training data and 25% will be used as test data."
   ]
  },
  {
   "cell_type": "code",
   "execution_count": 15,
   "metadata": {
    "vscode": {
     "languageId": "r"
    }
   },
   "outputs": [
    {
     "name": "stdout",
     "output_type": "stream",
     "text": [
      "Rows: 760\n",
      "Columns: 7\n",
      "$ age                      \u001b[3m\u001b[90m<dbl>\u001b[39m\u001b[23m 25, 35, 30, 23, 42, 50, 25, 40, 25, 23, 50, 4…\n",
      "$ systolic_blood_pressure  \u001b[3m\u001b[90m<dbl>\u001b[39m\u001b[23m 130, 140, 140, 140, 130, 140, 140, 140, 140, …\n",
      "$ diastolic_blood_pressure \u001b[3m\u001b[90m<dbl>\u001b[39m\u001b[23m 80, 90, 85, 80, 80, 90, 100, 100, 100, 90, 90…\n",
      "$ blood_glucose            \u001b[3m\u001b[90m<dbl>\u001b[39m\u001b[23m 15.00, 13.00, 7.00, 7.01, 18.00, 15.00, 7.01,…\n",
      "$ body_temperature         \u001b[3m\u001b[90m<dbl>\u001b[39m\u001b[23m 98, 98, 98, 98, 98, 98, 98, 98, 98, 98, 98, 9…\n",
      "$ heart_rate               \u001b[3m\u001b[90m<dbl>\u001b[39m\u001b[23m 86, 70, 70, 70, 70, 90, 80, 90, 80, 70, 90, 9…\n",
      "$ risk_level               \u001b[3m\u001b[90m<fct>\u001b[39m\u001b[23m high, high, high, high, high, high, high, hig…\n"
     ]
    }
   ],
   "source": [
    "# Renaming Columns to make them easier to manage\n",
    "new_col_names <- c(\"age\", \n",
    "                    \"systolic_blood_pressure\", \n",
    "                    \"diastolic_blood_pressure\", \n",
    "                    \"blood_glucose\", \n",
    "                    \"body_temperature\", \n",
    "                    \"heart_rate\", \n",
    "                    \"risk_level\")\n",
    "old_col_names <- colnames(maternal_health)\n",
    "maternal_health <- maternal_health |> \n",
    "    rename_at(old_col_names, ~ new_col_names)\n",
    "\n",
    "# Settng risk_level as the factor\n",
    "maternal_health <- maternal_health |> \n",
    "    mutate(risk_level = as_factor(risk_level)) |>\n",
    "    mutate(risk_level = fct_recode(risk_level, \"high\" = \"high risk\", \"low\" = \"low risk\", \"mid\" = \"mid risk\"))\n",
    "\n",
    "# Splitting the data \n",
    "\n",
    "maternal_health_split <- maternal_health |>\n",
    "    initial_split(prop = 0.75, strata = risk_level) # Split the data 3:1\n",
    "\n",
    "\n",
    "maternal_health_train <- training(maternal_health_split) # Assign the training data to maternal_health_train\n",
    "maternal_health_test <-testing(maternal_health_split) # Assign the testing data to maternal_health_test\n",
    "\n",
    "glimpse(maternal_health_train)"
   ]
  },
  {
   "cell_type": "markdown",
   "metadata": {},
   "source": [
    "### Summarizing the data using training data"
   ]
  },
  {
   "cell_type": "markdown",
   "metadata": {},
   "source": [
    "We first show a summary of the number and percentage of the three categories, high risk, low risk and medium risk.\n",
    "\n",
    "Secondly, we show a table of the mean values for all our variables"
   ]
  },
  {
   "cell_type": "code",
   "execution_count": 16,
   "metadata": {
    "vscode": {
     "languageId": "r"
    }
   },
   "outputs": [],
   "source": [
    "total_number <- nrow(maternal_health_train)\n",
    "\n",
    "maternal_health_count_categories <- maternal_health_train |>\n",
    "    group_by(risk_level) |>\n",
    "    summarize(count = n(), percentage = round((n() / total_number) * 100))\n",
    "\n",
    "maternal_health_variable_means = maternal_health_train |>\n",
    "    summarize(across(age:heart_rate, \\(x) mean(x, na.rm = TRUE)))"
   ]
  },
  {
   "cell_type": "markdown",
   "metadata": {},
   "source": [
    "#### Summary of the distribution of high risk, low risk and medium risk for maternal mortality "
   ]
  },
  {
   "cell_type": "code",
   "execution_count": 17,
   "metadata": {
    "vscode": {
     "languageId": "r"
    }
   },
   "outputs": [
    {
     "data": {
      "text/html": [
       "<table class=\"dataframe\">\n",
       "<caption>A tibble: 3 × 3</caption>\n",
       "<thead>\n",
       "\t<tr><th scope=col>risk_level</th><th scope=col>count</th><th scope=col>percentage</th></tr>\n",
       "\t<tr><th scope=col>&lt;fct&gt;</th><th scope=col>&lt;int&gt;</th><th scope=col>&lt;dbl&gt;</th></tr>\n",
       "</thead>\n",
       "<tbody>\n",
       "\t<tr><td>high</td><td>204</td><td>27</td></tr>\n",
       "\t<tr><td>low </td><td>304</td><td>40</td></tr>\n",
       "\t<tr><td>mid </td><td>252</td><td>33</td></tr>\n",
       "</tbody>\n",
       "</table>\n"
      ],
      "text/latex": [
       "A tibble: 3 × 3\n",
       "\\begin{tabular}{lll}\n",
       " risk\\_level & count & percentage\\\\\n",
       " <fct> & <int> & <dbl>\\\\\n",
       "\\hline\n",
       "\t high & 204 & 27\\\\\n",
       "\t low  & 304 & 40\\\\\n",
       "\t mid  & 252 & 33\\\\\n",
       "\\end{tabular}\n"
      ],
      "text/markdown": [
       "\n",
       "A tibble: 3 × 3\n",
       "\n",
       "| risk_level &lt;fct&gt; | count &lt;int&gt; | percentage &lt;dbl&gt; |\n",
       "|---|---|---|\n",
       "| high | 204 | 27 |\n",
       "| low  | 304 | 40 |\n",
       "| mid  | 252 | 33 |\n",
       "\n"
      ],
      "text/plain": [
       "  risk_level count percentage\n",
       "1 high       204   27        \n",
       "2 low        304   40        \n",
       "3 mid        252   33        "
      ]
     },
     "metadata": {},
     "output_type": "display_data"
    }
   ],
   "source": [
    "maternal_health_count_categories"
   ]
  },
  {
   "cell_type": "markdown",
   "metadata": {},
   "source": [
    "#### Summary of the mean of the different variables affecting maternal mortality"
   ]
  },
  {
   "cell_type": "code",
   "execution_count": 18,
   "metadata": {
    "vscode": {
     "languageId": "r"
    }
   },
   "outputs": [
    {
     "data": {
      "text/html": [
       "<table class=\"dataframe\">\n",
       "<caption>A tibble: 1 × 6</caption>\n",
       "<thead>\n",
       "\t<tr><th scope=col>age</th><th scope=col>systolic_blood_pressure</th><th scope=col>diastolic_blood_pressure</th><th scope=col>blood_glucose</th><th scope=col>body_temperature</th><th scope=col>heart_rate</th></tr>\n",
       "\t<tr><th scope=col>&lt;dbl&gt;</th><th scope=col>&lt;dbl&gt;</th><th scope=col>&lt;dbl&gt;</th><th scope=col>&lt;dbl&gt;</th><th scope=col>&lt;dbl&gt;</th><th scope=col>&lt;dbl&gt;</th></tr>\n",
       "</thead>\n",
       "<tbody>\n",
       "\t<tr><td>29.95658</td><td>113.4671</td><td>76.53158</td><td>8.750803</td><td>98.62947</td><td>74.24474</td></tr>\n",
       "</tbody>\n",
       "</table>\n"
      ],
      "text/latex": [
       "A tibble: 1 × 6\n",
       "\\begin{tabular}{llllll}\n",
       " age & systolic\\_blood\\_pressure & diastolic\\_blood\\_pressure & blood\\_glucose & body\\_temperature & heart\\_rate\\\\\n",
       " <dbl> & <dbl> & <dbl> & <dbl> & <dbl> & <dbl>\\\\\n",
       "\\hline\n",
       "\t 29.95658 & 113.4671 & 76.53158 & 8.750803 & 98.62947 & 74.24474\\\\\n",
       "\\end{tabular}\n"
      ],
      "text/markdown": [
       "\n",
       "A tibble: 1 × 6\n",
       "\n",
       "| age &lt;dbl&gt; | systolic_blood_pressure &lt;dbl&gt; | diastolic_blood_pressure &lt;dbl&gt; | blood_glucose &lt;dbl&gt; | body_temperature &lt;dbl&gt; | heart_rate &lt;dbl&gt; |\n",
       "|---|---|---|---|---|---|\n",
       "| 29.95658 | 113.4671 | 76.53158 | 8.750803 | 98.62947 | 74.24474 |\n",
       "\n"
      ],
      "text/plain": [
       "  age      systolic_blood_pressure diastolic_blood_pressure blood_glucose\n",
       "1 29.95658 113.4671                76.53158                 8.750803     \n",
       "  body_temperature heart_rate\n",
       "1 98.62947         74.24474  "
      ]
     },
     "metadata": {},
     "output_type": "display_data"
    }
   ],
   "source": [
    "maternal_health_variable_means "
   ]
  },
  {
   "cell_type": "markdown",
   "metadata": {},
   "source": [
    "### Visualisation using training data"
   ]
  },
  {
   "cell_type": "markdown",
   "metadata": {},
   "source": [
    "We have made graphs to illustrate the variables and how they have an affect on the category."
   ]
  },
  {
   "cell_type": "code",
   "execution_count": null,
   "metadata": {
    "vscode": {
     "languageId": "r"
    }
   },
   "outputs": [],
   "source": [
    "options(repr.plot.width = 8, repr.plot.height = 4) \n",
    "\n",
    "maternal_health_train |>\n",
    "    ggplot(aes(x = age, fill = as_factor(risk_level))) + geom_histogram(alpha = 1, position = \"identity\", binwidth = 1) + facet_grid(rows = vars(risk_level)) +\n",
    "    labs(x = \"Age\", title = \"Age vs risk level\", fill = \"Risk Level\") + theme(text = element_text(size = 20))\n",
    "maternal_health_train |>\n",
    "    ggplot(aes(x = systolic_blood_pressure, fill = as_factor(risk_level))) + geom_histogram(alpha = 1, position = \"identity\", binwidth = 3) + facet_grid(rows = vars(risk_level)) +\n",
    "    labs(x = \"Systolic blood pressure\", title = \"Systolic blood pressure vs risk level\", fill = \"Risk Level\") + theme(text = element_text(size = 20))\n",
    "maternal_health_train |>\n",
    "    ggplot(aes(x = diastolic_blood_pressure, fill = as_factor(risk_level))) + geom_histogram(alpha = 1, position = \"identity\", binwidth = 2) + facet_grid(rows = vars(risk_level)) +\n",
    "    labs(x = \"Diastolic blood pressure\", title = \"Diastolic blood pressure vs risk level\", fill = \"Risk Level\") + theme(text = element_text(size = 20))\n",
    "maternal_health_train |>\n",
    "    ggplot(aes(x = blood_glucose, fill = as_factor(risk_level))) + geom_histogram(alpha = 1, position = \"identity\", binwidth = 0.5) + facet_grid(rows = vars(risk_level)) +\n",
    "    labs(x = \"Blood Glucose\", title = \"Blood Glucose vs risk level\", fill = \"Risk Level\") + theme(text = element_text(size = 20))\n",
    "maternal_health_train |>\n",
    "    ggplot(aes(x = body_temperature, fill = as_factor(risk_level))) + geom_histogram(alpha = 1, position = \"identity\", binwidth = 0.5) + facet_grid(rows = vars(risk_level)) +\n",
    "    labs(x = \"Body Temperature\", title = \"Body Temperature vs risk level\", fill = \"Risk Level\") + theme(text = element_text(size = 20))\n",
    "maternal_health_train |>\n",
    "    ggplot(aes(x = heart_rate, fill = as_factor(risk_level))) + geom_histogram(alpha = 1, position = \"identity\", binwidth = 1) + facet_grid(rows = vars(risk_level)) +\n",
    "    labs(x = \"Heart Rate\", title = \"Heart Rate vs risk level\", fill = \"Risk Level\") + theme(text = element_text(size = 20))\n",
    "\n",
    "maternal_health_train |> ggplot(aes(x = age, y = diastolic_blood_pressure, color = risk_level)) + geom_point() + theme(text = element_text(size = 20))\n",
    "maternal_health_train |> ggplot(aes(x = age, y = blood_glucose, color = risk_level)) + geom_point() + theme(text = element_text(size = 20))\n",
    "maternal_health_train |> ggplot(aes(x = blood_glucose, y = heart_rate, color = risk_level)) + geom_point() + theme(text = element_text(size = 20))\n",
    "maternal_health_train |> ggplot(aes(x = age, y = blood_glucose, color = risk_level)) + geom_point() + theme(text = element_text(size = 20))"
   ]
  },
  {
   "cell_type": "markdown",
   "metadata": {},
   "source": [
    "# Method\n",
    "\n",
    "As our original dataset contains six numerical variables that may be used as predictors, the first step of our analysis after exploration and wrangling is to perform forward selection to select the most contributive predictor variables to use in our model. This process involves starting with a model with no predictors and building up candidate models by sequentially adding predictors until finally selecting a model that has the best balance between accuracy and simplicity. With m=6 possible predictor variables, we will end up training 1/2 m(m+1) = 21 models. After running forward selection, we will fit a predictive model using the K-nearest neighbors algorithm and visualize the results through a facet grid of scatter plots. The axes will reflect the most contributive predictor variables determined by forward selection. Finally, our method is subject to change as we progress through the course and learn new concepts that may inform the data analysis we aim to conduct.\n"
   ]
  },
  {
   "cell_type": "markdown",
   "metadata": {},
   "source": [
    "# Expected outcomes and significance\n",
    "#### What do you expect to find?\n",
    "\n",
    "We anticipate finding patterns and relationships between the six numerical variables (age, systolic blood pressure, diastolic blood pressure, blood glucose, body temperature, heart rate) and the risk levels of maternal health. Specifically, we expect to identify combinations of these variables that are strongly associated with higher maternal health risk levels.\n",
    "\n",
    "#### What impact could such findings have?\n",
    "\n",
    "The findings could have significant implications for maternal healthcare providers. By accurately predicting maternal health risk levels, healthcare providers can identify high-risk patients earlier in their pregnancies and provide appropriate care plans. This could potentially lead to the creation of automated risk assessment, a reduction in maternal mortality rates, and improved maternal health outcomes.\n",
    "\n",
    "#### What future questions could this lead to?\n",
    "\n",
    "The findings could lead to several future research questions for exploration:\n",
    "\n",
    "- How can we refine and optimize existing predictive models to improve their accuracy across diverse maternal populations?\n",
    "- Are there additional risk factors that should be included in the predictive model to improve its accuracy?\n",
    "- ⁤Could there exist interactions or nonlinear relationships among variables which could be more effectively captured using advanced modeling techniques? ⁤\n",
    "\n",
    "\n"
   ]
  },
  {
   "cell_type": "markdown",
   "metadata": {},
   "source": []
  }
 ],
 "metadata": {
  "kernelspec": {
   "display_name": "R",
   "language": "R",
   "name": "ir"
  },
  "language_info": {
   "codemirror_mode": "r",
   "file_extension": ".r",
   "mimetype": "text/x-r-source",
   "name": "R",
   "pygments_lexer": "r",
   "version": "4.2.3"
  }
 },
 "nbformat": 4,
 "nbformat_minor": 2
}
